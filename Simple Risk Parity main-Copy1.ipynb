{
 "cells": [
  {
   "cell_type": "markdown",
   "metadata": {},
   "source": [
    "Risk parity project.\n",
    "\n",
    "This is the main class design notebook."
   ]
  },
  {
   "cell_type": "markdown",
   "metadata": {},
   "source": [
    "# Importing relevant libraries"
   ]
  },
  {
   "cell_type": "code",
   "execution_count": 1,
   "metadata": {},
   "outputs": [],
   "source": [
    "import pandas as pd\n",
    "import numpy as np\n",
    "import sympy\n",
    "from scipy.optimize import minimize\n",
    "import scipy.linalg as la"
   ]
  },
  {
   "cell_type": "markdown",
   "metadata": {},
   "source": [
    "Ideal asset classes to balance risk:\n",
    "1. Global equities\n",
    "2. Commodities\n",
    "3. TIPS\n",
    "4. Treasuries\n",
    "i.e. n_sources=4\n",
    "\n",
    "But for now, testing idea with 4 stocks:\n",
    "1. Apple (AAPL)\n",
    "2. AMD (AMD)\n",
    "3. Amazon (AMZN)\n",
    "4. Salesforce (CRM)"
   ]
  },
  {
   "cell_type": "code",
   "execution_count": 24,
   "metadata": {},
   "outputs": [],
   "source": [
    "# Testing idea\n",
    "# 4 assets: AAPL, AMD, AMZN, CRM\n",
    "n_sources = 4\n",
    "corr_matrix = np.array([[1.00, 0.55, 0.21, 0.00],\n",
    "                         [0.55, 1.00, 0.17, -0.08],\n",
    "                         [0.21, 0.17, 1.00, 0.67],\n",
    "                         [0.00, -0.08, 0.67, 1.00]])\n",
    "weights = [] # This is the outcome\n",
    "cov_mat = np.array([[0.7691, 0.4878, 0.2874, 0.2892],\n",
    "                   [0.4878, 3.7176, 0.7296, 0.5283],\n",
    "                   [0.2874, 0.7296, 0.9343, 0.3868],\n",
    "                   [0.2892, 0.5283, 0.3868, 0.8909]])\n",
    "b_T = np.array([1/4, 1/4, 1/4, 1/4])\n",
    "w_test = np.array([0.1, 0.4, 0.30, 0.20])\n",
    "stocks = ['AAPL', 'AMD', 'AMZN', 'CRM']"
   ]
  },
  {
   "cell_type": "code",
   "execution_count": 114,
   "metadata": {},
   "outputs": [
    {
     "name": "stdout",
     "output_type": "stream",
     "text": [
      "[0.25 0.25 0.25 0.25]\n",
      "(4,)\n",
      "(4,)\n"
     ]
    }
   ],
   "source": [
    "# Testing array input for class\n",
    "# w_guess=np.full((cov_mat.shape[0]), 1/cov_mat.shape[0])\n",
    "# print(w_guess)\n",
    "# print(w_guess.shape)\n",
    "# print(w_test.shape)"
   ]
  },
  {
   "cell_type": "markdown",
   "metadata": {},
   "source": [
    "# Class design - Convex formulation"
   ]
  },
  {
   "cell_type": "markdown",
   "metadata": {},
   "source": [
    "Problem:\\\n",
    "\\\n",
    "$minimize_{\\mathbf{x}\\geq0} \\; \\; \\frac{1}{2}\\mathbf{x}^T\\Sigma\\mathbf{x} - \\mathbf{b}\\log{(\\mathbf{x})} $ \\\n",
    "\\\n",
    "Whereby:\\\n",
    "\\\n",
    "$\\mathbf{x} = \\frac{\\mathbf{w}}{\\sqrt{\\mathbf{w}^T\\Sigma\\mathbf{w}}}$"
   ]
  },
  {
   "cell_type": "code",
   "execution_count": 38,
   "metadata": {},
   "outputs": [],
   "source": [
    "# sol = minimize(RiskParity.optimise, w_init_guess, method='SLSQP', \n",
    "#                options={'disp': True}, constraints=cons)\n",
    "class RiskParity():\n",
    "    from scipy.optimize import minimize\n",
    "    import numpy as np\n",
    "    def __init__(self, \n",
    "                 cov_mat,\n",
    "                 assets=None,\n",
    "                 w_guess=np.full((cov_mat.shape[0]), 1/cov_mat.shape[0]), \n",
    "                 method='SLSQP'):\n",
    "        \"\"\"Inserting data into class\"\"\"\n",
    "        self.cov_mat = cov_mat\n",
    "        self.assets = assets\n",
    "        self.w_guess = w_guess\n",
    "        self.method = method\n",
    "        \n",
    "    def risk_func(self, w=None):\n",
    "        \"\"\"Main function to minimise\"\"\"\n",
    "        # Start off with vector x\n",
    "        if w is None:\n",
    "            w = self.w_guess\n",
    "        b_T = 1/len(w)\n",
    "        w_T = w.T\n",
    "        x = w / (np.sqrt(w_T.dot(self.cov_mat).dot(w)))\n",
    "        # Then the main function\n",
    "        x_T = x.T\n",
    "        risk_func = 0.5*x_T.dot(self.cov_mat).dot(x) - b_T*(np.sum(np.log(x)))\n",
    "        self.risk_func_ = risk_func\n",
    "        return risk_func\n",
    "    \n",
    "    def optimize(self, assets=None):\n",
    "        \"\"\"Returns an risk parity asset allocation\"\"\"\n",
    "        \"\"\"Attribute: \n",
    "        - allocation_ -> Risk Parity allocation\n",
    "        - minimised_val_ -> Minimised risk function value\"\"\"\n",
    "        if assets is None:\n",
    "            assets=self.assets\n",
    "        opti_result = minimize(self.risk_func, self.w_guess, \n",
    "                               method=self.method)\n",
    "        allocation = opti_result.x / sum(opti_result.x)\n",
    "        print('Minimised convex risk function value: {:.4f}'.format(opti_result.fun))\n",
    "        for asset, weight in zip(assets, allocation):\n",
    "            print('{}: {:.4f}'.format(asset, weight))\n",
    "        self.allocation_ = allocation\n",
    "        self.minimised_val_ = opti_result.fun\n",
    "    \n",
    "    def risk_contribution(self):\n",
    "        pass\n",
    "    \n",
    "    def verify_risk_cont(self):\n",
    "        \"\"\"Verify that the risk contribution of each asset is similar\"\"\"\n",
    "        pass"
   ]
  },
  {
   "cell_type": "code",
   "execution_count": 39,
   "metadata": {},
   "outputs": [
    {
     "name": "stdout",
     "output_type": "stream",
     "text": [
      "<__main__.RiskParity object at 0x00000239E0E57C40>\n",
      "1.7310790938891176\n",
      "Minimised convex risk function value: 1.6578\n",
      "AAPL: 0.3119\n",
      "AMD: 0.1423\n",
      "AMZN: 0.2648\n",
      "CRM: 0.2809\n",
      "None\n",
      "[0.31191023 0.14232584 0.26481589 0.28094804]\n"
     ]
    },
    {
     "name": "stderr",
     "output_type": "stream",
     "text": [
      "<ipython-input-38-f91ca4d89f27>:27: RuntimeWarning: invalid value encountered in log\n",
      "  risk_func = 0.5*x_T.dot(self.cov_mat).dot(x) - b_T*(np.sum(np.log(x)))\n"
     ]
    }
   ],
   "source": [
    "convex = RiskParity(cov_mat, stocks)\n",
    "print(convex)\n",
    "print(convex.risk_func())\n",
    "print(convex.optimize())\n",
    "print(convex.allocation_)"
   ]
  },
  {
   "cell_type": "markdown",
   "metadata": {},
   "source": [
    "# Class design - Non-convex formulation"
   ]
  },
  {
   "cell_type": "code",
   "execution_count": 40,
   "metadata": {},
   "outputs": [],
   "source": [
    "class NonConvexRP(RiskParity):\n",
    "    def risk_func(self, w=None):\n",
    "        \"\"\"Modified optimise function for non-convex problem formulation\"\"\"\n",
    "        if w is None:\n",
    "            w = self.w_guess\n",
    "        n = len(w)\n",
    "        risks = w * (cov_mat.dot(w))\n",
    "        g = np.tile(risks, n) - np.repeat(risks, n)\n",
    "        risk_func = np.sum(g**2)\n",
    "        return risk_func\n",
    "\n",
    "# Something is wrong with this class, maybe the constraint is needed?\n",
    "# Or something is wrong "
   ]
  },
  {
   "cell_type": "code",
   "execution_count": 44,
   "metadata": {},
   "outputs": [
    {
     "name": "stdout",
     "output_type": "stream",
     "text": [
      "0.27084788398437504\n",
      "Minimised convex risk function value: 0.0000\n",
      "AAPL: 0.4819\n",
      "AMD: -0.3703\n",
      "AMZN: 0.4610\n",
      "CRM: 0.4274\n",
      "None\n"
     ]
    }
   ],
   "source": [
    "nonconvex_test = NonConvexRP(cov_mat, stocks)\n",
    "print(nonconvex_test.risk_func())\n",
    "print(nonconvex_test.optimize())\n",
    "\n",
    "# Something is wrong with this class"
   ]
  },
  {
   "cell_type": "code",
   "execution_count": 14,
   "metadata": {},
   "outputs": [
    {
     "name": "stdout",
     "output_type": "stream",
     "text": [
      "Optimization terminated successfully.    (Exit mode 0)\n",
      "            Current function value: 2.5151272122407648e-08\n",
      "            Iterations: 9\n",
      "            Function evaluations: 60\n",
      "            Gradient evaluations: 9\n"
     ]
    }
   ],
   "source": [
    "nonconvex_test = minimize(NonConvexRP.risk_func, w_init_guess, method='SLSQP', \n",
    "               options={'disp': True})"
   ]
  },
  {
   "cell_type": "code",
   "execution_count": 15,
   "metadata": {},
   "outputs": [
    {
     "name": "stdout",
     "output_type": "stream",
     "text": [
      "AAPL:\n",
      "0.31\n",
      "AMD:\n",
      "0.14\n",
      "AMZN:\n",
      "0.26\n",
      "CRM:\n",
      "0.28\n"
     ]
    }
   ],
   "source": [
    "for w, asset in zip(nonconvex_test.x, assets):\n",
    "    print('{}:\\n{:.2f}'.format(asset, w/np.sum(nonconvex_test.x)))"
   ]
  },
  {
   "cell_type": "code",
   "execution_count": 22,
   "metadata": {
    "scrolled": true
   },
   "outputs": [
    {
     "name": "stdout",
     "output_type": "stream",
     "text": [
      "0.00\n"
     ]
    }
   ],
   "source": [
    "rpp_w = nonconvex_test.x / np.sum(nonconvex_test.x)\n",
    "print('{:.2f}'.format(NonConvexRP.risk_func(rpp_w)))\n",
    "# This means that the difference in risk contribution between 2 assets is zero.\n",
    "# i.e. Risk Parity is achieved"
   ]
  },
  {
   "cell_type": "markdown",
   "metadata": {},
   "source": [
    "**Verifying risk parity - comparing risk contribution**"
   ]
  },
  {
   "cell_type": "code",
   "execution_count": null,
   "metadata": {},
   "outputs": [],
   "source": []
  }
 ],
 "metadata": {
  "kernelspec": {
   "display_name": "Python 3",
   "language": "python",
   "name": "python3"
  },
  "language_info": {
   "codemirror_mode": {
    "name": "ipython",
    "version": 3
   },
   "file_extension": ".py",
   "mimetype": "text/x-python",
   "name": "python",
   "nbconvert_exporter": "python",
   "pygments_lexer": "ipython3",
   "version": "3.8.3"
  }
 },
 "nbformat": 4,
 "nbformat_minor": 2
}
