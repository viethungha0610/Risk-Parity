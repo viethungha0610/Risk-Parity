{
 "cells": [
  {
   "cell_type": "markdown",
   "metadata": {},
   "source": [
    "# **Risk parity project - Main notebook**\n",
    "\n",
    "by [Viet Hung Ha](https://www.linkedin.com/in/viethungha0610/)\n",
    "\n",
    "\n",
    "This is the main class design notebook.\n",
    "\n",
    "This project is based on the body of research on Risk Parity Portfolio. My project idea and execution would not have existed without the research on this relatively niche topic.\n",
    "\n",
    "**Core References:**\n",
    "\n",
    "1. [Braga, 2016](https://www.springer.com/gp/book/9783319243801)\n",
    "2. [Palomar, 2019](https://palomar.home.ece.ust.hk/MAFS6010R_lectures/slides_risk_parity_portfolio.html#1)\n",
    "3. [Maillard, Roncalli and Teïletche, 2010](https://jpm.pm-research.com/content/36/4/60.abstract)"
   ]
  },
  {
   "cell_type": "markdown",
   "metadata": {},
   "source": [
    "**Vision:**\n",
    "\n",
    "The project will mainly have 3 components:\n",
    "1. **Back-end component**: to receive (or even gather) readily available data and generate input into the Risk Parity optimisation model\n",
    "\n",
    "2. **Core component**: responsible for the optimisation and generate asset allocation as output\n",
    "\n",
    "3. **Front-end component**: generate meaningful statistics and visualisation to inform investment decisions"
   ]
  },
  {
   "cell_type": "markdown",
   "metadata": {},
   "source": [
    "# Importing relevant libraries"
   ]
  },
  {
   "cell_type": "code",
   "execution_count": 1,
   "metadata": {},
   "outputs": [],
   "source": [
    "import pandas as pd\n",
    "import numpy as np\n",
    "import sympy\n",
    "from scipy.optimize import minimize\n",
    "import scipy.linalg as la"
   ]
  },
  {
   "cell_type": "markdown",
   "metadata": {},
   "source": [
    "Ideal asset classes to balance risk:\n",
    "1. Global equities\n",
    "2. Commodities\n",
    "3. TIPS\n",
    "4. Treasuries\n",
    "i.e. n_sources=4\n",
    "\n",
    "But for now, testing idea with 4 stocks:\n",
    "1. Apple (AAPL)\n",
    "2. AMD (AMD)\n",
    "3. Amazon (AMZN)\n",
    "4. Salesforce (CRM)"
   ]
  },
  {
   "cell_type": "markdown",
   "metadata": {},
   "source": [
    "# Class design - Convex formulation"
   ]
  },
  {
   "cell_type": "markdown",
   "metadata": {},
   "source": [
    "Problem:\\\n",
    "\\\n",
    "$minimize_{\\mathbf{x}\\geq0} \\; \\; \\frac{1}{2}\\mathbf{x}^T\\Sigma\\mathbf{x} - \\mathbf{b}\\log{(\\mathbf{x})} $ \\\n",
    "\\\n",
    "Whereby:\\\n",
    "\\\n",
    "$\\mathbf{x} \\; = \\; \\frac{\\mathbf{w}}{\\sqrt{\\mathbf{w}^T\\Sigma\\mathbf{w}}}$"
   ]
  },
  {
   "cell_type": "markdown",
   "metadata": {},
   "source": [
    "**Important attributes:**\n",
    "1. **Marginal risk contribution (MRC)** of the $i$th asset to the total risk of $\\sigma(\\mathbf{w})$:\\\n",
    "\\\n",
    "$ MRC_i \\; = \\; \\frac{\\partial\\sigma}{\\partial w_i} \\; = \\; \\frac{(\\Sigma\\mathbf{w})_i}{\\sqrt{\\mathbf{w}^T\\Sigma\\mathbf{w}}}$\\\n",
    "\\\n",
    "This measures the sensitivity of the portfolio volatility to the $i$th asset weight.\n",
    "\n",
    "\n",
    "2. **Risk contribution (RC)** from the $i$th asset to the total risk $\\sigma(\\mathbf{w})$:\\\n",
    "\\\n",
    "$ RC_i \\; = \\; w_i\\frac{\\partial\\sigma}{\\partial w_i} = \\frac{w_i(\\Sigma\\mathbf{w})_i}{\\sqrt{\\mathbf{w}^T\\Sigma\\mathbf{w}}} $\n",
    "\n",
    "\n",
    "3. **Relative risk contribution (RRC)** is the ratio of an asset's RC to the total portfolio risk $\\sigma(\\mathbf{w})$:\\\n",
    "\\\n",
    "$RRC_i \\; = \\; \\frac{RC_i}{\\sigma(\\mathbf{w})} \\; = \\; \\frac{w_i(\\Sigma\\mathbf{w})_i}{\\mathbf{w}^T\\Sigma\\mathbf{w}}$\n",
    "\n",
    "\n",
    "Note that:\n",
    "\n",
    "\n",
    "$\\Sigma$ is the Variance-Covariance matrix of the portfolio\\\n",
    "and\\\n",
    "$\\mathbf{w}$ is the vector of portfolio assets' weights"
   ]
  },
  {
   "cell_type": "code",
   "execution_count": 29,
   "metadata": {},
   "outputs": [],
   "source": [
    "# Parent class\n",
    "class RiskParity():\n",
    "    from scipy.optimize import minimize\n",
    "    import numpy as np\n",
    "    def __init__(self, \n",
    "                 cov_mat,\n",
    "                 assets=None,\n",
    "                 w_guess=None):\n",
    "        \"\"\"Inserting data into class\"\"\"\n",
    "        \"\"\"Following guidance in Braga (2016), the class will by default favour optimisation via SQP\"\"\"\n",
    "        # Making sure len(assets) == len(cov_mat.shape[0])\n",
    "        self.cov_mat = cov_mat\n",
    "        self.assets = assets\n",
    "        if w_guess is None:\n",
    "            w_guess=np.full((self.cov_mat.shape[0]), 1/self.cov_mat.shape[0])\n",
    "            self.w_guess = w_guess\n",
    "        # Error handling\n",
    "        if len(self.assets) != self.cov_mat.shape[0]:\n",
    "            raise ValueError('Number of assets must be equal to number of rows/columns in the covariance matrix')\n",
    "\n",
    "    def risk_func(self, w=None):\n",
    "        \"\"\"Main function to minimise\"\"\"\n",
    "        # Start off with vector x\n",
    "        if w is None:\n",
    "            w = self.w_guess\n",
    "        b_T = 1/len(w)\n",
    "        w_T = w.T\n",
    "        x = w / (np.sqrt(w_T.dot(self.cov_mat).dot(w)))\n",
    "        # Then the main function\n",
    "        x_T = x.T\n",
    "        risk_func = 0.5*x_T.dot(self.cov_mat).dot(x) - b_T*(np.sum(np.log(x)))\n",
    "        self.risk_func_ = risk_func\n",
    "        return risk_func\n",
    "    \n",
    "    def optimize(self, assets=None, method='SLSQP'):\n",
    "        \"\"\"Returns an risk parity asset allocation\"\"\"\n",
    "        \"\"\"Attribute: \n",
    "        - allocation_ -> Risk Parity allocation\n",
    "        - minimised_val_ -> Minimised risk function value\"\"\"\n",
    "        self.method = method\n",
    "        if assets is None:\n",
    "            assets=self.assets\n",
    "        opti_result = minimize(self.risk_func, self.w_guess, \n",
    "                               method=self.method)\n",
    "        allocation = opti_result.x / sum(opti_result.x)\n",
    "        print('Minimised convex risk function value: {:.4f}'.format(opti_result.fun))\n",
    "        allocation_df = pd.DataFrame({'Assets':assets, \n",
    "                                      'Allocation':np.round(allocation, 4)})\n",
    "        display(allocation_df)\n",
    "        self.allocation_ = allocation\n",
    "        self.allocation_df_ = allocation_df\n",
    "        self.minimised_val_ = opti_result.fun\n",
    "    \n",
    "    def cal_risk_stats(self, assets=None):\n",
    "        \"\"\"A post-optimisation method\"\"\"\n",
    "        \"\"\"Calculate marginal risk contribution (MRC), risk contribution (RC)\n",
    "        and relative risk contribution (RRC) of the ith asset\"\"\"\n",
    "        if assets is None:\n",
    "            assets=self.assets\n",
    "        w_rpp = self.allocation_\n",
    "        w_rpp_T = w_rpp.T\n",
    "        portfolio_vol = np.sqrt(w_rpp_T.dot(self.cov_mat).dot(w_rpp))\n",
    "        \n",
    "        # Marginal risk contribution (MRC)\n",
    "        MRC_num = self.cov_mat.dot(w_rpp)\n",
    "        MRC_denom = portfolio_vol\n",
    "        MRC = []\n",
    "        for val, i in zip(MRC_num, range(len(assets))):\n",
    "            MRC.append(MRC_num[i] / MRC_denom)\n",
    "        self.MRC_ = MRC\n",
    "        \n",
    "        # Risk contribution (RC)\n",
    "        RC_component = self.cov_mat.dot(w_rpp)\n",
    "        RC_denom = portfolio_vol\n",
    "        RC = []\n",
    "        for i in range(len(assets)):\n",
    "            RC.append((w_rpp[i]*RC_component[i]) / RC_denom)\n",
    "        self.RC_ = RC\n",
    "        \n",
    "        # Relative risk contribution (RRC)\n",
    "        RRC_component = self.cov_mat.dot(w_rpp)\n",
    "        RRC_denom = portfolio_vol**2\n",
    "        RRC = []\n",
    "        for i in range(len(assets)):\n",
    "            RRC.append((w_rpp[i]*RRC_component[i]) / RRC_denom)\n",
    "        self.RRC_ = RRC\n",
    "        \n",
    "    def out_excel(self, directory=None):\n",
    "        \"\"\"Outputs an excel file with the asset allocation.\n",
    "        If the directory is not specified, the method will output the file in the current working directory\"\"\"\n",
    "        import os\n",
    "        self.directory = directory\n",
    "        if directory is None:\n",
    "            self.directory = os.getcwd()\n",
    "        allocation_to_excel = self.allocation_df_.to_excel(f'{self.directory}/RP_allocation.xlsx', index=False)\n",
    "        return allocation_to_excel"
   ]
  },
  {
   "cell_type": "markdown",
   "metadata": {},
   "source": [
    "# Class design - Non-convex formulation"
   ]
  },
  {
   "cell_type": "markdown",
   "metadata": {},
   "source": [
    "Problem:\\\n",
    "\\\n",
    "$minimize_\\mathbf{w} \\; \\sum_{i,j=1}^{N}(w_i(\\mathbf{\\Sigma}\\mathbf{w})_i \\; - \\; w_j(\\mathbf{\\Sigma}\\mathbf{w})_j)^2$\\\n",
    "\\\n",
    "Subject to:\\\n",
    "\\\n",
    "$\\mathbf{1}^T\\mathbf{w} \\; = \\; 1 \\;, \\; \\mathbf{w}\\geq0.$\\\n",
    "\\\n",
    "Generally, the Convex formulation will perform better i.e. achieving equal $RRC_i$ across assets."
   ]
  },
  {
   "cell_type": "code",
   "execution_count": 20,
   "metadata": {},
   "outputs": [],
   "source": [
    "# Child class of RiskParity\n",
    "class NonConvexRP(RiskParity):\n",
    "    def risk_func(self, w=None):\n",
    "        \"\"\"Modified optimise function for non-convex problem formulation\"\"\"\n",
    "        if w is None:\n",
    "            w = self.w_guess\n",
    "        n = len(w)\n",
    "        risk_budget = 1 / n\n",
    "        risks = w * (self.cov_mat.dot(w))\n",
    "        norm_risks = risks / risk_budget\n",
    "        g = np.tile(norm_risks, n) - np.repeat(norm_risks, n)\n",
    "        return np.sum(g**2) # This is the main function to minimise\n",
    "    \n",
    "    def optimize(self, assets=None, method='BFGS'):\n",
    "        self.method = method\n",
    "        if assets is None:\n",
    "            assets=self.assets\n",
    "        opti_result = minimize(self.risk_func, self.w_guess, \n",
    "                               method=self.method)\n",
    "        allocation = opti_result.x / sum(opti_result.x)\n",
    "        print('Minimised non-convex risk function value: {:.4f}'.format(opti_result.fun))\n",
    "        allocation_df = pd.DataFrame({'Assets':assets, \n",
    "                                      'Allocation':np.round(allocation, 4)})\n",
    "        display(allocation_df)\n",
    "        # Important attributes below\n",
    "        self.allocation_ = allocation\n",
    "        self.allocation_df_ = allocation_df\n",
    "        self.minimised_val_ = opti_result.fun"
   ]
  },
  {
   "cell_type": "markdown",
   "metadata": {},
   "source": [
    "# Data preparation class\n",
    "\n",
    "This class turns an imported csv of asset prices to a covariance matrix (Matrix $\\mathbf{A}$), which can be used as input for *RiskParity* or *NonConvexRP* classes."
   ]
  },
  {
   "cell_type": "code",
   "execution_count": 4,
   "metadata": {},
   "outputs": [],
   "source": [
    "# Designing back-end of the programme. Receiving csv -> Returning cov_mat\n",
    "class PrepDataRP():\n",
    "    \"\"\"This class aims to turn an imported csv file into a return covariance matrix (Matrix A)\"\"\"\n",
    "    import pandas as pd\n",
    "    import numpy as np\n",
    "    def __init__(self, df=None):\n",
    "        self.df = df\n",
    "        \n",
    "    def transform(self, df=None):\n",
    "        if df is None:\n",
    "            df = self.df\n",
    "        # Drop NaN values to make sure asset time series have the same # of observatives\n",
    "        df = df.dropna()\n",
    "        # Filter by numeric data types\n",
    "        numeric_cols = list(df.loc[:, df.dtypes==np.float64].columns) + list(df.loc[:, df.dtypes==np.int64].columns)\n",
    "        price_data = df[numeric_cols]\n",
    "        returns_df = (price_data.iloc[1:,:].values / price_data.iloc[:-1,:] - 1)\n",
    "        excess_returns_df = returns_df - returns_df.mean()\n",
    "        excess_returns = np.array(excess_returns_df)\n",
    "        excess_returns_T = excess_returns.T\n",
    "        cov_mat = excess_returns_T.dot(excess_returns) / (excess_returns.shape[0] - 1)\n",
    "        return cov_mat"
   ]
  },
  {
   "cell_type": "markdown",
   "metadata": {},
   "source": [
    "# Testing section"
   ]
  },
  {
   "cell_type": "code",
   "execution_count": 5,
   "metadata": {},
   "outputs": [],
   "source": [
    "backend = PrepDataRP()\n",
    "import_csv = pd.read_csv('test_csv.csv')"
   ]
  },
  {
   "cell_type": "markdown",
   "metadata": {},
   "source": [
    "**Verifying risk parity classes**"
   ]
  },
  {
   "cell_type": "code",
   "execution_count": 6,
   "metadata": {},
   "outputs": [],
   "source": [
    "backend = PrepDataRP()\n",
    "test_cov_mat2 = backend.transform(import_csv)"
   ]
  },
  {
   "cell_type": "code",
   "execution_count": 7,
   "metadata": {},
   "outputs": [],
   "source": [
    "# Testing idea\n",
    "# 4 assets: AAPL, AMD, AMZN, CRM\n",
    "weights = [] # This is the outcome\n",
    "cov_mat = test_cov_mat2[:4,:4]\n",
    "\n",
    "false_cov_mat = np.array([[0.7691, 0.4878, 0.2874],\n",
    "                         [0.4878, 3.7176, 0.7296],\n",
    "                         [0.2874, 0.7296, 0.9343]])\n",
    "\n",
    "b_T = np.array([1/4, 1/4, 1/4, 1/4])\n",
    "w_test = np.array([0.1, 0.4, 0.30, 0.20])\n",
    "stocks = ['AAPL', 'AMD', 'AMZN', 'CRM']"
   ]
  },
  {
   "cell_type": "code",
   "execution_count": 30,
   "metadata": {
    "scrolled": true
   },
   "outputs": [
    {
     "name": "stdout",
     "output_type": "stream",
     "text": [
      "<__main__.RiskParity object at 0x000001C4560469D0>\n",
      "-0.7538676324620093\n",
      "Minimised convex risk function value: -0.8271\n"
     ]
    },
    {
     "name": "stderr",
     "output_type": "stream",
     "text": [
      "<ipython-input-29-c36a18d05175>:31: RuntimeWarning: invalid value encountered in log\n",
      "  risk_func = 0.5*x_T.dot(self.cov_mat).dot(x) - b_T*(np.sum(np.log(x)))\n"
     ]
    },
    {
     "data": {
      "text/html": [
       "<div>\n",
       "<style scoped>\n",
       "    .dataframe tbody tr th:only-of-type {\n",
       "        vertical-align: middle;\n",
       "    }\n",
       "\n",
       "    .dataframe tbody tr th {\n",
       "        vertical-align: top;\n",
       "    }\n",
       "\n",
       "    .dataframe thead th {\n",
       "        text-align: right;\n",
       "    }\n",
       "</style>\n",
       "<table border=\"1\" class=\"dataframe\">\n",
       "  <thead>\n",
       "    <tr style=\"text-align: right;\">\n",
       "      <th></th>\n",
       "      <th>Assets</th>\n",
       "      <th>Allocation</th>\n",
       "    </tr>\n",
       "  </thead>\n",
       "  <tbody>\n",
       "    <tr>\n",
       "      <th>0</th>\n",
       "      <td>AAPL</td>\n",
       "      <td>0.3119</td>\n",
       "    </tr>\n",
       "    <tr>\n",
       "      <th>1</th>\n",
       "      <td>AMD</td>\n",
       "      <td>0.1423</td>\n",
       "    </tr>\n",
       "    <tr>\n",
       "      <th>2</th>\n",
       "      <td>AMZN</td>\n",
       "      <td>0.2648</td>\n",
       "    </tr>\n",
       "    <tr>\n",
       "      <th>3</th>\n",
       "      <td>CRM</td>\n",
       "      <td>0.2810</td>\n",
       "    </tr>\n",
       "  </tbody>\n",
       "</table>\n",
       "</div>"
      ],
      "text/plain": [
       "  Assets  Allocation\n",
       "0   AAPL      0.3119\n",
       "1    AMD      0.1423\n",
       "2   AMZN      0.2648\n",
       "3    CRM      0.2810"
      ]
     },
     "metadata": {},
     "output_type": "display_data"
    },
    {
     "name": "stdout",
     "output_type": "stream",
     "text": [
      "None\n",
      "None\n",
      "[0.24999857818728488, 0.2500392479669842, 0.24995515063680895, 0.25000702320892176]\n",
      "[0.015895900763314662, 0.01589848670915025, 0.01589313946747944, 0.01589643773127207]\n"
     ]
    }
   ],
   "source": [
    "convex = RiskParity(cov_mat, stocks)\n",
    "print(convex)\n",
    "print(convex.risk_func())\n",
    "print(convex.optimize())\n",
    "print(convex.cal_risk_stats())\n",
    "print(convex.RRC_)\n",
    "print(convex.RC_)\n",
    "\n",
    "# This still needs a sanity check!\n",
    "# So far everything is working as expected!"
   ]
  },
  {
   "cell_type": "code",
   "execution_count": 34,
   "metadata": {},
   "outputs": [],
   "source": [
    "convex.out_excel()"
   ]
  },
  {
   "cell_type": "code",
   "execution_count": 9,
   "metadata": {},
   "outputs": [],
   "source": [
    "import matplotlib.pyplot as plt\n",
    "import seaborn as sns"
   ]
  },
  {
   "cell_type": "code",
   "execution_count": 10,
   "metadata": {},
   "outputs": [
    {
     "data": {
      "text/plain": [
       "Text(0.5, 1.0, 'Relative risk contribution')"
      ]
     },
     "execution_count": 10,
     "metadata": {},
     "output_type": "execute_result"
    },
    {
     "data": {
      "image/png": "[encoded data removed]",
      "text/plain": [
       "<Figure size 432x288 with 1 Axes>"
      ]
     },
     "metadata": {
      "needs_background": "light"
     },
     "output_type": "display_data"
    }
   ],
   "source": [
    "fig = sns.barplot(y=convex.RRC_, x=stocks)\n",
    "fig.set_title('Relative risk contribution')"
   ]
  },
  {
   "cell_type": "code",
   "execution_count": 11,
   "metadata": {},
   "outputs": [
    {
     "name": "stdout",
     "output_type": "stream",
     "text": [
      "0.00020899513635280474\n",
      "Minimised non-convex risk function value: 0.0000\n"
     ]
    },
    {
     "data": {
      "text/html": [
       "<div>\n",
       "<style scoped>\n",
       "    .dataframe tbody tr th:only-of-type {\n",
       "        vertical-align: middle;\n",
       "    }\n",
       "\n",
       "    .dataframe tbody tr th {\n",
       "        vertical-align: top;\n",
       "    }\n",
       "\n",
       "    .dataframe thead th {\n",
       "        text-align: right;\n",
       "    }\n",
       "</style>\n",
       "<table border=\"1\" class=\"dataframe\">\n",
       "  <thead>\n",
       "    <tr style=\"text-align: right;\">\n",
       "      <th></th>\n",
       "      <th>Assets</th>\n",
       "      <th>Allocation</th>\n",
       "    </tr>\n",
       "  </thead>\n",
       "  <tbody>\n",
       "    <tr>\n",
       "      <th>0</th>\n",
       "      <td>AAPL</td>\n",
       "      <td>0.3125</td>\n",
       "    </tr>\n",
       "    <tr>\n",
       "      <th>1</th>\n",
       "      <td>AMD</td>\n",
       "      <td>0.1420</td>\n",
       "    </tr>\n",
       "    <tr>\n",
       "      <th>2</th>\n",
       "      <td>AMZN</td>\n",
       "      <td>0.2633</td>\n",
       "    </tr>\n",
       "    <tr>\n",
       "      <th>3</th>\n",
       "      <td>CRM</td>\n",
       "      <td>0.2822</td>\n",
       "    </tr>\n",
       "  </tbody>\n",
       "</table>\n",
       "</div>"
      ],
      "text/plain": [
       "  Assets  Allocation\n",
       "0   AAPL      0.3125\n",
       "1    AMD      0.1420\n",
       "2   AMZN      0.2633\n",
       "3    CRM      0.2822"
      ]
     },
     "metadata": {},
     "output_type": "display_data"
    },
    {
     "name": "stdout",
     "output_type": "stream",
     "text": [
      "None\n",
      "None\n",
      "[0.2507747832826242, 0.24942128466907315, 0.24826101629297784, 0.25154291575532445]\n",
      "[0.015939195240255128, 0.01585316713816126, 0.015779420711444846, 0.01598801758711347]\n"
     ]
    }
   ],
   "source": [
    "# Testing code blocks\n",
    "nonconvex_test = NonConvexRP(cov_mat, stocks)\n",
    "print(nonconvex_test.risk_func())\n",
    "print(nonconvex_test.optimize(method='BFGS'))\n",
    "print(nonconvex_test.cal_risk_stats())\n",
    "print(nonconvex_test.RRC_)\n",
    "print(nonconvex_test.RC_)"
   ]
  },
  {
   "cell_type": "code",
   "execution_count": 12,
   "metadata": {},
   "outputs": [
    {
     "data": {
      "text/plain": [
       "Text(0.5, 1.0, 'Relative risk contribution')"
      ]
     },
     "execution_count": 12,
     "metadata": {},
     "output_type": "execute_result"
    },
    {
     "data": {
      "image/png": "[encoded data removed]",
      "text/plain": [
       "<Figure size 432x288 with 1 Axes>"
      ]
     },
     "metadata": {
      "needs_background": "light"
     },
     "output_type": "display_data"
    }
   ],
   "source": [
    "fig = sns.barplot(y=nonconvex_test.RRC_, x=stocks)\n",
    "fig.set_title('Relative risk contribution')"
   ]
  },
  {
   "cell_type": "code",
   "execution_count": 13,
   "metadata": {},
   "outputs": [],
   "source": [
    "# Let's test with more assets\n",
    "stocks_6 = ['AAPL', 'AMD', 'AMZN', 'CRM', 'GOOG', 'INTC']\n",
    "cov_mat_6 = test_cov_mat2[:6,:6]"
   ]
  },
  {
   "cell_type": "code",
   "execution_count": 14,
   "metadata": {},
   "outputs": [
    {
     "name": "stdout",
     "output_type": "stream",
     "text": [
      "Minimised convex risk function value: -0.6216\n"
     ]
    },
    {
     "name": "stderr",
     "output_type": "stream",
     "text": [
      "<ipython-input-2-5e624e195e5c>:31: RuntimeWarning: invalid value encountered in log\n",
      "  risk_func = 0.5*x_T.dot(self.cov_mat).dot(x) - b_T*(np.sum(np.log(x)))\n"
     ]
    },
    {
     "data": {
      "text/html": [
       "<div>\n",
       "<style scoped>\n",
       "    .dataframe tbody tr th:only-of-type {\n",
       "        vertical-align: middle;\n",
       "    }\n",
       "\n",
       "    .dataframe tbody tr th {\n",
       "        vertical-align: top;\n",
       "    }\n",
       "\n",
       "    .dataframe thead th {\n",
       "        text-align: right;\n",
       "    }\n",
       "</style>\n",
       "<table border=\"1\" class=\"dataframe\">\n",
       "  <thead>\n",
       "    <tr style=\"text-align: right;\">\n",
       "      <th></th>\n",
       "      <th>Assets</th>\n",
       "      <th>Allocation</th>\n",
       "    </tr>\n",
       "  </thead>\n",
       "  <tbody>\n",
       "    <tr>\n",
       "      <th>0</th>\n",
       "      <td>AAPL</td>\n",
       "      <td>0.1756</td>\n",
       "    </tr>\n",
       "    <tr>\n",
       "      <th>1</th>\n",
       "      <td>AMD</td>\n",
       "      <td>0.0839</td>\n",
       "    </tr>\n",
       "    <tr>\n",
       "      <th>2</th>\n",
       "      <td>AMZN</td>\n",
       "      <td>0.1483</td>\n",
       "    </tr>\n",
       "    <tr>\n",
       "      <th>3</th>\n",
       "      <td>CRM</td>\n",
       "      <td>0.1736</td>\n",
       "    </tr>\n",
       "    <tr>\n",
       "      <th>4</th>\n",
       "      <td>GOOG</td>\n",
       "      <td>0.1987</td>\n",
       "    </tr>\n",
       "    <tr>\n",
       "      <th>5</th>\n",
       "      <td>INTC</td>\n",
       "      <td>0.2200</td>\n",
       "    </tr>\n",
       "  </tbody>\n",
       "</table>\n",
       "</div>"
      ],
      "text/plain": [
       "  Assets  Allocation\n",
       "0   AAPL      0.1756\n",
       "1    AMD      0.0839\n",
       "2   AMZN      0.1483\n",
       "3    CRM      0.1736\n",
       "4   GOOG      0.1987\n",
       "5   INTC      0.2200"
      ]
     },
     "metadata": {},
     "output_type": "display_data"
    },
    {
     "name": "stdout",
     "output_type": "stream",
     "text": [
      "[0.16664430873912522, 0.16671621323279265, 0.16666487023954807, 0.1666739564615856, 0.16662836942683668, 0.16667228190011185]\n"
     ]
    }
   ],
   "source": [
    "convex6 = RiskParity(cov_mat_6, stocks_6)\n",
    "convex6.optimize()\n",
    "convex6.cal_risk_stats()\n",
    "print(convex6.RRC_)"
   ]
  },
  {
   "cell_type": "code",
   "execution_count": 15,
   "metadata": {},
   "outputs": [
    {
     "name": "stdout",
     "output_type": "stream",
     "text": [
      "Minimised non-convex risk function value: 0.0000\n"
     ]
    },
    {
     "data": {
      "text/html": [
       "<div>\n",
       "<style scoped>\n",
       "    .dataframe tbody tr th:only-of-type {\n",
       "        vertical-align: middle;\n",
       "    }\n",
       "\n",
       "    .dataframe tbody tr th {\n",
       "        vertical-align: top;\n",
       "    }\n",
       "\n",
       "    .dataframe thead th {\n",
       "        text-align: right;\n",
       "    }\n",
       "</style>\n",
       "<table border=\"1\" class=\"dataframe\">\n",
       "  <thead>\n",
       "    <tr style=\"text-align: right;\">\n",
       "      <th></th>\n",
       "      <th>Assets</th>\n",
       "      <th>Allocation</th>\n",
       "    </tr>\n",
       "  </thead>\n",
       "  <tbody>\n",
       "    <tr>\n",
       "      <th>0</th>\n",
       "      <td>AAPL</td>\n",
       "      <td>0.1752</td>\n",
       "    </tr>\n",
       "    <tr>\n",
       "      <th>1</th>\n",
       "      <td>AMD</td>\n",
       "      <td>0.0838</td>\n",
       "    </tr>\n",
       "    <tr>\n",
       "      <th>2</th>\n",
       "      <td>AMZN</td>\n",
       "      <td>0.1489</td>\n",
       "    </tr>\n",
       "    <tr>\n",
       "      <th>3</th>\n",
       "      <td>CRM</td>\n",
       "      <td>0.1732</td>\n",
       "    </tr>\n",
       "    <tr>\n",
       "      <th>4</th>\n",
       "      <td>GOOG</td>\n",
       "      <td>0.1995</td>\n",
       "    </tr>\n",
       "    <tr>\n",
       "      <th>5</th>\n",
       "      <td>INTC</td>\n",
       "      <td>0.2193</td>\n",
       "    </tr>\n",
       "  </tbody>\n",
       "</table>\n",
       "</div>"
      ],
      "text/plain": [
       "  Assets  Allocation\n",
       "0   AAPL      0.1752\n",
       "1    AMD      0.0838\n",
       "2   AMZN      0.1489\n",
       "3    CRM      0.1732\n",
       "4   GOOG      0.1995\n",
       "5   INTC      0.2193"
      ]
     },
     "metadata": {},
     "output_type": "display_data"
    },
    {
     "name": "stdout",
     "output_type": "stream",
     "text": [
      "[0.1661854745864653, 0.16663920838238883, 0.16748507621059938, 0.16619115757509534, 0.1675209213737034, 0.1659781618717479]\n"
     ]
    }
   ],
   "source": [
    "nonconvex6 = NonConvexRP(cov_mat_6, stocks_6)\n",
    "nonconvex6.optimize()\n",
    "nonconvex6.cal_risk_stats()\n",
    "print(nonconvex6.RRC_)"
   ]
  },
  {
   "cell_type": "code",
   "execution_count": 16,
   "metadata": {},
   "outputs": [],
   "source": [
    "# Even more assets - 20 stocks\n",
    "stocks_20 = ['AAPL', 'AMD', 'AMZN', 'CRM', 'GOOG', 'INTC', 'MSFT', 'NFLX', \n",
    "             'NVDA', 'V', 'ANAT', 'ATRI', 'CRVL', 'JOE', 'LORL', 'MORN', \n",
    "             'NHC', 'SEB', 'TR', 'UVV']\n",
    "cov_mat_20 = test_cov_mat2"
   ]
  },
  {
   "cell_type": "code",
   "execution_count": 17,
   "metadata": {},
   "outputs": [
    {
     "name": "stdout",
     "output_type": "stream",
     "text": [
      "Minimised convex risk function value: 0.2307\n"
     ]
    },
    {
     "name": "stderr",
     "output_type": "stream",
     "text": [
      "<ipython-input-2-5e624e195e5c>:31: RuntimeWarning: invalid value encountered in log\n",
      "  risk_func = 0.5*x_T.dot(self.cov_mat).dot(x) - b_T*(np.sum(np.log(x)))\n"
     ]
    },
    {
     "data": {
      "text/html": [
       "<div>\n",
       "<style scoped>\n",
       "    .dataframe tbody tr th:only-of-type {\n",
       "        vertical-align: middle;\n",
       "    }\n",
       "\n",
       "    .dataframe tbody tr th {\n",
       "        vertical-align: top;\n",
       "    }\n",
       "\n",
       "    .dataframe thead th {\n",
       "        text-align: right;\n",
       "    }\n",
       "</style>\n",
       "<table border=\"1\" class=\"dataframe\">\n",
       "  <thead>\n",
       "    <tr style=\"text-align: right;\">\n",
       "      <th></th>\n",
       "      <th>Assets</th>\n",
       "      <th>Allocation</th>\n",
       "    </tr>\n",
       "  </thead>\n",
       "  <tbody>\n",
       "    <tr>\n",
       "      <th>0</th>\n",
       "      <td>AAPL</td>\n",
       "      <td>0.0524</td>\n",
       "    </tr>\n",
       "    <tr>\n",
       "      <th>1</th>\n",
       "      <td>AMD</td>\n",
       "      <td>0.0192</td>\n",
       "    </tr>\n",
       "    <tr>\n",
       "      <th>2</th>\n",
       "      <td>AMZN</td>\n",
       "      <td>0.0375</td>\n",
       "    </tr>\n",
       "    <tr>\n",
       "      <th>3</th>\n",
       "      <td>CRM</td>\n",
       "      <td>0.0439</td>\n",
       "    </tr>\n",
       "    <tr>\n",
       "      <th>4</th>\n",
       "      <td>GOOG</td>\n",
       "      <td>0.0478</td>\n",
       "    </tr>\n",
       "    <tr>\n",
       "      <th>5</th>\n",
       "      <td>INTC</td>\n",
       "      <td>0.0563</td>\n",
       "    </tr>\n",
       "    <tr>\n",
       "      <th>6</th>\n",
       "      <td>MSFT</td>\n",
       "      <td>0.0483</td>\n",
       "    </tr>\n",
       "    <tr>\n",
       "      <th>7</th>\n",
       "      <td>NFLX</td>\n",
       "      <td>0.0276</td>\n",
       "    </tr>\n",
       "    <tr>\n",
       "      <th>8</th>\n",
       "      <td>NVDA</td>\n",
       "      <td>0.0275</td>\n",
       "    </tr>\n",
       "    <tr>\n",
       "      <th>9</th>\n",
       "      <td>V</td>\n",
       "      <td>0.0636</td>\n",
       "    </tr>\n",
       "    <tr>\n",
       "      <th>10</th>\n",
       "      <td>ANAT</td>\n",
       "      <td>0.0604</td>\n",
       "    </tr>\n",
       "    <tr>\n",
       "      <th>11</th>\n",
       "      <td>ATRI</td>\n",
       "      <td>0.0730</td>\n",
       "    </tr>\n",
       "    <tr>\n",
       "      <th>12</th>\n",
       "      <td>CRVL</td>\n",
       "      <td>0.0523</td>\n",
       "    </tr>\n",
       "    <tr>\n",
       "      <th>13</th>\n",
       "      <td>JOE</td>\n",
       "      <td>0.0429</td>\n",
       "    </tr>\n",
       "    <tr>\n",
       "      <th>14</th>\n",
       "      <td>LORL</td>\n",
       "      <td>0.0420</td>\n",
       "    </tr>\n",
       "    <tr>\n",
       "      <th>15</th>\n",
       "      <td>MORN</td>\n",
       "      <td>0.0628</td>\n",
       "    </tr>\n",
       "    <tr>\n",
       "      <th>16</th>\n",
       "      <td>NHC</td>\n",
       "      <td>0.0654</td>\n",
       "    </tr>\n",
       "    <tr>\n",
       "      <th>17</th>\n",
       "      <td>SEB</td>\n",
       "      <td>0.0573</td>\n",
       "    </tr>\n",
       "    <tr>\n",
       "      <th>18</th>\n",
       "      <td>TR</td>\n",
       "      <td>0.0785</td>\n",
       "    </tr>\n",
       "    <tr>\n",
       "      <th>19</th>\n",
       "      <td>UVV</td>\n",
       "      <td>0.0412</td>\n",
       "    </tr>\n",
       "  </tbody>\n",
       "</table>\n",
       "</div>"
      ],
      "text/plain": [
       "   Assets  Allocation\n",
       "0    AAPL      0.0524\n",
       "1     AMD      0.0192\n",
       "2    AMZN      0.0375\n",
       "3     CRM      0.0439\n",
       "4    GOOG      0.0478\n",
       "5    INTC      0.0563\n",
       "6    MSFT      0.0483\n",
       "7    NFLX      0.0276\n",
       "8    NVDA      0.0275\n",
       "9       V      0.0636\n",
       "10   ANAT      0.0604\n",
       "11   ATRI      0.0730\n",
       "12   CRVL      0.0523\n",
       "13    JOE      0.0429\n",
       "14   LORL      0.0420\n",
       "15   MORN      0.0628\n",
       "16    NHC      0.0654\n",
       "17    SEB      0.0573\n",
       "18     TR      0.0785\n",
       "19    UVV      0.0412"
      ]
     },
     "metadata": {},
     "output_type": "display_data"
    }
   ],
   "source": [
    "convex20 = RiskParity(test_cov_mat2, stocks_20)\n",
    "convex20.optimize()"
   ]
  },
  {
   "cell_type": "code",
   "execution_count": 18,
   "metadata": {
    "scrolled": false
   },
   "outputs": [
    {
     "name": "stdout",
     "output_type": "stream",
     "text": [
      "Minimised non-convex risk function value: 0.0000\n"
     ]
    },
    {
     "data": {
      "text/html": [
       "<div>\n",
       "<style scoped>\n",
       "    .dataframe tbody tr th:only-of-type {\n",
       "        vertical-align: middle;\n",
       "    }\n",
       "\n",
       "    .dataframe tbody tr th {\n",
       "        vertical-align: top;\n",
       "    }\n",
       "\n",
       "    .dataframe thead th {\n",
       "        text-align: right;\n",
       "    }\n",
       "</style>\n",
       "<table border=\"1\" class=\"dataframe\">\n",
       "  <thead>\n",
       "    <tr style=\"text-align: right;\">\n",
       "      <th></th>\n",
       "      <th>Assets</th>\n",
       "      <th>Allocation</th>\n",
       "    </tr>\n",
       "  </thead>\n",
       "  <tbody>\n",
       "    <tr>\n",
       "      <th>0</th>\n",
       "      <td>AAPL</td>\n",
       "      <td>0.0524</td>\n",
       "    </tr>\n",
       "    <tr>\n",
       "      <th>1</th>\n",
       "      <td>AMD</td>\n",
       "      <td>0.0191</td>\n",
       "    </tr>\n",
       "    <tr>\n",
       "      <th>2</th>\n",
       "      <td>AMZN</td>\n",
       "      <td>0.0375</td>\n",
       "    </tr>\n",
       "    <tr>\n",
       "      <th>3</th>\n",
       "      <td>CRM</td>\n",
       "      <td>0.0440</td>\n",
       "    </tr>\n",
       "    <tr>\n",
       "      <th>4</th>\n",
       "      <td>GOOG</td>\n",
       "      <td>0.0477</td>\n",
       "    </tr>\n",
       "    <tr>\n",
       "      <th>5</th>\n",
       "      <td>INTC</td>\n",
       "      <td>0.0562</td>\n",
       "    </tr>\n",
       "    <tr>\n",
       "      <th>6</th>\n",
       "      <td>MSFT</td>\n",
       "      <td>0.0482</td>\n",
       "    </tr>\n",
       "    <tr>\n",
       "      <th>7</th>\n",
       "      <td>NFLX</td>\n",
       "      <td>0.0276</td>\n",
       "    </tr>\n",
       "    <tr>\n",
       "      <th>8</th>\n",
       "      <td>NVDA</td>\n",
       "      <td>0.0275</td>\n",
       "    </tr>\n",
       "    <tr>\n",
       "      <th>9</th>\n",
       "      <td>V</td>\n",
       "      <td>0.0638</td>\n",
       "    </tr>\n",
       "    <tr>\n",
       "      <th>10</th>\n",
       "      <td>ANAT</td>\n",
       "      <td>0.0604</td>\n",
       "    </tr>\n",
       "    <tr>\n",
       "      <th>11</th>\n",
       "      <td>ATRI</td>\n",
       "      <td>0.0734</td>\n",
       "    </tr>\n",
       "    <tr>\n",
       "      <th>12</th>\n",
       "      <td>CRVL</td>\n",
       "      <td>0.0523</td>\n",
       "    </tr>\n",
       "    <tr>\n",
       "      <th>13</th>\n",
       "      <td>JOE</td>\n",
       "      <td>0.0430</td>\n",
       "    </tr>\n",
       "    <tr>\n",
       "      <th>14</th>\n",
       "      <td>LORL</td>\n",
       "      <td>0.0419</td>\n",
       "    </tr>\n",
       "    <tr>\n",
       "      <th>15</th>\n",
       "      <td>MORN</td>\n",
       "      <td>0.0628</td>\n",
       "    </tr>\n",
       "    <tr>\n",
       "      <th>16</th>\n",
       "      <td>NHC</td>\n",
       "      <td>0.0654</td>\n",
       "    </tr>\n",
       "    <tr>\n",
       "      <th>17</th>\n",
       "      <td>SEB</td>\n",
       "      <td>0.0574</td>\n",
       "    </tr>\n",
       "    <tr>\n",
       "      <th>18</th>\n",
       "      <td>TR</td>\n",
       "      <td>0.0782</td>\n",
       "    </tr>\n",
       "    <tr>\n",
       "      <th>19</th>\n",
       "      <td>UVV</td>\n",
       "      <td>0.0413</td>\n",
       "    </tr>\n",
       "  </tbody>\n",
       "</table>\n",
       "</div>"
      ],
      "text/plain": [
       "   Assets  Allocation\n",
       "0    AAPL      0.0524\n",
       "1     AMD      0.0191\n",
       "2    AMZN      0.0375\n",
       "3     CRM      0.0440\n",
       "4    GOOG      0.0477\n",
       "5    INTC      0.0562\n",
       "6    MSFT      0.0482\n",
       "7    NFLX      0.0276\n",
       "8    NVDA      0.0275\n",
       "9       V      0.0638\n",
       "10   ANAT      0.0604\n",
       "11   ATRI      0.0734\n",
       "12   CRVL      0.0523\n",
       "13    JOE      0.0430\n",
       "14   LORL      0.0419\n",
       "15   MORN      0.0628\n",
       "16    NHC      0.0654\n",
       "17    SEB      0.0574\n",
       "18     TR      0.0782\n",
       "19    UVV      0.0413"
      ]
     },
     "metadata": {},
     "output_type": "display_data"
    }
   ],
   "source": [
    "nonconvex20 = NonConvexRP(test_cov_mat2, stocks_20)\n",
    "nonconvex20.optimize()"
   ]
  }
 ],
 "metadata": {
  "kernelspec": {
   "display_name": "Python 3",
   "language": "python",
   "name": "python3"
  },
  "language_info": {
   "codemirror_mode": {
    "name": "ipython",
    "version": 3
   },
   "file_extension": ".py",
   "mimetype": "text/x-python",
   "name": "python",
   "nbconvert_exporter": "python",
   "pygments_lexer": "ipython3",
   "version": "3.8.3"
  }
 },
 "nbformat": 4,
 "nbformat_minor": 2
}
