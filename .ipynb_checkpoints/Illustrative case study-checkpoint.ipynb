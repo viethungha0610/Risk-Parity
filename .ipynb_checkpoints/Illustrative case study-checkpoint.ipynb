{
 "cells": [
  {
   "cell_type": "markdown",
   "metadata": {},
   "source": [
    "The workflow of the programme depends on what input is available."
   ]
  },
  {
   "cell_type": "markdown",
   "metadata": {},
   "source": [
    "![image](Workflow/Slide1.png)\n",
    "![image](Workflow/Slide2.png)\n",
    "![image](Workflow/Slide3.png)"
   ]
  },
  {
   "cell_type": "markdown",
   "metadata": {},
   "source": [
    "In the following example, the full 4-step workflow will be illustrated.\n",
    "\n",
    "# Case 1:\n",
    "\n",
    "Diversifying accross 4 asset classes:\n",
    "\n",
    "1. Global equities\n",
    "2. Inflation-protected securities\n",
    "3. Commodities\n",
    "4. Government bonds\n",
    "\n",
    "\n",
    "In this simple example, the following 4 ETFs will be selected as proxies:\n",
    "\n",
    "1. iShares MSCI ACWI ETF ([**ACWI**](https://www.ishares.com/us/products/239600/ishares-msci-acwi-etf) -> Global equities\n",
    "2. iShares TIPS Bond ETF [(**TIP**)](https://www.ishares.com/us/products/239467/ishares-tips-bond-etf) -> Inflation-protected securities\n",
    "3. iShares S&P GSCI Commodity-Indexed Trust [(**GSG**)](https://www.ishares.com/us/products/239757/ishares-sp-gsci-commodityindexed-trust-fund) -> Commodities\n",
    "4. iShares Intermediate Govt/Crdt Bd ETF [(**GVI**)](https://www.ishares.com/us/products/239464/ishares-intermediate-governmentcredit-bond-etf) -> Government bonds"
   ]
  },
  {
   "cell_type": "markdown",
   "metadata": {},
   "source": [
    "## Step 1. Data importing\n",
    "Run setup file to get the necessary libraries."
   ]
  },
  {
   "cell_type": "code",
   "execution_count": 29,
   "metadata": {},
   "outputs": [],
   "source": [
    "%run -i setup"
   ]
  },
  {
   "cell_type": "markdown",
   "metadata": {},
   "source": [
    "Import api_key from your secret file, and import the Risk Parity programmes from AssetAllocation python file."
   ]
  },
  {
   "cell_type": "code",
   "execution_count": 2,
   "metadata": {},
   "outputs": [],
   "source": [
    "from secret import api_key as api_key\n",
    "from AssetAllocation import RiskParity, NonConvexRP, PrepDataRP, api_data"
   ]
  },
  {
   "cell_type": "markdown",
   "metadata": {},
   "source": [
    "Specify the assets to get data online."
   ]
  },
  {
   "cell_type": "code",
   "execution_count": 4,
   "metadata": {},
   "outputs": [],
   "source": [
    "assets = ['ACWI', 'TIP', 'GSG', 'GVI']"
   ]
  },
  {
   "cell_type": "markdown",
   "metadata": {},
   "source": [
    "Initiate an instance of the api_data class and run the prep_data() method."
   ]
  },
  {
   "cell_type": "code",
   "execution_count": 5,
   "metadata": {},
   "outputs": [],
   "source": [
    "data = api_data(api_key, assets, '2010.08.30', '2020.08.30', '1mo')\n",
    "outcome_df = data.prep_data()"
   ]
  },
  {
   "cell_type": "code",
   "execution_count": 54,
   "metadata": {},
   "outputs": [
    {
     "data": {
      "text/html": [
       "<div>\n",
       "<style scoped>\n",
       "    .dataframe tbody tr th:only-of-type {\n",
       "        vertical-align: middle;\n",
       "    }\n",
       "\n",
       "    .dataframe tbody tr th {\n",
       "        vertical-align: top;\n",
       "    }\n",
       "\n",
       "    .dataframe thead th {\n",
       "        text-align: right;\n",
       "    }\n",
       "</style>\n",
       "<table border=\"1\" class=\"dataframe\">\n",
       "  <thead>\n",
       "    <tr style=\"text-align: right;\">\n",
       "      <th></th>\n",
       "      <th>Date</th>\n",
       "      <th>ACWI</th>\n",
       "      <th>TIP</th>\n",
       "      <th>GSG</th>\n",
       "      <th>GVI</th>\n",
       "    </tr>\n",
       "  </thead>\n",
       "  <tbody>\n",
       "    <tr>\n",
       "      <th>119</th>\n",
       "      <td>2010-09-01</td>\n",
       "      <td>34.650562</td>\n",
       "      <td>90.353745</td>\n",
       "      <td>30.010000</td>\n",
       "      <td>90.205727</td>\n",
       "    </tr>\n",
       "    <tr>\n",
       "      <th>118</th>\n",
       "      <td>2010-10-01</td>\n",
       "      <td>35.949654</td>\n",
       "      <td>92.500320</td>\n",
       "      <td>30.879999</td>\n",
       "      <td>90.387260</td>\n",
       "    </tr>\n",
       "    <tr>\n",
       "      <th>117</th>\n",
       "      <td>2010-11-01</td>\n",
       "      <td>35.163773</td>\n",
       "      <td>90.839325</td>\n",
       "      <td>31.260000</td>\n",
       "      <td>89.746574</td>\n",
       "    </tr>\n",
       "    <tr>\n",
       "      <th>116</th>\n",
       "      <td>2010-12-01</td>\n",
       "      <td>37.537430</td>\n",
       "      <td>89.417305</td>\n",
       "      <td>34.099998</td>\n",
       "      <td>88.577866</td>\n",
       "    </tr>\n",
       "    <tr>\n",
       "      <th>115</th>\n",
       "      <td>2011-01-01</td>\n",
       "      <td>38.308666</td>\n",
       "      <td>89.800568</td>\n",
       "      <td>35.160000</td>\n",
       "      <td>89.242058</td>\n",
       "    </tr>\n",
       "    <tr>\n",
       "      <th>...</th>\n",
       "      <td>...</td>\n",
       "      <td>...</td>\n",
       "      <td>...</td>\n",
       "      <td>...</td>\n",
       "      <td>...</td>\n",
       "    </tr>\n",
       "    <tr>\n",
       "      <th>4</th>\n",
       "      <td>2020-04-01</td>\n",
       "      <td>68.143501</td>\n",
       "      <td>120.831375</td>\n",
       "      <td>8.480000</td>\n",
       "      <td>115.429916</td>\n",
       "    </tr>\n",
       "    <tr>\n",
       "      <th>3</th>\n",
       "      <td>2020-05-01</td>\n",
       "      <td>71.614136</td>\n",
       "      <td>121.500793</td>\n",
       "      <td>9.820000</td>\n",
       "      <td>116.325096</td>\n",
       "    </tr>\n",
       "    <tr>\n",
       "      <th>2</th>\n",
       "      <td>2020-06-01</td>\n",
       "      <td>73.101555</td>\n",
       "      <td>123.000000</td>\n",
       "      <td>10.370000</td>\n",
       "      <td>117.002083</td>\n",
       "    </tr>\n",
       "    <tr>\n",
       "      <th>1</th>\n",
       "      <td>2020-07-01</td>\n",
       "      <td>77.669998</td>\n",
       "      <td>125.860001</td>\n",
       "      <td>10.750000</td>\n",
       "      <td>117.779381</td>\n",
       "    </tr>\n",
       "    <tr>\n",
       "      <th>0</th>\n",
       "      <td>2020-08-01</td>\n",
       "      <td>82.349998</td>\n",
       "      <td>126.980003</td>\n",
       "      <td>11.250000</td>\n",
       "      <td>117.611786</td>\n",
       "    </tr>\n",
       "  </tbody>\n",
       "</table>\n",
       "<p>120 rows × 5 columns</p>\n",
       "</div>"
      ],
      "text/plain": [
       "           Date       ACWI         TIP        GSG         GVI\n",
       "119  2010-09-01  34.650562   90.353745  30.010000   90.205727\n",
       "118  2010-10-01  35.949654   92.500320  30.879999   90.387260\n",
       "117  2010-11-01  35.163773   90.839325  31.260000   89.746574\n",
       "116  2010-12-01  37.537430   89.417305  34.099998   88.577866\n",
       "115  2011-01-01  38.308666   89.800568  35.160000   89.242058\n",
       "..          ...        ...         ...        ...         ...\n",
       "4    2020-04-01  68.143501  120.831375   8.480000  115.429916\n",
       "3    2020-05-01  71.614136  121.500793   9.820000  116.325096\n",
       "2    2020-06-01  73.101555  123.000000  10.370000  117.002083\n",
       "1    2020-07-01  77.669998  125.860001  10.750000  117.779381\n",
       "0    2020-08-01  82.349998  126.980003  11.250000  117.611786\n",
       "\n",
       "[120 rows x 5 columns]"
      ]
     },
     "metadata": {},
     "output_type": "display_data"
    }
   ],
   "source": [
    "import os\n",
    "display(outcome_df)\n",
    "cwd = os.getcwd()\n",
    "outcome_df.to_excel(f'{cwd}//4_assets_Case_1.xlsx', index=False)"
   ]
  },
  {
   "cell_type": "markdown",
   "metadata": {},
   "source": [
    "## Step 2. Preprocessing data\n",
    "Initiate an instance of the preprocessor PrepDataRP() and turn the data into a return covariance matrix"
   ]
  },
  {
   "cell_type": "code",
   "execution_count": 7,
   "metadata": {},
   "outputs": [],
   "source": [
    "preprocessing = PrepDataRP()\n",
    "cov_mat = preprocessing.transform(outcome_df)\n",
    "assets = preprocessing.assets_"
   ]
  },
  {
   "cell_type": "markdown",
   "metadata": {},
   "source": [
    "## Step 3. Optimization\n",
    "Run the preprocessed data through the core optimization class."
   ]
  },
  {
   "cell_type": "code",
   "execution_count": 8,
   "metadata": {},
   "outputs": [
    {
     "name": "stdout",
     "output_type": "stream",
     "text": [
      "Minimised convex risk function value: -2.3463\n"
     ]
    },
    {
     "name": "stderr",
     "output_type": "stream",
     "text": [
      "C:\\Users\\Viet Hung Ha\\Documents\\Python\\Risk Parity\\AssetAllocation.py:62: RuntimeWarning: invalid value encountered in log\n",
      "  risk_func = 0.5*x_T.dot(self.cov_mat).dot(x) - b_T*(np.sum(np.log(x)))\n"
     ]
    },
    {
     "data": {
      "text/html": [
       "<div>\n",
       "<style scoped>\n",
       "    .dataframe tbody tr th:only-of-type {\n",
       "        vertical-align: middle;\n",
       "    }\n",
       "\n",
       "    .dataframe tbody tr th {\n",
       "        vertical-align: top;\n",
       "    }\n",
       "\n",
       "    .dataframe thead th {\n",
       "        text-align: right;\n",
       "    }\n",
       "</style>\n",
       "<table border=\"1\" class=\"dataframe\">\n",
       "  <thead>\n",
       "    <tr style=\"text-align: right;\">\n",
       "      <th></th>\n",
       "      <th>Assets</th>\n",
       "      <th>Allocation</th>\n",
       "    </tr>\n",
       "  </thead>\n",
       "  <tbody>\n",
       "    <tr>\n",
       "      <th>0</th>\n",
       "      <td>ACWI</td>\n",
       "      <td>0.0907</td>\n",
       "    </tr>\n",
       "    <tr>\n",
       "      <th>1</th>\n",
       "      <td>TIP</td>\n",
       "      <td>0.2556</td>\n",
       "    </tr>\n",
       "    <tr>\n",
       "      <th>2</th>\n",
       "      <td>GSG</td>\n",
       "      <td>0.0696</td>\n",
       "    </tr>\n",
       "    <tr>\n",
       "      <th>3</th>\n",
       "      <td>GVI</td>\n",
       "      <td>0.5840</td>\n",
       "    </tr>\n",
       "  </tbody>\n",
       "</table>\n",
       "</div>"
      ],
      "text/plain": [
       "  Assets  Allocation\n",
       "0   ACWI      0.0907\n",
       "1    TIP      0.2556\n",
       "2    GSG      0.0696\n",
       "3    GVI      0.5840"
      ]
     },
     "metadata": {},
     "output_type": "display_data"
    }
   ],
   "source": [
    "test_rpp = RiskParity(cov_mat, assets)\n",
    "test_rpp.optimize()"
   ]
  },
  {
   "cell_type": "markdown",
   "metadata": {},
   "source": [
    "## Step 4. Output\n",
    "\n",
    "Display and visualise risk statistics; Output an Excel file"
   ]
  },
  {
   "cell_type": "code",
   "execution_count": 9,
   "metadata": {},
   "outputs": [
    {
     "name": "stdout",
     "output_type": "stream",
     "text": [
      "Marginal risk contribution of assets:\n",
      " [0.02805182259096939, 0.0099437515929358, 0.03651706444738519, 0.004356879473644402]\n",
      "Risk contribution of assets:\n",
      " [0.0025452429803408177, 0.0025419080476428817, 0.002543377181006525, 0.0025443684480833477]\n",
      "Relative risk contribution of assets:\n",
      " [0.2501492709089451, 0.24982151006671413, 0.24996589810456432, 0.2500633209197763]\n"
     ]
    },
    {
     "data": {
      "image/png": "[encoded data removed]",
      "text/plain": [
       "<Figure size 432x288 with 1 Axes>"
      ]
     },
     "metadata": {
      "needs_background": "light"
     },
     "output_type": "display_data"
    },
    {
     "data": {
      "image/png": "[encoded data removed]",
      "text/plain": [
       "<Figure size 432x288 with 1 Axes>"
      ]
     },
     "metadata": {
      "needs_background": "light"
     },
     "output_type": "display_data"
    },
    {
     "data": {
      "image/png": "[encoded data removed]",
      "text/plain": [
       "<Figure size 432x288 with 1 Axes>"
      ]
     },
     "metadata": {
      "needs_background": "light"
     },
     "output_type": "display_data"
    }
   ],
   "source": [
    "# Calculate and display relevant risk statistics\n",
    "test_rpp.cal_risk_stats()\n",
    "print(f'Marginal risk contribution of assets:\\n {test_rpp.MRC_}')\n",
    "print(f'Risk contribution of assets:\\n {test_rpp.RC_}')\n",
    "print(f'Relative risk contribution of assets:\\n {test_rpp.RRC_}')\n",
    "\n",
    "# Visualise risk statistics with graph\n",
    "test_rpp.visualise_risk_stats()\n",
    "\n",
    "# Output the allocation into an Excel file\n",
    "test_rpp.out_excel()"
   ]
  },
  {
   "cell_type": "markdown",
   "metadata": {},
   "source": [
    "## Comments\n",
    "As can be seen from the asset allocation DataFrame:\n",
    "The following allocation results in a Risk Parity portfolio of these 4 assets:\n",
    "\n",
    "1. **ACWI**: 9%\n",
    "2. **TIP**: 26%\n",
    "3. **GSG**: 7%\n",
    "4. **GVI**: 58%"
   ]
  },
  {
   "cell_type": "markdown",
   "metadata": {},
   "source": [
    "# Case 2: What does the Risk Profile of a 60/40 Portfolio look like?\n",
    "\n",
    "\n",
    "In this section, let's have a portfolio of 2 asset classes: Equity and Fixed Income. A 60/40 portfolio usually has 60% allocation in Equity and 40% allocation in Bond.\n",
    "\n",
    "1. Equity proxy: SPDR S&P 500 ETF [(**SPY**)](https://uk.finance.yahoo.com/quote/SPY?p=SPY&.tsrc=fin-srch)\n",
    "\n",
    "2. Fixed Income proxy: iShares Intermediate Govt/Crdt Bd ETF [(**GVI**)](https://www.ishares.com/us/products/239464/ishares-intermediate-governmentcredit-bond-etf) \n"
   ]
  },
  {
   "cell_type": "code",
   "execution_count": 10,
   "metadata": {},
   "outputs": [],
   "source": [
    "# Importing data\n",
    "assets_2 = ['ACWI', 'GVI']\n",
    "data_2 = api_data(api_key, assets_2, '1990.08.30', '2020.08.30', '1mo')\n",
    "outcome_df_2 = data_2.prep_data()"
   ]
  },
  {
   "cell_type": "code",
   "execution_count": 11,
   "metadata": {},
   "outputs": [
    {
     "name": "stdout",
     "output_type": "stream",
     "text": [
      "[[2.61093270e-03 6.16862327e-05]\n",
      " [6.16862327e-05 8.87415354e-05]]\n"
     ]
    }
   ],
   "source": [
    "# Get the return covariance matrix\n",
    "cov_mat_2 = preprocessing.transform(outcome_df_2)\n",
    "print(cov_mat_2)"
   ]
  },
  {
   "cell_type": "code",
   "execution_count": 12,
   "metadata": {},
   "outputs": [],
   "source": [
    "# Initiating the class to start the risk stats calculation process\n",
    "Portfolio_6040 = RiskParity(cov_mat_2, assets_2) "
   ]
  },
  {
   "cell_type": "code",
   "execution_count": 23,
   "metadata": {},
   "outputs": [
    {
     "name": "stdout",
     "output_type": "stream",
     "text": [
      "[0.2501492709089451, 0.24982151006671413, 0.24996589810456432, 0.2500633209197763] ['ACWI', 'TIP', 'GSG', 'GVI']\n"
     ]
    }
   ],
   "source": [
    "# Loading the allocation into the class\n",
    "# Manually inserting 60/40 allocation into the class\n",
    "import numpy as np\n",
    "Portfolio_6040.allocation_ = np.array([0.6, 0.4])\n",
    "Portfolio_6040.cal_risk_stats()\n",
    "print(test_rpp.RRC_, assets)"
   ]
  },
  {
   "cell_type": "code",
   "execution_count": 53,
   "metadata": {},
   "outputs": [
    {
     "data": {
      "text/plain": [
       "<Figure size 432x648 with 0 Axes>"
      ]
     },
     "metadata": {},
     "output_type": "display_data"
    },
    {
     "data": {
      "image/png": "[encoded data removed]",
      "text/plain": [
       "<Figure size 864x432 with 2 Axes>"
      ]
     },
     "metadata": {},
     "output_type": "display_data"
    },
    {
     "name": "stdout",
     "output_type": "stream",
     "text": [
      "60/40 allocation:\n",
      "  [('ACWI', 0.6), ('GVI', 0.4)]\n",
      "Risk Parity allocation:\n",
      "  [('ACWI', 0.0907), ('TIP', 0.2556), ('GSG', 0.0696), ('GVI', 0.584)]\n"
     ]
    }
   ],
   "source": [
    "import matplotlib.pyplot as plt\n",
    "import matplotlib as mpl\n",
    "\n",
    "# Visual params\n",
    "mpl.rcParams['font.size'] = 11\n",
    "plt.figure(figsize=(6,9))\n",
    "\n",
    "fig, (ax1,ax2) = plt.subplots(1, 2, figsize=(12,6))\n",
    "\n",
    "# Visualisation\n",
    "fig.suptitle('Relative risk contribution')\n",
    "ax1.pie(Portfolio_6040.RRC_, labels=assets_2, autopct='%.2f')\n",
    "ax1.set_title('A 60/40 portfolio')\n",
    "ax2.pie(test_rpp.RRC_, labels=assets, autopct='%.2f')\n",
    "ax2.set_title('A Risk Parity portfolio')\n",
    "plt.show()\n",
    "\n",
    "# Printing allocation\n",
    "print('60/40 allocation:\\n ', list(zip(assets_2, Portfolio_6040.allocation_)))\n",
    "print('Risk Parity allocation:\\n ', list(zip(assets, [round(w, 4) for w in test_rpp.allocation_])))"
   ]
  },
  {
   "cell_type": "markdown",
   "metadata": {},
   "source": [
    "A 60/40 portfolio like one above does not have real diversification. While only 60% of the capital is invested in ACWI, 97.05% of the portfolio's risk is driven by the asset. In the Risk Parity portfolio of 4 assets, only 9.07% of the capital is invested in ACWI, but it accounts for about 25% of the portfolio's risk."
   ]
  }
 ],
 "metadata": {
  "kernelspec": {
   "display_name": "Python 3",
   "language": "python",
   "name": "python3"
  },
  "language_info": {
   "codemirror_mode": {
    "name": "ipython",
    "version": 3
   },
   "file_extension": ".py",
   "mimetype": "text/x-python",
   "name": "python",
   "nbconvert_exporter": "python",
   "pygments_lexer": "ipython3",
   "version": "3.8.3"
  }
 },
 "nbformat": 4,
 "nbformat_minor": 4
}
