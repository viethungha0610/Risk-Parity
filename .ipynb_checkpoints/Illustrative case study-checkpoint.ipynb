{
 "cells": [
  {
   "cell_type": "markdown",
   "metadata": {},
   "source": [
    "The workflow of the programme depends on what input is available."
   ]
  },
  {
   "cell_type": "markdown",
   "metadata": {},
   "source": [
    "![image](Workflow/Slide1.png)\n",
    "![image](Workflow/Slide2.png)\n",
    "![image](Workflow/Slide3.png)"
   ]
  },
  {
   "cell_type": "markdown",
   "metadata": {},
   "source": [
    "In the following example, the full 4-step workflow will be illustrated.\n",
    "\n",
    "# Case study:\n",
    "\n",
    "Diversifying accross 4 asset classes:\n",
    "\n",
    "1. Global equities\n",
    "2. Inflation-protected securities\n",
    "3. Commodities\n",
    "4. Government bonds\n",
    "\n",
    "\n",
    "In this simple example, the following 4 ETFs will be selected as proxies:\n",
    "\n",
    "1. iShares MSCI ACWI ETF ([**ACWI**](https://www.ishares.com/us/products/239600/ishares-msci-acwi-etf) -> Global equities\n",
    "2. iShares TIPS Bond ETF [(**TIP**)](https://www.ishares.com/us/products/239467/ishares-tips-bond-etf) -> Inflation-protected securities\n",
    "3. iShares S&P GSCI Commodity-Indexed Trust [(**GSG**)](https://www.ishares.com/us/products/239757/ishares-sp-gsci-commodityindexed-trust-fund) -> Commodities\n",
    "4. iShares Intermediate Govt/Crdt Bd ETF [(**GVI**)](https://www.ishares.com/us/products/239464/ishares-intermediate-governmentcredit-bond-etf) -> Government bonds"
   ]
  },
  {
   "cell_type": "markdown",
   "metadata": {},
   "source": [
    "## Step 1. Data importing\n",
    "Run setup file to get the necessary libraries."
   ]
  },
  {
   "cell_type": "code",
   "execution_count": 1,
   "metadata": {},
   "outputs": [],
   "source": [
    "%run -i setup"
   ]
  },
  {
   "cell_type": "markdown",
   "metadata": {},
   "source": [
    "Import api_key from your secret file, and import the Risk Parity programmes from AssetAllocation python file."
   ]
  },
  {
   "cell_type": "code",
   "execution_count": 2,
   "metadata": {},
   "outputs": [],
   "source": [
    "from secret import api_key as api_key\n",
    "from AssetAllocation import RiskParity, NonConvexRP, PrepDataRP, api_data"
   ]
  },
  {
   "cell_type": "markdown",
   "metadata": {},
   "source": [
    "Specify the assets to get data online."
   ]
  },
  {
   "cell_type": "code",
   "execution_count": 3,
   "metadata": {},
   "outputs": [],
   "source": [
    "assets = ['ACWI', 'TIP', 'GSG', 'GVI']"
   ]
  },
  {
   "cell_type": "markdown",
   "metadata": {},
   "source": [
    "Initiate an instance of the api_data class and run the prep_data() method."
   ]
  },
  {
   "cell_type": "code",
   "execution_count": 4,
   "metadata": {},
   "outputs": [],
   "source": [
    "data = api_data(api_key, assets, '2010.08.30', '2020.08.30', '1mo')\n",
    "outcome_df = data.prep_data()"
   ]
  },
  {
   "cell_type": "markdown",
   "metadata": {},
   "source": [
    "## Step 2. Preprocessing data\n",
    "Initiate an instance of the preprocessor PrepDataRP() and turn the data into a return covariance matrix"
   ]
  },
  {
   "cell_type": "code",
   "execution_count": 5,
   "metadata": {},
   "outputs": [],
   "source": [
    "preprocessing = PrepDataRP()\n",
    "cov_mat = preprocessing.transform(outcome_df)\n",
    "assets = preprocessing.assets_"
   ]
  },
  {
   "cell_type": "markdown",
   "metadata": {},
   "source": [
    "## Step 3. Optimization\n",
    "Run the preprocessed data through the core optimization class."
   ]
  },
  {
   "cell_type": "code",
   "execution_count": 8,
   "metadata": {},
   "outputs": [
    {
     "name": "stdout",
     "output_type": "stream",
     "text": [
      "Minimised convex risk function value: -2.3463\n"
     ]
    },
    {
     "name": "stderr",
     "output_type": "stream",
     "text": [
      "C:\\Users\\Viet Hung Ha\\Documents\\Python\\Risk Parity\\AssetAllocation.py:62: RuntimeWarning: invalid value encountered in log\n",
      "  risk_func = 0.5*x_T.dot(self.cov_mat).dot(x) - b_T*(np.sum(np.log(x)))\n"
     ]
    },
    {
     "data": {
      "text/html": [
       "<div>\n",
       "<style scoped>\n",
       "    .dataframe tbody tr th:only-of-type {\n",
       "        vertical-align: middle;\n",
       "    }\n",
       "\n",
       "    .dataframe tbody tr th {\n",
       "        vertical-align: top;\n",
       "    }\n",
       "\n",
       "    .dataframe thead th {\n",
       "        text-align: right;\n",
       "    }\n",
       "</style>\n",
       "<table border=\"1\" class=\"dataframe\">\n",
       "  <thead>\n",
       "    <tr style=\"text-align: right;\">\n",
       "      <th></th>\n",
       "      <th>Assets</th>\n",
       "      <th>Allocation</th>\n",
       "    </tr>\n",
       "  </thead>\n",
       "  <tbody>\n",
       "    <tr>\n",
       "      <th>0</th>\n",
       "      <td>ACWI</td>\n",
       "      <td>0.0907</td>\n",
       "    </tr>\n",
       "    <tr>\n",
       "      <th>1</th>\n",
       "      <td>TIP</td>\n",
       "      <td>0.2556</td>\n",
       "    </tr>\n",
       "    <tr>\n",
       "      <th>2</th>\n",
       "      <td>GSG</td>\n",
       "      <td>0.0696</td>\n",
       "    </tr>\n",
       "    <tr>\n",
       "      <th>3</th>\n",
       "      <td>GVI</td>\n",
       "      <td>0.5840</td>\n",
       "    </tr>\n",
       "  </tbody>\n",
       "</table>\n",
       "</div>"
      ],
      "text/plain": [
       "  Assets  Allocation\n",
       "0   ACWI      0.0907\n",
       "1    TIP      0.2556\n",
       "2    GSG      0.0696\n",
       "3    GVI      0.5840"
      ]
     },
     "metadata": {},
     "output_type": "display_data"
    }
   ],
   "source": [
    "test_rpp = RiskParity(cov_mat, assets)\n",
    "test_rpp.optimize()"
   ]
  },
  {
   "cell_type": "markdown",
   "metadata": {},
   "source": [
    "## Step 4. Output\n",
    "\n",
    "Display and visualise risk statistics; Output an Excel file"
   ]
  },
  {
   "cell_type": "code",
   "execution_count": 19,
   "metadata": {},
   "outputs": [
    {
     "name": "stdout",
     "output_type": "stream",
     "text": [
      "Marginal risk contribution of assets:\n",
      " [0.02805182259096939, 0.0099437515929358, 0.03651706444738519, 0.004356879473644402]\n",
      "Risk contribution of assets:\n",
      " [0.0025452429803408177, 0.0025419080476428817, 0.002543377181006525, 0.0025443684480833477]\n",
      "Relative risk contribution of assets:\n",
      " [0.2501492709089451, 0.24982151006671413, 0.24996589810456432, 0.2500633209197763]\n"
     ]
    },
    {
     "data": {
      "image/png": "[encoded data removed]",
      "text/plain": [
       "<Figure size 432x288 with 1 Axes>"
      ]
     },
     "metadata": {
      "needs_background": "light"
     },
     "output_type": "display_data"
    },
    {
     "data": {
      "image/png": "[encoded data removed]",
      "text/plain": [
       "<Figure size 432x288 with 1 Axes>"
      ]
     },
     "metadata": {
      "needs_background": "light"
     },
     "output_type": "display_data"
    },
    {
     "data": {
      "image/png": "[encoded data removed]",
      "text/plain": [
       "<Figure size 432x288 with 1 Axes>"
      ]
     },
     "metadata": {
      "needs_background": "light"
     },
     "output_type": "display_data"
    }
   ],
   "source": [
    "# Calculate and display relevant risk statistics\n",
    "test_rpp.cal_risk_stats()\n",
    "print(f'Marginal risk contribution of assets:\\n {test_rpp.MRC_}')\n",
    "print(f'Risk contribution of assets:\\n {test_rpp.RC_}')\n",
    "print(f'Relative risk contribution of assets:\\n {test_rpp.RRC_}')\n",
    "\n",
    "# Visualise risk statistics with graph\n",
    "test_rpp.visualise_risk_stats()\n",
    "\n",
    "# Output the allocation into an Excel file\n",
    "test_rpp.out_excel()"
   ]
  },
  {
   "cell_type": "markdown",
   "metadata": {},
   "source": [
    "## Comments\n",
    "As can be seen from the asset allocation DataFrame:\n",
    "The following allocation results in a Risk Parity portfolio of these 4 assets:\n",
    "\n",
    "1. **ACWI**: 9%\n",
    "2. **TIP**: 26%\n",
    "3. **GSG**: 7%\n",
    "4. **GVI**: 58%"
   ]
  }
 ],
 "metadata": {
  "kernelspec": {
   "display_name": "Python 3",
   "language": "python",
   "name": "python3"
  },
  "language_info": {
   "codemirror_mode": {
    "name": "ipython",
    "version": 3
   },
   "file_extension": ".py",
   "mimetype": "text/x-python",
   "name": "python",
   "nbconvert_exporter": "python",
   "pygments_lexer": "ipython3",
   "version": "3.8.3"
  }
 },
 "nbformat": 4,
 "nbformat_minor": 4
}
