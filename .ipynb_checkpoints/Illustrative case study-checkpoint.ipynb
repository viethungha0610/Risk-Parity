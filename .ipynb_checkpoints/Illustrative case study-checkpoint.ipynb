{
 "cells": [
  {
   "cell_type": "markdown",
   "metadata": {},
   "source": [
    "The workflow of the programme depends on what input is available."
   ]
  },
  {
   "cell_type": "markdown",
   "metadata": {},
   "source": [
    "![image](Workflow/Slide1.png)\n",
    "![image](Workflow/Slide2.png)\n",
    "![image](Workflow/Slide3.png)"
   ]
  },
  {
   "cell_type": "markdown",
   "metadata": {},
   "source": [
    "In the following example, the full 4-step workflow will be illustrated.\n",
    "\n",
    "# Case 1:\n",
    "\n",
    "Diversifying accross 4 asset classes:\n",
    "\n",
    "1. Global equities\n",
    "2. Inflation-protected securities\n",
    "3. Commodities\n",
    "4. Government bonds\n",
    "\n",
    "\n",
    "In this simple example, the following 4 ETFs will be selected as proxies:\n",
    "\n",
    "1. iShares MSCI ACWI ETF ([**ACWI**](https://www.ishares.com/us/products/239600/ishares-msci-acwi-etf) -> Global equities\n",
    "2. iShares TIPS Bond ETF [(**TIP**)](https://www.ishares.com/us/products/239467/ishares-tips-bond-etf) -> Inflation-protected securities\n",
    "3. iShares S&P GSCI Commodity-Indexed Trust [(**GSG**)](https://www.ishares.com/us/products/239757/ishares-sp-gsci-commodityindexed-trust-fund) -> Commodities\n",
    "4. iShares Intermediate Govt/Crdt Bd ETF [(**GVI**)](https://www.ishares.com/us/products/239464/ishares-intermediate-governmentcredit-bond-etf) -> Government bonds"
   ]
  },
  {
   "cell_type": "markdown",
   "metadata": {},
   "source": [
    "## Step 1. Data importing\n",
    "Run setup file to get the necessary libraries."
   ]
  },
  {
   "cell_type": "code",
   "execution_count": 1,
   "metadata": {},
   "outputs": [],
   "source": [
    "%run -i setup"
   ]
  },
  {
   "cell_type": "markdown",
   "metadata": {},
   "source": [
    "Import api_key from your secret file, and import the Risk Parity programmes from AssetAllocation python file."
   ]
  },
  {
   "cell_type": "code",
   "execution_count": 2,
   "metadata": {},
   "outputs": [],
   "source": [
    "from secret import api_key as api_key\n",
    "from RiskParity import RiskParity, NonConvexRiskParity, DataPreprocessor, GetRapidAPIData"
   ]
  },
  {
   "cell_type": "code",
   "execution_count": 3,
   "metadata": {},
   "outputs": [
    {
     "name": "stdout",
     "output_type": "stream",
     "text": [
      "0d85196943mshb6828091ff3fedap147d34jsnee33a93be78a\n"
     ]
    }
   ],
   "source": [
    "# Random code blocks\n",
    "print(api_key)"
   ]
  },
  {
   "cell_type": "markdown",
   "metadata": {},
   "source": [
    "Specify the assets to get data online."
   ]
  },
  {
   "cell_type": "code",
   "execution_count": 4,
   "metadata": {},
   "outputs": [],
   "source": [
    "assets = ['ACWI', 'TIP', 'GSG', 'GVI']"
   ]
  },
  {
   "cell_type": "markdown",
   "metadata": {},
   "source": [
    "Initiate an instance of the api_data class and run the prep_data() method."
   ]
  },
  {
   "cell_type": "code",
   "execution_count": 5,
   "metadata": {
    "scrolled": true
   },
   "outputs": [
    {
     "name": "stdout",
     "output_type": "stream",
     "text": [
      "Getting data for ACWI ...\n",
      "Getting data for TIP ...\n",
      "Getting data for GSG ...\n",
      "Getting data for GVI ...\n",
      "Pulling together a consolidated DataFrame ...\n",
      "Relevant data has been downloaded successfully.\n"
     ]
    }
   ],
   "source": [
    "data = GetRapidAPIData(api_key, assets, '2010.08.30', '2020.11.30', '1mo')\n",
    "outcome_df = data.prep_data()"
   ]
  },
  {
   "cell_type": "code",
   "execution_count": 6,
   "metadata": {},
   "outputs": [
    {
     "data": {
      "text/html": [
       "<div>\n",
       "<style scoped>\n",
       "    .dataframe tbody tr th:only-of-type {\n",
       "        vertical-align: middle;\n",
       "    }\n",
       "\n",
       "    .dataframe tbody tr th {\n",
       "        vertical-align: top;\n",
       "    }\n",
       "\n",
       "    .dataframe thead th {\n",
       "        text-align: right;\n",
       "    }\n",
       "</style>\n",
       "<table border=\"1\" class=\"dataframe\">\n",
       "  <thead>\n",
       "    <tr style=\"text-align: right;\">\n",
       "      <th></th>\n",
       "      <th>Date</th>\n",
       "      <th>ACWI</th>\n",
       "      <th>TIP</th>\n",
       "      <th>GSG</th>\n",
       "      <th>GVI</th>\n",
       "    </tr>\n",
       "  </thead>\n",
       "  <tbody>\n",
       "    <tr>\n",
       "      <th>122</th>\n",
       "      <td>2010-09-01</td>\n",
       "      <td>34.383957</td>\n",
       "      <td>89.716446</td>\n",
       "      <td>30.010000</td>\n",
       "      <td>89.709450</td>\n",
       "    </tr>\n",
       "    <tr>\n",
       "      <th>121</th>\n",
       "      <td>2010-10-01</td>\n",
       "      <td>35.673061</td>\n",
       "      <td>91.847870</td>\n",
       "      <td>30.879999</td>\n",
       "      <td>89.889923</td>\n",
       "    </tr>\n",
       "    <tr>\n",
       "      <th>120</th>\n",
       "      <td>2010-11-01</td>\n",
       "      <td>34.893219</td>\n",
       "      <td>90.198616</td>\n",
       "      <td>31.260000</td>\n",
       "      <td>89.252754</td>\n",
       "    </tr>\n",
       "    <tr>\n",
       "      <th>119</th>\n",
       "      <td>2010-12-01</td>\n",
       "      <td>37.248615</td>\n",
       "      <td>88.786621</td>\n",
       "      <td>34.099998</td>\n",
       "      <td>88.090508</td>\n",
       "    </tr>\n",
       "    <tr>\n",
       "      <th>118</th>\n",
       "      <td>2011-01-01</td>\n",
       "      <td>38.013916</td>\n",
       "      <td>89.167252</td>\n",
       "      <td>35.160000</td>\n",
       "      <td>88.751053</td>\n",
       "    </tr>\n",
       "    <tr>\n",
       "      <th>...</th>\n",
       "      <td>...</td>\n",
       "      <td>...</td>\n",
       "      <td>...</td>\n",
       "      <td>...</td>\n",
       "      <td>...</td>\n",
       "    </tr>\n",
       "    <tr>\n",
       "      <th>4</th>\n",
       "      <td>2020-07-01</td>\n",
       "      <td>77.072403</td>\n",
       "      <td>124.972298</td>\n",
       "      <td>10.750000</td>\n",
       "      <td>117.131371</td>\n",
       "    </tr>\n",
       "    <tr>\n",
       "      <th>3</th>\n",
       "      <td>2020-08-01</td>\n",
       "      <td>81.716400</td>\n",
       "      <td>126.084412</td>\n",
       "      <td>11.250000</td>\n",
       "      <td>116.964706</td>\n",
       "    </tr>\n",
       "    <tr>\n",
       "      <th>2</th>\n",
       "      <td>2020-09-01</td>\n",
       "      <td>79.305092</td>\n",
       "      <td>125.607788</td>\n",
       "      <td>10.750000</td>\n",
       "      <td>116.921486</td>\n",
       "    </tr>\n",
       "    <tr>\n",
       "      <th>1</th>\n",
       "      <td>2020-10-01</td>\n",
       "      <td>77.538788</td>\n",
       "      <td>124.346756</td>\n",
       "      <td>10.380000</td>\n",
       "      <td>116.614868</td>\n",
       "    </tr>\n",
       "    <tr>\n",
       "      <th>0</th>\n",
       "      <td>2020-11-01</td>\n",
       "      <td>86.658081</td>\n",
       "      <td>125.943512</td>\n",
       "      <td>11.650000</td>\n",
       "      <td>117.199776</td>\n",
       "    </tr>\n",
       "  </tbody>\n",
       "</table>\n",
       "<p>123 rows × 5 columns</p>\n",
       "</div>"
      ],
      "text/plain": [
       "           Date       ACWI         TIP        GSG         GVI\n",
       "122  2010-09-01  34.383957   89.716446  30.010000   89.709450\n",
       "121  2010-10-01  35.673061   91.847870  30.879999   89.889923\n",
       "120  2010-11-01  34.893219   90.198616  31.260000   89.252754\n",
       "119  2010-12-01  37.248615   88.786621  34.099998   88.090508\n",
       "118  2011-01-01  38.013916   89.167252  35.160000   88.751053\n",
       "..          ...        ...         ...        ...         ...\n",
       "4    2020-07-01  77.072403  124.972298  10.750000  117.131371\n",
       "3    2020-08-01  81.716400  126.084412  11.250000  116.964706\n",
       "2    2020-09-01  79.305092  125.607788  10.750000  116.921486\n",
       "1    2020-10-01  77.538788  124.346756  10.380000  116.614868\n",
       "0    2020-11-01  86.658081  125.943512  11.650000  117.199776\n",
       "\n",
       "[123 rows x 5 columns]"
      ]
     },
     "execution_count": 6,
     "metadata": {},
     "output_type": "execute_result"
    }
   ],
   "source": [
    "outcome_df"
   ]
  },
  {
   "cell_type": "code",
   "execution_count": 7,
   "metadata": {},
   "outputs": [
    {
     "data": {
      "text/html": [
       "<div>\n",
       "<style scoped>\n",
       "    .dataframe tbody tr th:only-of-type {\n",
       "        vertical-align: middle;\n",
       "    }\n",
       "\n",
       "    .dataframe tbody tr th {\n",
       "        vertical-align: top;\n",
       "    }\n",
       "\n",
       "    .dataframe thead th {\n",
       "        text-align: right;\n",
       "    }\n",
       "</style>\n",
       "<table border=\"1\" class=\"dataframe\">\n",
       "  <thead>\n",
       "    <tr style=\"text-align: right;\">\n",
       "      <th></th>\n",
       "      <th>Date</th>\n",
       "      <th>ACWI</th>\n",
       "      <th>TIP</th>\n",
       "      <th>GSG</th>\n",
       "      <th>GVI</th>\n",
       "    </tr>\n",
       "  </thead>\n",
       "  <tbody>\n",
       "    <tr>\n",
       "      <th>122</th>\n",
       "      <td>2010-09-01</td>\n",
       "      <td>34.383957</td>\n",
       "      <td>89.716446</td>\n",
       "      <td>30.010000</td>\n",
       "      <td>89.709450</td>\n",
       "    </tr>\n",
       "    <tr>\n",
       "      <th>121</th>\n",
       "      <td>2010-10-01</td>\n",
       "      <td>35.673061</td>\n",
       "      <td>91.847870</td>\n",
       "      <td>30.879999</td>\n",
       "      <td>89.889923</td>\n",
       "    </tr>\n",
       "    <tr>\n",
       "      <th>120</th>\n",
       "      <td>2010-11-01</td>\n",
       "      <td>34.893219</td>\n",
       "      <td>90.198616</td>\n",
       "      <td>31.260000</td>\n",
       "      <td>89.252754</td>\n",
       "    </tr>\n",
       "    <tr>\n",
       "      <th>119</th>\n",
       "      <td>2010-12-01</td>\n",
       "      <td>37.248615</td>\n",
       "      <td>88.786621</td>\n",
       "      <td>34.099998</td>\n",
       "      <td>88.090508</td>\n",
       "    </tr>\n",
       "    <tr>\n",
       "      <th>118</th>\n",
       "      <td>2011-01-01</td>\n",
       "      <td>38.013916</td>\n",
       "      <td>89.167252</td>\n",
       "      <td>35.160000</td>\n",
       "      <td>88.751053</td>\n",
       "    </tr>\n",
       "    <tr>\n",
       "      <th>...</th>\n",
       "      <td>...</td>\n",
       "      <td>...</td>\n",
       "      <td>...</td>\n",
       "      <td>...</td>\n",
       "      <td>...</td>\n",
       "    </tr>\n",
       "    <tr>\n",
       "      <th>4</th>\n",
       "      <td>2020-07-01</td>\n",
       "      <td>77.072403</td>\n",
       "      <td>124.972298</td>\n",
       "      <td>10.750000</td>\n",
       "      <td>117.131371</td>\n",
       "    </tr>\n",
       "    <tr>\n",
       "      <th>3</th>\n",
       "      <td>2020-08-01</td>\n",
       "      <td>81.716400</td>\n",
       "      <td>126.084412</td>\n",
       "      <td>11.250000</td>\n",
       "      <td>116.964706</td>\n",
       "    </tr>\n",
       "    <tr>\n",
       "      <th>2</th>\n",
       "      <td>2020-09-01</td>\n",
       "      <td>79.305092</td>\n",
       "      <td>125.607788</td>\n",
       "      <td>10.750000</td>\n",
       "      <td>116.921486</td>\n",
       "    </tr>\n",
       "    <tr>\n",
       "      <th>1</th>\n",
       "      <td>2020-10-01</td>\n",
       "      <td>77.538788</td>\n",
       "      <td>124.346756</td>\n",
       "      <td>10.380000</td>\n",
       "      <td>116.614868</td>\n",
       "    </tr>\n",
       "    <tr>\n",
       "      <th>0</th>\n",
       "      <td>2020-11-01</td>\n",
       "      <td>86.658081</td>\n",
       "      <td>125.943512</td>\n",
       "      <td>11.650000</td>\n",
       "      <td>117.199776</td>\n",
       "    </tr>\n",
       "  </tbody>\n",
       "</table>\n",
       "<p>123 rows × 5 columns</p>\n",
       "</div>"
      ],
      "text/plain": [
       "           Date       ACWI         TIP        GSG         GVI\n",
       "122  2010-09-01  34.383957   89.716446  30.010000   89.709450\n",
       "121  2010-10-01  35.673061   91.847870  30.879999   89.889923\n",
       "120  2010-11-01  34.893219   90.198616  31.260000   89.252754\n",
       "119  2010-12-01  37.248615   88.786621  34.099998   88.090508\n",
       "118  2011-01-01  38.013916   89.167252  35.160000   88.751053\n",
       "..          ...        ...         ...        ...         ...\n",
       "4    2020-07-01  77.072403  124.972298  10.750000  117.131371\n",
       "3    2020-08-01  81.716400  126.084412  11.250000  116.964706\n",
       "2    2020-09-01  79.305092  125.607788  10.750000  116.921486\n",
       "1    2020-10-01  77.538788  124.346756  10.380000  116.614868\n",
       "0    2020-11-01  86.658081  125.943512  11.650000  117.199776\n",
       "\n",
       "[123 rows x 5 columns]"
      ]
     },
     "metadata": {},
     "output_type": "display_data"
    }
   ],
   "source": [
    "import os\n",
    "display(outcome_df)\n",
    "cwd = os.getcwd()\n",
    "outcome_df.to_excel(f'{cwd}//4_assets_Case_1.xlsx', index=False)"
   ]
  },
  {
   "cell_type": "markdown",
   "metadata": {},
   "source": [
    "## Step 2. Preprocessing data\n",
    "Initiate an instance of the preprocessor PrepDataRP() and turn the data into a return covariance matrix"
   ]
  },
  {
   "cell_type": "code",
   "execution_count": 8,
   "metadata": {},
   "outputs": [
    {
     "name": "stdout",
     "output_type": "stream",
     "text": [
      "Transforming data into usable format (Covariance Matrix)\n",
      "Data transformation complete.\n"
     ]
    }
   ],
   "source": [
    "preprocessing = DataPreprocessor()\n",
    "cov_mat = preprocessing.transform(outcome_df)\n",
    "assets = preprocessing.assets_"
   ]
  },
  {
   "cell_type": "markdown",
   "metadata": {},
   "source": [
    "## Step 3. Optimization\n",
    "Run the preprocessed data through the core optimization class."
   ]
  },
  {
   "cell_type": "code",
   "execution_count": 9,
   "metadata": {},
   "outputs": [
    {
     "name": "stdout",
     "output_type": "stream",
     "text": [
      "Minimised convex risk function value: -2.3298\n",
      "  Assets  Allocation\n",
      "0   ACWI      0.0878\n",
      "1    TIP      0.2567\n",
      "2    GSG      0.0684\n",
      "3    GVI      0.5870\n"
     ]
    },
    {
     "name": "stderr",
     "output_type": "stream",
     "text": [
      "C:\\Users\\ZH834BT\\OneDrive - EY\\Documents\\GitHub\\Risk-Parity\\RiskParity.py:59: RuntimeWarning: invalid value encountered in log\n",
      "  risk_func = 0.5*x_T.dot(self.cov_mat).dot(x) - b_T*(np.sum(np.log(x)))\n"
     ]
    }
   ],
   "source": [
    "test_rpp = RiskParity(cov_mat, assets)\n",
    "test_rpp.optimize()"
   ]
  },
  {
   "cell_type": "markdown",
   "metadata": {},
   "source": [
    "## Step 4. Output\n",
    "\n",
    "Display and visualise risk statistics; Output an Excel file"
   ]
  },
  {
   "cell_type": "code",
   "execution_count": 10,
   "metadata": {
    "scrolled": false
   },
   "outputs": [
    {
     "name": "stdout",
     "output_type": "stream",
     "text": [
      "Marginal risk contribution of assets:\n",
      " [0.02910439696723612, 0.009983822866910843, 0.03740115290270145, 0.004361937197530657]\n",
      "Risk contribution of assets:\n",
      " [0.002554569384264542, 0.0025631745511922924, 0.002560034209772999, 0.0025606603798990013]\n",
      "Relative risk contribution of assets:\n",
      " [0.24950771330947621, 0.25034818980465956, 0.25004146906676716, 0.250102627819097]\n"
     ]
    },
    {
     "data": {
      "image/png": "[encoded data removed]",
      "text/plain": [
       "<Figure size 432x288 with 1 Axes>"
      ]
     },
     "metadata": {
      "needs_background": "light"
     },
     "output_type": "display_data"
    }
   ],
   "source": [
    "# Calculate and display relevant risk statistics\n",
    "test_rpp.cal_risk_stats()\n",
    "print(f'Marginal risk contribution of assets:\\n {test_rpp.MRC_}')\n",
    "print(f'Risk contribution of assets:\\n {test_rpp.RC_}')\n",
    "print(f'Relative risk contribution of assets:\\n {test_rpp.RRC_}')\n",
    "\n",
    "# Visualise risk statistics with graph\n",
    "test_rpp.visualise_risk_stats()\n",
    "\n",
    "# Output the allocation into an Excel file\n",
    "# test_rpp.out_excel()"
   ]
  },
  {
   "cell_type": "markdown",
   "metadata": {},
   "source": [
    "## Extra: generating a summary Excel file"
   ]
  },
  {
   "cell_type": "code",
   "execution_count": 13,
   "metadata": {},
   "outputs": [
    {
     "data": {
      "image/png": "[encoded data removed]",
      "text/plain": [
       "<Figure size 432x432 with 1 Axes>"
      ]
     },
     "metadata": {},
     "output_type": "display_data"
    }
   ],
   "source": [
    "# Using Matplotlib\n",
    "pie, ax = plt.subplots(figsize=[6,6])\n",
    "labels = assets\n",
    "plt.pie(x=test_rpp.allocation_, autopct=\"%.1f%%\", labels=labels, startangle=90)\n",
    "plt.title(\"Risk Parity Asset Allocation\", fontsize=14)\n",
    "pie.savefig('Allocation_pie.png')"
   ]
  },
  {
   "cell_type": "code",
   "execution_count": 15,
   "metadata": {},
   "outputs": [],
   "source": [
    "# Generate summary Excel file\n",
    "writer = pd.ExcelWriter('RiskParity_summary.xlsx', engine='xlsxwriter')\n",
    "test_rpp.allocation_df_.to_excel(writer, sheet_name='Allocation', index=False)\n",
    "worksheet_allocation = writer.sheets['Allocation']\n",
    "worksheet_allocation.insert_image('D1', 'Allocation_pie.png')\n",
    "risk_stats_df = pd.DataFrame({'Assets': assets, \n",
    "                        'Marginal Risk Contribution': test_rpp.MRC_,\n",
    "                        'Risk Contribution': test_rpp.RC_,\n",
    "                        'Relative Risk Contribution': test_rpp.RRC_})\n",
    "risk_stats_df.to_excel(writer, sheet_name='Risk Stats', index=False)\n",
    "worksheet_riskstats = writer.sheets['Risk Stats']\n",
    "worksheet_riskstats.insert_image('F1', 'MRC_fig.png')\n",
    "worksheet_riskstats.insert_image('F25', 'RC_fig.png')\n",
    "worksheet_riskstats.insert_image('F49', 'RRC_fig.png')\n",
    "outcome_df.to_excel(writer, sheet_name='Data', index=False)\n",
    "writer.save()"
   ]
  },
  {
   "cell_type": "markdown",
   "metadata": {},
   "source": [
    "## Comments\n",
    "As can be seen from the asset allocation DataFrame:\n",
    "The following allocation results in a Risk Parity portfolio of these 4 assets:\n",
    "\n",
    "1. **ACWI**: 9%\n",
    "2. **TIP**: 26%\n",
    "3. **GSG**: 7%\n",
    "4. **GVI**: 58%"
   ]
  },
  {
   "cell_type": "markdown",
   "metadata": {},
   "source": [
    "# Case 2: What does the Risk Profile of a 60/40 Portfolio look like?\n",
    "\n",
    "\n",
    "In this section, let's have a portfolio of 2 asset classes: Equity and Fixed Income. A 60/40 portfolio usually has 60% allocation in Equity and 40% allocation in Bond.\n",
    "\n",
    "1. Equity proxy: SPDR S&P 500 ETF [(**SPY**)](https://uk.finance.yahoo.com/quote/SPY?p=SPY&.tsrc=fin-srch)\n",
    "\n",
    "2. Fixed Income proxy: iShares Intermediate Govt/Crdt Bd ETF [(**GVI**)](https://www.ishares.com/us/products/239464/ishares-intermediate-governmentcredit-bond-etf) \n"
   ]
  },
  {
   "cell_type": "code",
   "execution_count": null,
   "metadata": {},
   "outputs": [],
   "source": [
    "# Importing data\n",
    "assets_2 = ['ACWI', 'GVI']\n",
    "data_2 = GetRapidAPIData(api_key, assets_2, '1990.08.30', '2020.11.30', '1mo')\n",
    "outcome_df_2 = data_2.prep_data()"
   ]
  },
  {
   "cell_type": "code",
   "execution_count": null,
   "metadata": {},
   "outputs": [],
   "source": [
    "# Get the return covariance matrix\n",
    "cov_mat_2 = preprocessing.transform(outcome_df_2)\n",
    "print(cov_mat_2)"
   ]
  },
  {
   "cell_type": "code",
   "execution_count": null,
   "metadata": {},
   "outputs": [],
   "source": [
    "# Initiating the class to start the risk stats calculation process\n",
    "Portfolio_6040 = RiskParity(cov_mat_2, assets_2) "
   ]
  },
  {
   "cell_type": "code",
   "execution_count": null,
   "metadata": {},
   "outputs": [],
   "source": [
    "# Loading the allocation into the class\n",
    "# Manually inserting 60/40 allocation into the class\n",
    "import numpy as np\n",
    "Portfolio_6040.allocation_ = np.array([0.6, 0.4])\n",
    "Portfolio_6040.cal_risk_stats()\n",
    "print(test_rpp.RRC_, assets)"
   ]
  },
  {
   "cell_type": "code",
   "execution_count": null,
   "metadata": {},
   "outputs": [],
   "source": [
    "import matplotlib.pyplot as plt\n",
    "import matplotlib as mpl\n",
    "\n",
    "# Visual params\n",
    "mpl.rcParams['font.size'] = 11\n",
    "plt.figure(figsize=(6,9))\n",
    "\n",
    "fig, (ax1,ax2) = plt.subplots(1, 2, figsize=(12,6))\n",
    "\n",
    "# Visualisation\n",
    "fig.suptitle('Relative risk contribution')\n",
    "ax1.pie(Portfolio_6040.RRC_, labels=assets_2, autopct='%.2f')\n",
    "ax1.set_title('A 60/40 portfolio')\n",
    "ax2.pie(test_rpp.RRC_, labels=assets, autopct='%.2f')\n",
    "ax2.set_title('A Risk Parity portfolio')\n",
    "plt.show()\n",
    "\n",
    "# Printing allocation\n",
    "print('60/40 allocation:\\n ', list(zip(assets_2, Portfolio_6040.allocation_)))\n",
    "print('Risk Parity allocation:\\n ', list(zip(assets, [round(w, 4) for w in test_rpp.allocation_])))"
   ]
  },
  {
   "cell_type": "markdown",
   "metadata": {},
   "source": [
    "A 60/40 portfolio like one above does not have real diversification. While only 60% of the capital is invested in ACWI, 97.05% of the portfolio's risk is driven by the asset. In the Risk Parity portfolio of 4 assets, only 9.07% of the capital is invested in ACWI, but it accounts for about 25% of the portfolio's risk."
   ]
  }
 ],
 "metadata": {
  "kernelspec": {
   "display_name": "Python 3",
   "language": "python",
   "name": "python3"
  },
  "language_info": {
   "codemirror_mode": {
    "name": "ipython",
    "version": 3
   },
   "file_extension": ".py",
   "mimetype": "text/x-python",
   "name": "python",
   "nbconvert_exporter": "python",
   "pygments_lexer": "ipython3",
   "version": "3.7.4"
  }
 },
 "nbformat": 4,
 "nbformat_minor": 4
}
