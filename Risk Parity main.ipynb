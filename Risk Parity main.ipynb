{
 "cells": [
  {
   "cell_type": "markdown",
   "metadata": {},
   "source": [
    "# **Risk parity project - Main notebook**\n",
    "\n",
    "by [Viet Hung Ha](https://www.linkedin.com/in/viethungha0610/)\n",
    "\n",
    "\n",
    "This is the main descriptive notebook. I plan to keep as little technical and mathmatical details as possible. I will mainly focus on the implementation and application of this programme.\n",
    "\n",
    "## The problem:\n",
    "\n",
    "To manage risk, one usually has to look to portfolio diversification, be it stocks, asset classes, or agricultural crops. A naive way to diversify is to attribute equal weighting to each asset in the portfolio e.g. if n_assets=2, then the allocation is 50/50. However, depending on the individual risk profile of each asset and their correlation, the portfolio might not be diversified at all.\n",
    "\n",
    "\n",
    "Take a typical 60/40 Equity/Bond portfolio, one might think 60% of risk is in Equity and 40% in Bond. However, about 90% of the portfolio risk will be driven by Equity as it is generally a more volatile asset class.\n",
    "\n",
    "\n",
    "With this intuition, how does one split their portfolio so that each of the individual investment carry the same amount of risk (not dollar investment)? \n",
    "\n",
    "The answer is a Risk Parity Portfolio, in which each asset's **marginal** risk contribution is measured and weighted accordingly so that all assets contribute equal amount of risk to the portfolio."
   ]
  },
  {
   "cell_type": "markdown",
   "metadata": {},
   "source": [
    "This project is based on the body of research on Risk Parity Portfolio. My project would not have existed without the research on this area.\n",
    "\n",
    "**Core References for the mathematical foundation:**\n",
    "\n",
    "1. [Braga, 2016](https://www.springer.com/gp/book/9783319243801)\n",
    "2. [Palomar, 2019](https://palomar.home.ece.ust.hk/MAFS6010R_lectures/slides_risk_parity_portfolio.html#1)\n",
    "3. [Maillard, Roncalli and Teïletche, 2010](https://jpm.pm-research.com/content/36/4/60.abstract)"
   ]
  },
  {
   "cell_type": "markdown",
   "metadata": {},
   "source": [
    "The project will mainly have 3 components:\n",
    "1. **Data importing component**: connecting with an API to get structured data on asset prices\n",
    "\n",
    "2. **Preprocessing component**: to receive (or even gather) readily available data and generate input into the Risk Parity optimisation model\n",
    "\n",
    "3. **Optimization component**: responsible for the optimisation and generate asset allocation as output\n",
    "\n",
    "4. **Output component**: generate meaningful statistics and visualisation to inform investment decisions, along with an Excel file with allocation\n",
    "\n",
    "**Future**\n",
    "5. The project will be refined over time and adding **customizable risk budgets** will be the next target. This will significantly increase the complexity of the project. Instead of having Risk Parity, one may want a bit more risk contribution from a specific asset than another one."
   ]
  },
  {
   "cell_type": "markdown",
   "metadata": {},
   "source": [
    "## Importing relevant libraries"
   ]
  },
  {
   "cell_type": "code",
   "execution_count": 1,
   "metadata": {},
   "outputs": [],
   "source": [
    "import pandas as pd\n",
    "import numpy as np\n",
    "import sympy\n",
    "from scipy.optimize import minimize\n",
    "import scipy.linalg as la"
   ]
  },
  {
   "cell_type": "markdown",
   "metadata": {},
   "source": [
    "# 1. Class design \n",
    "## 1a. Convex formulation"
   ]
  },
  {
   "cell_type": "markdown",
   "metadata": {},
   "source": [
    "Problem:\\\n",
    "\\\n",
    "$minimize_{\\mathbf{x}\\geq0} \\; \\; \\frac{1}{2}\\mathbf{x}^T\\Sigma\\mathbf{x} - \\mathbf{b}\\log{(\\mathbf{x})} $ \\\n",
    "\\\n",
    "Whereby:\\\n",
    "\\\n",
    "$\\mathbf{x} \\; = \\; \\frac{\\mathbf{w}}{\\sqrt{\\mathbf{w}^T\\Sigma\\mathbf{w}}}$"
   ]
  },
  {
   "cell_type": "markdown",
   "metadata": {},
   "source": [
    "**Important attributes:**\n",
    "1. **Marginal risk contribution (MRC)** of the $i$th asset to the total risk of $\\sigma(\\mathbf{w})$:\\\n",
    "\\\n",
    "$ MRC_i \\; = \\; \\frac{\\partial\\sigma}{\\partial w_i} \\; = \\; \\frac{(\\Sigma\\mathbf{w})_i}{\\sqrt{\\mathbf{w}^T\\Sigma\\mathbf{w}}}$\\\n",
    "\\\n",
    "This measures the sensitivity of the portfolio volatility to the $i$th asset weight.\n",
    "\n",
    "\n",
    "2. **Risk contribution (RC)** from the $i$th asset to the total risk $\\sigma(\\mathbf{w})$:\\\n",
    "\\\n",
    "$ RC_i \\; = \\; w_i\\frac{\\partial\\sigma}{\\partial w_i} = \\frac{w_i(\\Sigma\\mathbf{w})_i}{\\sqrt{\\mathbf{w}^T\\Sigma\\mathbf{w}}} $\n",
    "\n",
    "\n",
    "3. **Relative risk contribution (RRC)** is the ratio of an asset's RC to the total portfolio risk $\\sigma(\\mathbf{w})$:\\\n",
    "\\\n",
    "$RRC_i \\; = \\; \\frac{RC_i}{\\sigma(\\mathbf{w})} \\; = \\; \\frac{w_i(\\Sigma\\mathbf{w})_i}{\\mathbf{w}^T\\Sigma\\mathbf{w}}$\n",
    "\n",
    "\n",
    "Note that:\n",
    "\n",
    "\n",
    "$\\Sigma$ is the Variance-Covariance matrix of the portfolio\\\n",
    "and\\\n",
    "$\\mathbf{w}$ is the vector of portfolio assets' weights"
   ]
  },
  {
   "cell_type": "code",
   "execution_count": 2,
   "metadata": {},
   "outputs": [],
   "source": [
    "# Parent class\n",
    "class RiskParity():\n",
    "    \"\"\"\n",
    "    This is the main Risk Parity class, where main operations such as calculating the risk function\n",
    "    \"\"\"\n",
    "    from scipy.optimize import minimize\n",
    "    import numpy as np\n",
    "    def __init__(self, \n",
    "                 cov_mat,\n",
    "                 assets=None,\n",
    "                 w_guess=None):\n",
    "        \"\"\"Inserting data into class\"\"\"\n",
    "        \"\"\"Following guidance in Braga (2016), the class will by default favour optimisation via SQP\"\"\"\n",
    "        \"\"\"\n",
    "        Args:\n",
    "            cov_mat (array): the return covariance matrix \n",
    "            assets (list): list of asset names or ticker \n",
    "            w_guess (list or array): initial guess for Risk Parity asset allocation, if not specified the default will be equal weights \n",
    "\n",
    "        Raises:\n",
    "            ValueError: if the number of assets is not equal to the number of rows/columns of the covariance matrix.\n",
    "        \"\"\"\n",
    "        self.cov_mat = cov_mat\n",
    "        self.assets = assets\n",
    "        if w_guess is None:\n",
    "            w_guess=np.full((self.cov_mat.shape[0]), 1/self.cov_mat.shape[0])\n",
    "            self.w_guess = w_guess\n",
    "        self.w_guess = w_guess\n",
    "        # Error handling: Making sure len(assets) == len(cov_mat.shape[0])\n",
    "        if len(self.assets) != self.cov_mat.shape[0]:\n",
    "            raise ValueError('Number of assets must be equal to number of rows/columns of the covariance matrix')\n",
    "\n",
    "    def risk_func(self, w=None):\n",
    "        \"\"\"Main risk function to minimise - convex risk function. In this class, this is a helper function.\n",
    "        Args:\n",
    "            w (list or array): initial guess for Risk Parity asset allocation, if not specified the default will be equal weights (list or array)\n",
    "\n",
    "        Returns:\n",
    "            risk_func (float): the calculated risk function\n",
    "        \"\"\"\n",
    "        # Start off with vector x\n",
    "        if w is None:\n",
    "            w = self.w_guess\n",
    "        b_T = 1/len(w)\n",
    "        w_T = w.T\n",
    "        x = w / (np.sqrt(w_T.dot(self.cov_mat).dot(w)))\n",
    "        # Then the main function\n",
    "        x_T = x.T\n",
    "        risk_func = 0.5*x_T.dot(self.cov_mat).dot(x) - b_T*(np.sum(np.log(x)))\n",
    "        self.risk_func_ = risk_func\n",
    "        return risk_func\n",
    "    \n",
    "    def optimize(self, assets=None, method='SLSQP'):\n",
    "        \"\"\"This method minimize the risk function (risk_func) and displays a Risk Parity asset allocation.\n",
    "\n",
    "        Args:\n",
    "            assets (list): list of name of assets, if not specified then using the same list of assets when the class instance is initiated. \n",
    "            method (str): method for optimization, default is Sequential Least Squares Programming (SLSQP). \n",
    "            For full list of optimization method,\n",
    "                refer to [https://docs.scipy.org/doc/scipy/reference/generated/scipy.optimize.minimize.html]\n",
    "        \n",
    "        Attributes:\n",
    "            allocation_ (list): the Risk Parity asset allocation \n",
    "            allocation_df_ (Pandas DataFrame): a Pandas DataFrame with 2 columns: 1. asset names and 2. their Risk Parity allocation \n",
    "            minimised_val_ (float): the minimised value of the convex risk function \n",
    "        \"\"\"\n",
    "        self.method = method\n",
    "        if assets is None:\n",
    "            assets=self.assets\n",
    "        opti_result = minimize(self.risk_func, self.w_guess, \n",
    "                               method=self.method)\n",
    "        allocation = opti_result.x / sum(opti_result.x)\n",
    "        print('Minimised convex risk function value: {:.4f}'.format(opti_result.fun))\n",
    "        allocation_df = pd.DataFrame({'Assets':assets, \n",
    "                                      'Allocation':np.round(allocation, 4)})\n",
    "        display(allocation_df)\n",
    "        self.allocation_ = allocation\n",
    "        self.allocation_df_ = allocation_df\n",
    "        self.minimised_val_ = opti_result.fun\n",
    "    \n",
    "    def cal_risk_stats(self, assets=None):\n",
    "        \"\"\"This method calculates marginal risk contribution (MRC), risk contribution (RC)\n",
    "        and relative risk contribution (RRC) of the ith asset.\n",
    "        \n",
    "        Args:\n",
    "            assets (list or array): list of name of assets, if not specified then using the same list of assets when the class instance is initiated. \n",
    "\n",
    "        Attributes:\n",
    "            MRC_ (array): marginal risk contribution of the ith asset \n",
    "            RC_ (array): risk contribution of the ith asset \n",
    "            RRC_ (array): relative risk contribution of the ith asset \n",
    "        \"\"\"\n",
    "        if assets is None:\n",
    "            assets=self.assets\n",
    "        w_rpp = self.allocation_\n",
    "        w_rpp_T = w_rpp.T\n",
    "        portfolio_vol = np.sqrt(w_rpp_T.dot(self.cov_mat).dot(w_rpp))\n",
    "        \n",
    "        # Marginal risk contribution (MRC)\n",
    "        MRC_num = self.cov_mat.dot(w_rpp)\n",
    "        MRC_denom = portfolio_vol\n",
    "        MRC = []\n",
    "        for val, i in zip(MRC_num, range(len(assets))):\n",
    "            MRC.append(MRC_num[i] / MRC_denom)\n",
    "        self.MRC_ = MRC\n",
    "        \n",
    "        # Risk contribution (RC)\n",
    "        RC_component = self.cov_mat.dot(w_rpp)\n",
    "        RC_denom = portfolio_vol\n",
    "        RC = []\n",
    "        for i in range(len(assets)):\n",
    "            RC.append((w_rpp[i]*RC_component[i]) / RC_denom)\n",
    "        self.RC_ = RC\n",
    "        \n",
    "        # Relative risk contribution (RRC)\n",
    "        RRC_component = self.cov_mat.dot(w_rpp)\n",
    "        RRC_denom = portfolio_vol**2\n",
    "        RRC = []\n",
    "        for i in range(len(assets)):\n",
    "            RRC.append((w_rpp[i]*RRC_component[i]) / RRC_denom)\n",
    "        self.RRC_ = RRC\n",
    "    \n",
    "    def visualise_risk_stats(self):\n",
    "        \"\"\"\n",
    "        This method visualises the risk statistics from the cal_risk_stats method above.\n",
    "        \n",
    "        Attributes:\n",
    "            MRC_fig_ (matplotlib fig): matplotlib figure of the marginal risk contribution (MRC) of all assets in the portfolios\n",
    "            RC_fig_ (matplotlib fig): matplotlib figure of the risk contribution (RC) of all assets in the portfolios\n",
    "            RRC_fig_ (matplotlib fig): matplotlib figure of the relative risk contribution (RRC) of all assets in the portfolios\n",
    "        \"\"\"\n",
    "        import seaborn as sns\n",
    "        import matplotlib.pyplot as plt\n",
    "        # MRC_i visualisation\n",
    "        MRC_fig = sns.barplot(y=self.MRC_, x=self.assets)\n",
    "        MRC_fig.set_title('Marginal risk contribution (MRC) to total portfolio risk')\n",
    "        self.MRC_fig_ = MRC_fig\n",
    "        plt.show()\n",
    "        # RC_i visualisation\n",
    "        RC_fig = sns.barplot(y=self.RC_, x=self.assets)\n",
    "        RC_fig.set_title('Risk contribution (RC) to total portfolio risk')\n",
    "        self.RC_fig_ = RC_fig\n",
    "        plt.show()\n",
    "        # RRC_i visualisation\n",
    "        RRC_fig = sns.barplot(y=self.RRC_, x=self.assets)\n",
    "        RRC_fig.set_title('Relative risk contribution (RRC) to total portfolio risk')\n",
    "        self.RRC_fig_ = RRC_fig\n",
    "        plt.show()\n",
    "        \n",
    "    def out_excel(self, directory=None):\n",
    "        \"\"\"This method outputs an excel file with the asset allocation.\n",
    "        \n",
    "        Args:\n",
    "            directory (str): the directory in which to output the Excel file.\n",
    "                If the directory is not specified, the method will output the file in the current working directory\"\"\"\n",
    "        import os\n",
    "        self.directory = directory\n",
    "        if directory is None:\n",
    "            self.directory = os.getcwd()\n",
    "        allocation_to_excel = self.allocation_df_.to_excel(f'{self.directory}/RP_allocation.xlsx', index=False)\n",
    "        return allocation_to_excel"
   ]
  },
  {
   "cell_type": "markdown",
   "metadata": {},
   "source": [
    "## 1b. Non-convex formulation"
   ]
  },
  {
   "cell_type": "markdown",
   "metadata": {},
   "source": [
    "[Maillard et al. (2010)](https://jpm.pm-research.com/content/36/4/60) formulation:\\\n",
    "\\\n",
    "Problem:\\\n",
    "\\\n",
    "$minimize_\\mathbf{w} \\; \\sum_{i,j=1}^{N}(w_i(\\mathbf{\\Sigma}\\mathbf{w})_i \\; - \\; w_j(\\mathbf{\\Sigma}\\mathbf{w})_j)^2$\\\n",
    "\\\n",
    "Subject to:\\\n",
    "\\\n",
    "$\\mathbf{1}^T\\mathbf{w} \\; = \\; 1 \\;, \\; \\mathbf{w}\\geq0.$\\\n",
    "\\\n",
    "Generally, the Convex formulation will perform better i.e. achieving equal $RRC_i$ across assets."
   ]
  },
  {
   "cell_type": "code",
   "execution_count": 3,
   "metadata": {},
   "outputs": [],
   "source": [
    "# Child class of RiskParity\n",
    "class NonConvexRP(RiskParity):\n",
    "    \"\"\"\n",
    "    This child class inherits all of methods from the parent RiskParity class, except risk_func() and optimize()\n",
    "        to account for the non-convex formulation of the optimization problem.\n",
    "    \"\"\"\n",
    "    def risk_func(self, w=None):\n",
    "        \"\"\"This is the modified optimise function for non-convex problem formulation\n",
    "        DISCLAIMER: as this does not take into account the long-only and capital budget constraints, this may not work 100%.\n",
    "\n",
    "        Args:\n",
    "            w (list or array): initial guess for Risk Parity asset allocation, if not specified the default will be equal weights\n",
    "\n",
    "        Returns:\n",
    "            risk_func (float): the calculated risk function\n",
    "        \"\"\"\n",
    "        if w is None:\n",
    "            w = self.w_guess\n",
    "        n = len(w)\n",
    "        risk_budget = 1 / n\n",
    "        risks = w * (self.cov_mat.dot(w))\n",
    "        norm_risks = risks / risk_budget\n",
    "        g = np.tile(norm_risks, n) - np.repeat(norm_risks, n)\n",
    "        \"\"\"Example: assuming n = 2 and norm_risk is [a, b, c]\n",
    "                                np.tile -> [a, b, c, a, b, c]\n",
    "                                np.repeat -> [a, a, b, b, c, c]\n",
    "                                np.tile - np.repeat\n",
    "                                i = 1, 2, 3 ;  j = 1\n",
    "                                Taking all the 1, 2, 3 minus the 1\n",
    "                                i = 1, 2, 3 ;  j = 2\n",
    "                                and so on ...\n",
    "                                i = 1, 2, 3 ;  j = 3\n",
    "                                By taking np.tile - np.repeat, one gets all the permutations of N assets taken 2 at a time (pairs of i and j) \n",
    "                                \"\"\"\n",
    "        return np.sum(g**2) # This is the main function to minimise, a SUM OF SQUARES, (NOT SQUARE OF SUM) \n",
    "    \n",
    "    def optimize(self, assets=None, method='BFGS'):\n",
    "        \"\"\"This method minimize the risk function (risk_func) and displays a Risk Parity asset allocation.\n",
    "\n",
    "        Args:\n",
    "            assets (list): list of name of assets, if not specified then using the same list of assets when the class instance is initiated. \n",
    "            method (str): method for optimization, default is the Broyden–Fletcher–Goldfarb–Shanno (BFGS). \n",
    "            For full list of optimization method,\n",
    "                refer to [https://docs.scipy.org/doc/scipy/reference/generated/scipy.optimize.minimize.html]\n",
    "        \n",
    "        Attributes:\n",
    "            allocation_ (list): the Risk Parity asset allocation \n",
    "            allocation_df_ (Pandas DataFrame): a Pandas DataFrame with 2 columns: 1. asset names and 2. their Risk Parity allocation \n",
    "            minimised_val_ (float): the minimised value of the convex risk function\"\"\"\n",
    "        self.method = method\n",
    "        if assets is None:\n",
    "            assets=self.assets\n",
    "        opti_result = minimize(self.risk_func, self.w_guess, \n",
    "                               method=self.method)\n",
    "        allocation = opti_result.x / sum(opti_result.x)\n",
    "        print('Minimised non-convex risk function value: {:.4f}'.format(opti_result.fun))\n",
    "        allocation_df = pd.DataFrame({'Assets':assets, \n",
    "                                      'Allocation':np.round(allocation, 4)})\n",
    "        display(allocation_df)\n",
    "        # Important attributes below\n",
    "        self.allocation_ = allocation\n",
    "        self.allocation_df_ = allocation_df\n",
    "        self.minimised_val_ = opti_result.fun"
   ]
  },
  {
   "cell_type": "markdown",
   "metadata": {},
   "source": [
    "# 2. Data preparation class\n",
    "\n",
    "This class turns an imported csv of asset prices to a covariance matrix (Matrix $\\mathbf{A}$), which can be used as input for *RiskParity* or *NonConvexRP* classes."
   ]
  },
  {
   "cell_type": "code",
   "execution_count": 4,
   "metadata": {},
   "outputs": [],
   "source": [
    "# The preprocessing part of the programme. Receiving csv -> Returning cov_mat\n",
    "class PrepDataRP():\n",
    "    \"\"\"This class aims to turn an imported csv file into a return covariance matrix (Matrix A), which can be used as an input for the RiskParity or NonConvexRP classes above\"\"\"\n",
    "    import pandas as pd\n",
    "    import numpy as np\n",
    "    def __init__(self, df=None):\n",
    "        \"\"\"\n",
    "        Initiator\n",
    "\n",
    "        Args:\n",
    "            df (Pandas DataFrame): the DataFrame to preprocess \n",
    "                It should have the following format:\n",
    "                    1 column with the dates\n",
    "                    n columns with the asset prices, with correct date-asset price combination\n",
    "        \"\"\"\n",
    "        self.df = df\n",
    "        \n",
    "    def transform(self, df=None):\n",
    "        \"\"\"\n",
    "        This method transforms the correctly formatted Pandas DataFrame into a covariance matrix to be as an input for the RiskParity or NonConvexRP classes above.\n",
    "        \n",
    "        Attributes:\n",
    "            assets_ (list): the names of the assets i.e. the column names of the formatted Pandas DataFrame \n",
    "\n",
    "        Returns:\n",
    "            cov_mat (array): the return covariance matrix, which can be used as an input for the RiskParity or NonConvexRP classes above \n",
    "        \"\"\"\n",
    "        if df is None:\n",
    "            df = self.df\n",
    "        # Drop NaN values to make sure asset time series have the same # of observatives\n",
    "        df = df.dropna()\n",
    "        # Filter by numeric data types\n",
    "        numeric_cols = list(df.loc[:, df.dtypes==np.float64].columns) + list(df.loc[:, df.dtypes==np.int64].columns)\n",
    "        price_data = df[numeric_cols]\n",
    "        assets = price_data.columns.tolist()\n",
    "        returns_df = (price_data.iloc[1:,:].values / price_data.iloc[:-1,:] - 1)\n",
    "        excess_returns_df = returns_df - returns_df.mean()\n",
    "        excess_returns = np.array(excess_returns_df)\n",
    "        excess_returns_T = excess_returns.T\n",
    "        cov_mat = excess_returns_T.dot(excess_returns) / (excess_returns.shape[0] - 1)\n",
    "        # Getting the name of the assets through this attribute\n",
    "        self.assets_ = assets\n",
    "        return cov_mat"
   ]
  },
  {
   "cell_type": "markdown",
   "metadata": {},
   "source": [
    "# 3. Online data importing class\n",
    "\n",
    "Using RapidAPI"
   ]
  },
  {
   "cell_type": "code",
   "execution_count": 5,
   "metadata": {},
   "outputs": [],
   "source": [
    "class api_data():\n",
    "    \"\"\"\n",
    "    This class imports data from RapidAPI's Yahoo Finance API, then outputs a time series DataFrame with date and prices of selected assets.\n",
    "    \"\"\"\n",
    "    def __init__(self, api_key, assets, start, finish, freq):\n",
    "        \"\"\"\n",
    "        Initiator\n",
    "\n",
    "        Args:\n",
    "            api_key (str): one's own API key. For instructions, refer to the Instruction notebook.\n",
    "            assets (list): List of ticker, must be valid and available on Yahoo finance\n",
    "            start (str): start date of time series, in the format of YYYY-MM-DD\n",
    "            finish (str): finish date of time series, in the format of YYYY-MM-DD\n",
    "            freq (str): the frequency of data:\n",
    "                  '1d': daily\n",
    "                  '1wk': weekly\n",
    "                  '1mo': monthly \n",
    "        \"\"\"\n",
    "        self.api_key = api_key\n",
    "        self.assets = assets # List of assets, to be looped later\n",
    "        self.start = start\n",
    "        self.finish = finish\n",
    "        self.freq = freq\n",
    "    \n",
    "    def time_to_unix(self, date, pattern='%Y.%m.%d'):\n",
    "        \"\"\"\n",
    "        Helper method: converting real time to unix timestamps\n",
    "\n",
    "        Args:\n",
    "            date (str): date, in the format of YYYY-MM-DD by default\n",
    "            pattern (str): date pattern to process, by default it is '%Y.%m.%d'\n",
    "\n",
    "        Returns:\n",
    "            unix (int): equivalent timestamp item of date arg. \n",
    "        \"\"\"\n",
    "        import time\n",
    "        unix = int(time.mktime(time.strptime(date, pattern)))\n",
    "        return unix\n",
    "\n",
    "    def get_api_data(self, api_key, asset, start, finish, freq):\n",
    "        \"\"\"\n",
    "        Helper method: getting raw data from RapidAPI's Yahoo Finance API\n",
    "        \n",
    "        Returns:\n",
    "            response_json (json): a json file containing historical data \n",
    "        \"\"\"\n",
    "        import requests\n",
    "        import json\n",
    "        start = self.time_to_unix(self.start, pattern='%Y.%m.%d')\n",
    "        finish = self.time_to_unix(self.finish, pattern='%Y.%m.%d')\n",
    "        url = \"https://apidojo-yahoo-finance-v1.p.rapidapi.com/stock/v2/get-historical-data\"\n",
    "        querystring = {\"frequency\":self.freq, \"filter\":\"history\", \"period1\":start,\n",
    "                       \"period2\":finish,\"symbol\":asset}\n",
    "        headers = {\n",
    "            'x-rapidapi-host': \"apidojo-yahoo-finance-v1.p.rapidapi.com\",\n",
    "            'x-rapidapi-key': self.api_key\n",
    "            }\n",
    "        response = requests.request(\"GET\", url, headers=headers, params=querystring)\n",
    "        response_json = json.loads(response.text)\n",
    "        return response_json\n",
    "\n",
    "    def make_time_series(self, response_json, asset=None):\n",
    "        \"\"\"\n",
    "        Helper method: turning the response_json file into a time series DataFrame (with date and price columns)\n",
    "\n",
    "        Args:\n",
    "            response_json (json): a json file containing historical data\n",
    "            asset (str, optional): name of asset / ticker\n",
    "\n",
    "        Returns:\n",
    "            times_series_df (Pandas DataFrame): time series DataFrame\n",
    "        \"\"\"\n",
    "        from datetime import datetime\n",
    "        import pandas as pd\n",
    "        date_list_unix = []\n",
    "        adj_close_list = []\n",
    "        for index in range(len(response_json['prices'])):\n",
    "            if len(response_json['prices'][index]) == 7:\n",
    "                adj_close = response_json['prices'][index]['adjclose']\n",
    "                adj_close_list.append(adj_close)\n",
    "                date = response_json['prices'][index]['date']\n",
    "                date_list_unix.append(date)\n",
    "        date_list = [datetime.fromtimestamp(unix_date) for unix_date in date_list_unix] # Convert unix to human date\n",
    "        date_list_ymd = [item.date() for item in date_list] # Getting date (years, months and days) only\n",
    "        time_series_df = pd.DataFrame({'Date':date_list_ymd, f'{asset}':adj_close_list})\n",
    "        return time_series_df\n",
    "\n",
    "    def prep_data(self, api_key=None, assets=None, \n",
    "                  start=None, finish=None, freq=None): \n",
    "        \"\"\"\n",
    "        Main function, using the helper methods. This method gets the data from the API, processes it and returns a DataFrame:\n",
    "            1. a date column\n",
    "            2. N price columns\n",
    "            3. n rows each containing an observation \n",
    "            --> Shape: (n ,1+N)\n",
    "\n",
    "        Returns:\n",
    "            merged_df (Pandas DataFrame): the combined time series DataFrame\n",
    "        \"\"\"\n",
    "        if api_key is None:\n",
    "            api_key = self.api_key\n",
    "        if assets is None:\n",
    "            assets = self.assets\n",
    "        if start is None:\n",
    "            start = self.start\n",
    "        if finish is None:\n",
    "            finish = self.finish\n",
    "        if freq is None:\n",
    "            freq = self.freq\n",
    "        time_series_dict = {}\n",
    "        time_series_list = []\n",
    "        for asset in self.assets: \n",
    "            # Go through the motions\n",
    "            response_json = self.get_api_data(api_key=self.api_key, asset=asset, freq=self.freq, start=self.start, finish=self.finish)\n",
    "            time_series_df = self.make_time_series(response_json=response_json, asset=asset)\n",
    "            time_series_dict[f\"{asset}_df\"] = time_series_df # For example MSFT_df is a time series DataFrame with 2 cols: date and price\n",
    "            # Now we got a time series dictionary with security name key and their time series DataFrame as value\n",
    "            time_series_list.append(time_series_dict[f\"{asset}_df\"])\n",
    "        merged_df = pd.concat(time_series_list, axis=1, join='outer')\n",
    "        merged_df = merged_df.reindex(index=merged_df.index[::-1])\n",
    "        merged_df = merged_df.loc[:, ~merged_df.columns.duplicated()]\n",
    "        return merged_df"
   ]
  },
  {
   "cell_type": "markdown",
   "metadata": {},
   "source": [
    "# 4. Testing section"
   ]
  },
  {
   "cell_type": "markdown",
   "metadata": {},
   "source": [
    "## 4.1 Testing with 4 assets\n",
    "\n",
    "**4 stocks chosen:**\\\n",
    "\\\n",
    "AAPL, AMD, AMZN, CRM"
   ]
  },
  {
   "cell_type": "code",
   "execution_count": 6,
   "metadata": {},
   "outputs": [],
   "source": [
    "preprocessor = PrepDataRP()\n",
    "imported_csv = pd.read_csv('test_csv.csv')\n",
    "test_cov_mat = preprocessor.transform(imported_csv)"
   ]
  },
  {
   "cell_type": "markdown",
   "metadata": {},
   "source": [
    "The test_csv.csv file has infomation on 20 stocks, here we first test the programme with 4 stocks."
   ]
  },
  {
   "cell_type": "code",
   "execution_count": 7,
   "metadata": {},
   "outputs": [],
   "source": [
    "cov_mat_4 = test_cov_mat[:4,:4]\n",
    "w_test = np.array([0.1, 0.4, 0.30, 0.20])\n",
    "stocks = ['AAPL', 'AMD', 'AMZN', 'CRM']"
   ]
  },
  {
   "cell_type": "markdown",
   "metadata": {},
   "source": [
    "As can be seen below, the PrepDataRP class has successfully turned the time series into a return covariance matrix, which will be used as an input for the RiskParity and NonConvexRP optimization classes."
   ]
  },
  {
   "cell_type": "code",
   "execution_count": 8,
   "metadata": {},
   "outputs": [
    {
     "data": {
      "text/plain": [
       "array([[0.00533986, 0.00338664, 0.00199577, 0.00200882],\n",
       "       [0.00338664, 0.02581699, 0.00506635, 0.00366825],\n",
       "       [0.00199577, 0.00506635, 0.00648837, 0.00268539],\n",
       "       [0.00200882, 0.00366825, 0.00268539, 0.00618483]])"
      ]
     },
     "execution_count": 8,
     "metadata": {},
     "output_type": "execute_result"
    }
   ],
   "source": [
    "cov_mat_4"
   ]
  },
  {
   "cell_type": "markdown",
   "metadata": {},
   "source": [
    "### 4.1.1. Convex form - 4 assets"
   ]
  },
  {
   "cell_type": "code",
   "execution_count": 9,
   "metadata": {
    "scrolled": true
   },
   "outputs": [
    {
     "name": "stdout",
     "output_type": "stream",
     "text": [
      "Minimised convex risk function value: -0.8271\n"
     ]
    },
    {
     "name": "stderr",
     "output_type": "stream",
     "text": [
      "<ipython-input-2-f20dc0ad71d9>:49: RuntimeWarning: invalid value encountered in log\n",
      "  risk_func = 0.5*x_T.dot(self.cov_mat).dot(x) - b_T*(np.sum(np.log(x)))\n"
     ]
    },
    {
     "data": {
      "text/html": [
       "<div>\n",
       "<style scoped>\n",
       "    .dataframe tbody tr th:only-of-type {\n",
       "        vertical-align: middle;\n",
       "    }\n",
       "\n",
       "    .dataframe tbody tr th {\n",
       "        vertical-align: top;\n",
       "    }\n",
       "\n",
       "    .dataframe thead th {\n",
       "        text-align: right;\n",
       "    }\n",
       "</style>\n",
       "<table border=\"1\" class=\"dataframe\">\n",
       "  <thead>\n",
       "    <tr style=\"text-align: right;\">\n",
       "      <th></th>\n",
       "      <th>Assets</th>\n",
       "      <th>Allocation</th>\n",
       "    </tr>\n",
       "  </thead>\n",
       "  <tbody>\n",
       "    <tr>\n",
       "      <th>0</th>\n",
       "      <td>AAPL</td>\n",
       "      <td>0.3119</td>\n",
       "    </tr>\n",
       "    <tr>\n",
       "      <th>1</th>\n",
       "      <td>AMD</td>\n",
       "      <td>0.1423</td>\n",
       "    </tr>\n",
       "    <tr>\n",
       "      <th>2</th>\n",
       "      <td>AMZN</td>\n",
       "      <td>0.2648</td>\n",
       "    </tr>\n",
       "    <tr>\n",
       "      <th>3</th>\n",
       "      <td>CRM</td>\n",
       "      <td>0.2810</td>\n",
       "    </tr>\n",
       "  </tbody>\n",
       "</table>\n",
       "</div>"
      ],
      "text/plain": [
       "  Assets  Allocation\n",
       "0   AAPL      0.3119\n",
       "1    AMD      0.1423\n",
       "2   AMZN      0.2648\n",
       "3    CRM      0.2810"
      ]
     },
     "metadata": {},
     "output_type": "display_data"
    },
    {
     "name": "stdout",
     "output_type": "stream",
     "text": [
      "None\n",
      "None\n",
      "[0.050963177986407884, 0.11170853368667295, 0.060018301217916355, 0.05657811302512736]\n",
      "[0.24999857818728488, 0.2500392479669842, 0.24995515063680895, 0.25000702320892176]\n"
     ]
    }
   ],
   "source": [
    "convex = RiskParity(cov_mat_4, stocks)\n",
    "print(convex.optimize())\n",
    "print(convex.cal_risk_stats())\n",
    "print(convex.MRC_)\n",
    "print(convex.RRC_)"
   ]
  },
  {
   "cell_type": "markdown",
   "metadata": {},
   "source": [
    "As can be seen below, AMD is has the highest Marginal risk contribution (MRC) in this portfolio of 4 assets"
   ]
  },
  {
   "cell_type": "code",
   "execution_count": 10,
   "metadata": {
    "scrolled": true
   },
   "outputs": [
    {
     "data": {
      "image/png": "[encoded data removed]",
      "text/plain": [
       "<Figure size 432x288 with 1 Axes>"
      ]
     },
     "metadata": {
      "needs_background": "light"
     },
     "output_type": "display_data"
    },
    {
     "data": {
      "image/png": "[encoded data removed]",
      "text/plain": [
       "<Figure size 432x288 with 1 Axes>"
      ]
     },
     "metadata": {
      "needs_background": "light"
     },
     "output_type": "display_data"
    },
    {
     "data": {
      "image/png": "[encoded data removed]",
      "text/plain": [
       "<Figure size 432x288 with 1 Axes>"
      ]
     },
     "metadata": {
      "needs_background": "light"
     },
     "output_type": "display_data"
    }
   ],
   "source": [
    "convex.visualise_risk_stats()"
   ]
  },
  {
   "cell_type": "code",
   "execution_count": 11,
   "metadata": {},
   "outputs": [],
   "source": [
    "# Exporting to an Excel file - illustration\n",
    "convex.out_excel()"
   ]
  },
  {
   "cell_type": "markdown",
   "metadata": {},
   "source": [
    "### 4.1.2. Non-convex form - 4 assets"
   ]
  },
  {
   "cell_type": "markdown",
   "metadata": {},
   "source": [
    "As can be seen in this example, the minimised non-convex risk function value is zero. This means that the difference in the risk contribution of any pair of assets $i, j$ in the portfolio is zero i.e. they contribute equal amount of risk."
   ]
  },
  {
   "cell_type": "code",
   "execution_count": 12,
   "metadata": {},
   "outputs": [
    {
     "name": "stdout",
     "output_type": "stream",
     "text": [
      "0.00020899513635280474\n",
      "Minimised non-convex risk function value: 0.0000\n"
     ]
    },
    {
     "data": {
      "text/html": [
       "<div>\n",
       "<style scoped>\n",
       "    .dataframe tbody tr th:only-of-type {\n",
       "        vertical-align: middle;\n",
       "    }\n",
       "\n",
       "    .dataframe tbody tr th {\n",
       "        vertical-align: top;\n",
       "    }\n",
       "\n",
       "    .dataframe thead th {\n",
       "        text-align: right;\n",
       "    }\n",
       "</style>\n",
       "<table border=\"1\" class=\"dataframe\">\n",
       "  <thead>\n",
       "    <tr style=\"text-align: right;\">\n",
       "      <th></th>\n",
       "      <th>Assets</th>\n",
       "      <th>Allocation</th>\n",
       "    </tr>\n",
       "  </thead>\n",
       "  <tbody>\n",
       "    <tr>\n",
       "      <th>0</th>\n",
       "      <td>AAPL</td>\n",
       "      <td>0.3125</td>\n",
       "    </tr>\n",
       "    <tr>\n",
       "      <th>1</th>\n",
       "      <td>AMD</td>\n",
       "      <td>0.1420</td>\n",
       "    </tr>\n",
       "    <tr>\n",
       "      <th>2</th>\n",
       "      <td>AMZN</td>\n",
       "      <td>0.2633</td>\n",
       "    </tr>\n",
       "    <tr>\n",
       "      <th>3</th>\n",
       "      <td>CRM</td>\n",
       "      <td>0.2822</td>\n",
       "    </tr>\n",
       "  </tbody>\n",
       "</table>\n",
       "</div>"
      ],
      "text/plain": [
       "  Assets  Allocation\n",
       "0   AAPL      0.3125\n",
       "1    AMD      0.1420\n",
       "2   AMZN      0.2633\n",
       "3    CRM      0.2822"
      ]
     },
     "metadata": {},
     "output_type": "display_data"
    },
    {
     "name": "stdout",
     "output_type": "stream",
     "text": [
      "None\n",
      "None\n",
      "[0.05100706623552384, 0.11161503186781792, 0.059933078175166216, 0.05665658015074133]\n",
      "[0.015939195240255128, 0.01585316713816126, 0.015779420711444846, 0.01598801758711347]\n"
     ]
    }
   ],
   "source": [
    "# Testing code blocks\n",
    "nonconvex_test = NonConvexRP(cov_mat_4, stocks)\n",
    "print(nonconvex_test.risk_func())\n",
    "print(nonconvex_test.optimize())\n",
    "print(nonconvex_test.cal_risk_stats())\n",
    "print(nonconvex_test.MRC_)\n",
    "print(nonconvex_test.RC_)"
   ]
  },
  {
   "cell_type": "code",
   "execution_count": 13,
   "metadata": {},
   "outputs": [
    {
     "data": {
      "image/png": "[encoded data removed]",
      "text/plain": [
       "<Figure size 432x288 with 1 Axes>"
      ]
     },
     "metadata": {
      "needs_background": "light"
     },
     "output_type": "display_data"
    },
    {
     "data": {
      "image/png": "[encoded data removed]",
      "text/plain": [
       "<Figure size 432x288 with 1 Axes>"
      ]
     },
     "metadata": {
      "needs_background": "light"
     },
     "output_type": "display_data"
    },
    {
     "data": {
      "image/png": "[encoded data removed]",
      "text/plain": [
       "<Figure size 432x288 with 1 Axes>"
      ]
     },
     "metadata": {
      "needs_background": "light"
     },
     "output_type": "display_data"
    }
   ],
   "source": [
    "nonconvex_test.visualise_risk_stats()"
   ]
  },
  {
   "cell_type": "markdown",
   "metadata": {},
   "source": [
    "## 4.2. Testing with 6 assets"
   ]
  },
  {
   "cell_type": "markdown",
   "metadata": {},
   "source": [
    "Let's add GOOG and INTC into the mix and see how the function performs"
   ]
  },
  {
   "cell_type": "code",
   "execution_count": 14,
   "metadata": {},
   "outputs": [],
   "source": [
    "# Let's test with more assets\n",
    "stocks_6 = ['AAPL', 'AMD', 'AMZN', 'CRM', 'GOOG', 'INTC']\n",
    "cov_mat_6 = test_cov_mat[:6,:6]"
   ]
  },
  {
   "cell_type": "markdown",
   "metadata": {},
   "source": [
    "### 4.2.1. Convex form - 6 assets"
   ]
  },
  {
   "cell_type": "code",
   "execution_count": 15,
   "metadata": {},
   "outputs": [
    {
     "name": "stdout",
     "output_type": "stream",
     "text": [
      "Minimised convex risk function value: -0.6216\n"
     ]
    },
    {
     "name": "stderr",
     "output_type": "stream",
     "text": [
      "<ipython-input-2-f20dc0ad71d9>:49: RuntimeWarning: invalid value encountered in log\n",
      "  risk_func = 0.5*x_T.dot(self.cov_mat).dot(x) - b_T*(np.sum(np.log(x)))\n"
     ]
    },
    {
     "data": {
      "text/html": [
       "<div>\n",
       "<style scoped>\n",
       "    .dataframe tbody tr th:only-of-type {\n",
       "        vertical-align: middle;\n",
       "    }\n",
       "\n",
       "    .dataframe tbody tr th {\n",
       "        vertical-align: top;\n",
       "    }\n",
       "\n",
       "    .dataframe thead th {\n",
       "        text-align: right;\n",
       "    }\n",
       "</style>\n",
       "<table border=\"1\" class=\"dataframe\">\n",
       "  <thead>\n",
       "    <tr style=\"text-align: right;\">\n",
       "      <th></th>\n",
       "      <th>Assets</th>\n",
       "      <th>Allocation</th>\n",
       "    </tr>\n",
       "  </thead>\n",
       "  <tbody>\n",
       "    <tr>\n",
       "      <th>0</th>\n",
       "      <td>AAPL</td>\n",
       "      <td>0.1756</td>\n",
       "    </tr>\n",
       "    <tr>\n",
       "      <th>1</th>\n",
       "      <td>AMD</td>\n",
       "      <td>0.0839</td>\n",
       "    </tr>\n",
       "    <tr>\n",
       "      <th>2</th>\n",
       "      <td>AMZN</td>\n",
       "      <td>0.1483</td>\n",
       "    </tr>\n",
       "    <tr>\n",
       "      <th>3</th>\n",
       "      <td>CRM</td>\n",
       "      <td>0.1736</td>\n",
       "    </tr>\n",
       "    <tr>\n",
       "      <th>4</th>\n",
       "      <td>GOOG</td>\n",
       "      <td>0.1987</td>\n",
       "    </tr>\n",
       "    <tr>\n",
       "      <th>5</th>\n",
       "      <td>INTC</td>\n",
       "      <td>0.2200</td>\n",
       "    </tr>\n",
       "  </tbody>\n",
       "</table>\n",
       "</div>"
      ],
      "text/plain": [
       "  Assets  Allocation\n",
       "0   AAPL      0.1756\n",
       "1    AMD      0.0839\n",
       "2   AMZN      0.1483\n",
       "3    CRM      0.1736\n",
       "4   GOOG      0.1987\n",
       "5   INTC      0.2200"
      ]
     },
     "metadata": {},
     "output_type": "display_data"
    },
    {
     "data": {
      "image/png": "[encoded data removed]",
      "text/plain": [
       "<Figure size 432x288 with 1 Axes>"
      ]
     },
     "metadata": {
      "needs_background": "light"
     },
     "output_type": "display_data"
    },
    {
     "data": {
      "image/png": "[encoded data removed]",
      "text/plain": [
       "<Figure size 432x288 with 1 Axes>"
      ]
     },
     "metadata": {
      "needs_background": "light"
     },
     "output_type": "display_data"
    },
    {
     "data": {
      "image/png": "[encoded data removed]",
      "text/plain": [
       "<Figure size 432x288 with 1 Axes>"
      ]
     },
     "metadata": {
      "needs_background": "light"
     },
     "output_type": "display_data"
    }
   ],
   "source": [
    "convex6 = RiskParity(cov_mat_6, stocks_6)\n",
    "convex6.optimize()\n",
    "convex6.cal_risk_stats()\n",
    "convex6.visualise_risk_stats()"
   ]
  },
  {
   "cell_type": "markdown",
   "metadata": {},
   "source": [
    "### 4.2.2. Non-convex form - 6 assets"
   ]
  },
  {
   "cell_type": "code",
   "execution_count": 16,
   "metadata": {
    "scrolled": true
   },
   "outputs": [
    {
     "name": "stdout",
     "output_type": "stream",
     "text": [
      "Minimised non-convex risk function value: 0.0000\n"
     ]
    },
    {
     "data": {
      "text/html": [
       "<div>\n",
       "<style scoped>\n",
       "    .dataframe tbody tr th:only-of-type {\n",
       "        vertical-align: middle;\n",
       "    }\n",
       "\n",
       "    .dataframe tbody tr th {\n",
       "        vertical-align: top;\n",
       "    }\n",
       "\n",
       "    .dataframe thead th {\n",
       "        text-align: right;\n",
       "    }\n",
       "</style>\n",
       "<table border=\"1\" class=\"dataframe\">\n",
       "  <thead>\n",
       "    <tr style=\"text-align: right;\">\n",
       "      <th></th>\n",
       "      <th>Assets</th>\n",
       "      <th>Allocation</th>\n",
       "    </tr>\n",
       "  </thead>\n",
       "  <tbody>\n",
       "    <tr>\n",
       "      <th>0</th>\n",
       "      <td>AAPL</td>\n",
       "      <td>0.1752</td>\n",
       "    </tr>\n",
       "    <tr>\n",
       "      <th>1</th>\n",
       "      <td>AMD</td>\n",
       "      <td>0.0838</td>\n",
       "    </tr>\n",
       "    <tr>\n",
       "      <th>2</th>\n",
       "      <td>AMZN</td>\n",
       "      <td>0.1489</td>\n",
       "    </tr>\n",
       "    <tr>\n",
       "      <th>3</th>\n",
       "      <td>CRM</td>\n",
       "      <td>0.1732</td>\n",
       "    </tr>\n",
       "    <tr>\n",
       "      <th>4</th>\n",
       "      <td>GOOG</td>\n",
       "      <td>0.1995</td>\n",
       "    </tr>\n",
       "    <tr>\n",
       "      <th>5</th>\n",
       "      <td>INTC</td>\n",
       "      <td>0.2193</td>\n",
       "    </tr>\n",
       "  </tbody>\n",
       "</table>\n",
       "</div>"
      ],
      "text/plain": [
       "  Assets  Allocation\n",
       "0   AAPL      0.1752\n",
       "1    AMD      0.0838\n",
       "2   AMZN      0.1489\n",
       "3    CRM      0.1732\n",
       "4   GOOG      0.1995\n",
       "5   INTC      0.2193"
      ]
     },
     "metadata": {},
     "output_type": "display_data"
    },
    {
     "data": {
      "image/png": "[encoded data removed]",
      "text/plain": [
       "<Figure size 432x288 with 1 Axes>"
      ]
     },
     "metadata": {
      "needs_background": "light"
     },
     "output_type": "display_data"
    },
    {
     "data": {
      "image/png": "[encoded data removed]",
      "text/plain": [
       "<Figure size 432x288 with 1 Axes>"
      ]
     },
     "metadata": {
      "needs_background": "light"
     },
     "output_type": "display_data"
    },
    {
     "data": {
      "image/png": "[encoded data removed]",
      "text/plain": [
       "<Figure size 432x288 with 1 Axes>"
      ]
     },
     "metadata": {
      "needs_background": "light"
     },
     "output_type": "display_data"
    }
   ],
   "source": [
    "nonconvex6 = NonConvexRP(cov_mat_6, stocks_6)\n",
    "nonconvex6.optimize()\n",
    "nonconvex6.cal_risk_stats()\n",
    "nonconvex6.visualise_risk_stats()"
   ]
  },
  {
   "cell_type": "markdown",
   "metadata": {},
   "source": [
    "## 4.3. Testing with 8 assets:\n",
    "\n",
    "Also, let's take a step further by using a csv file that has missing data, to make sure that the preprocessor PrepDataRP can handle this."
   ]
  },
  {
   "cell_type": "code",
   "execution_count": 17,
   "metadata": {},
   "outputs": [
    {
     "name": "stdout",
     "output_type": "stream",
     "text": [
      "['URTH', 'EEM', 'TIP', 'D5BE', 'GSG', 'SGOL ', 'GBF', 'INXG']\n"
     ]
    },
    {
     "data": {
      "text/html": [
       "<div>\n",
       "<style scoped>\n",
       "    .dataframe tbody tr th:only-of-type {\n",
       "        vertical-align: middle;\n",
       "    }\n",
       "\n",
       "    .dataframe tbody tr th {\n",
       "        vertical-align: top;\n",
       "    }\n",
       "\n",
       "    .dataframe thead th {\n",
       "        text-align: right;\n",
       "    }\n",
       "</style>\n",
       "<table border=\"1\" class=\"dataframe\">\n",
       "  <thead>\n",
       "    <tr style=\"text-align: right;\">\n",
       "      <th></th>\n",
       "      <th>Date</th>\n",
       "      <th>URTH</th>\n",
       "      <th>EEM</th>\n",
       "      <th>TIP</th>\n",
       "      <th>D5BE</th>\n",
       "      <th>GSG</th>\n",
       "      <th>SGOL</th>\n",
       "      <th>GBF</th>\n",
       "      <th>INXG</th>\n",
       "    </tr>\n",
       "  </thead>\n",
       "  <tbody>\n",
       "    <tr>\n",
       "      <th>0</th>\n",
       "      <td>01/04/2003</td>\n",
       "      <td>NaN</td>\n",
       "      <td>8.578775</td>\n",
       "      <td>NaN</td>\n",
       "      <td>NaN</td>\n",
       "      <td>NaN</td>\n",
       "      <td>NaN</td>\n",
       "      <td>NaN</td>\n",
       "      <td>NaN</td>\n",
       "    </tr>\n",
       "    <tr>\n",
       "      <th>1</th>\n",
       "      <td>01/05/2003</td>\n",
       "      <td>NaN</td>\n",
       "      <td>9.361398</td>\n",
       "      <td>NaN</td>\n",
       "      <td>NaN</td>\n",
       "      <td>NaN</td>\n",
       "      <td>NaN</td>\n",
       "      <td>NaN</td>\n",
       "      <td>NaN</td>\n",
       "    </tr>\n",
       "    <tr>\n",
       "      <th>2</th>\n",
       "      <td>01/06/2003</td>\n",
       "      <td>NaN</td>\n",
       "      <td>9.754338</td>\n",
       "      <td>NaN</td>\n",
       "      <td>NaN</td>\n",
       "      <td>NaN</td>\n",
       "      <td>NaN</td>\n",
       "      <td>NaN</td>\n",
       "      <td>NaN</td>\n",
       "    </tr>\n",
       "    <tr>\n",
       "      <th>3</th>\n",
       "      <td>01/07/2003</td>\n",
       "      <td>NaN</td>\n",
       "      <td>10.307545</td>\n",
       "      <td>NaN</td>\n",
       "      <td>NaN</td>\n",
       "      <td>NaN</td>\n",
       "      <td>NaN</td>\n",
       "      <td>NaN</td>\n",
       "      <td>NaN</td>\n",
       "    </tr>\n",
       "    <tr>\n",
       "      <th>4</th>\n",
       "      <td>01/08/2003</td>\n",
       "      <td>NaN</td>\n",
       "      <td>11.130847</td>\n",
       "      <td>NaN</td>\n",
       "      <td>NaN</td>\n",
       "      <td>NaN</td>\n",
       "      <td>NaN</td>\n",
       "      <td>NaN</td>\n",
       "      <td>NaN</td>\n",
       "    </tr>\n",
       "    <tr>\n",
       "      <th>...</th>\n",
       "      <td>...</td>\n",
       "      <td>...</td>\n",
       "      <td>...</td>\n",
       "      <td>...</td>\n",
       "      <td>...</td>\n",
       "      <td>...</td>\n",
       "      <td>...</td>\n",
       "      <td>...</td>\n",
       "      <td>...</td>\n",
       "    </tr>\n",
       "    <tr>\n",
       "      <th>205</th>\n",
       "      <td>01/05/2020</td>\n",
       "      <td>89.789330</td>\n",
       "      <td>37.512344</td>\n",
       "      <td>121.500793</td>\n",
       "      <td>158.895004</td>\n",
       "      <td>9.82</td>\n",
       "      <td>16.680000</td>\n",
       "      <td>123.615997</td>\n",
       "      <td>20.549999</td>\n",
       "    </tr>\n",
       "    <tr>\n",
       "      <th>206</th>\n",
       "      <td>01/06/2020</td>\n",
       "      <td>91.214874</td>\n",
       "      <td>39.759308</td>\n",
       "      <td>123.000000</td>\n",
       "      <td>154.100006</td>\n",
       "      <td>10.37</td>\n",
       "      <td>17.139999</td>\n",
       "      <td>124.692322</td>\n",
       "      <td>20.665001</td>\n",
       "    </tr>\n",
       "    <tr>\n",
       "      <th>207</th>\n",
       "      <td>01/07/2020</td>\n",
       "      <td>96.650002</td>\n",
       "      <td>43.290001</td>\n",
       "      <td>125.860001</td>\n",
       "      <td>146.350006</td>\n",
       "      <td>10.75</td>\n",
       "      <td>18.990000</td>\n",
       "      <td>127.160942</td>\n",
       "      <td>20.805000</td>\n",
       "    </tr>\n",
       "    <tr>\n",
       "      <th>208</th>\n",
       "      <td>01/08/2020</td>\n",
       "      <td>102.709999</td>\n",
       "      <td>45.340000</td>\n",
       "      <td>126.010002</td>\n",
       "      <td>146.785004</td>\n",
       "      <td>11.21</td>\n",
       "      <td>18.559999</td>\n",
       "      <td>124.978065</td>\n",
       "      <td>19.698000</td>\n",
       "    </tr>\n",
       "    <tr>\n",
       "      <th>209</th>\n",
       "      <td>27/08/2020</td>\n",
       "      <td>102.709999</td>\n",
       "      <td>44.959999</td>\n",
       "      <td>126.010002</td>\n",
       "      <td>NaN</td>\n",
       "      <td>11.21</td>\n",
       "      <td>NaN</td>\n",
       "      <td>NaN</td>\n",
       "      <td>NaN</td>\n",
       "    </tr>\n",
       "  </tbody>\n",
       "</table>\n",
       "<p>210 rows × 9 columns</p>\n",
       "</div>"
      ],
      "text/plain": [
       "           Date        URTH        EEM         TIP        D5BE    GSG  \\\n",
       "0    01/04/2003         NaN   8.578775         NaN         NaN    NaN   \n",
       "1    01/05/2003         NaN   9.361398         NaN         NaN    NaN   \n",
       "2    01/06/2003         NaN   9.754338         NaN         NaN    NaN   \n",
       "3    01/07/2003         NaN  10.307545         NaN         NaN    NaN   \n",
       "4    01/08/2003         NaN  11.130847         NaN         NaN    NaN   \n",
       "..          ...         ...        ...         ...         ...    ...   \n",
       "205  01/05/2020   89.789330  37.512344  121.500793  158.895004   9.82   \n",
       "206  01/06/2020   91.214874  39.759308  123.000000  154.100006  10.37   \n",
       "207  01/07/2020   96.650002  43.290001  125.860001  146.350006  10.75   \n",
       "208  01/08/2020  102.709999  45.340000  126.010002  146.785004  11.21   \n",
       "209  27/08/2020  102.709999  44.959999  126.010002         NaN  11.21   \n",
       "\n",
       "         SGOL          GBF       INXG  \n",
       "0          NaN         NaN        NaN  \n",
       "1          NaN         NaN        NaN  \n",
       "2          NaN         NaN        NaN  \n",
       "3          NaN         NaN        NaN  \n",
       "4          NaN         NaN        NaN  \n",
       "..         ...         ...        ...  \n",
       "205  16.680000  123.615997  20.549999  \n",
       "206  17.139999  124.692322  20.665001  \n",
       "207  18.990000  127.160942  20.805000  \n",
       "208  18.559999  124.978065  19.698000  \n",
       "209        NaN         NaN        NaN  \n",
       "\n",
       "[210 rows x 9 columns]"
      ]
     },
     "metadata": {},
     "output_type": "display_data"
    }
   ],
   "source": [
    "test_csv = pd.read_csv('test_csv_2.csv')\n",
    "preprocessing = PrepDataRP()\n",
    "cov_mat_8 = preprocessing.transform(test_csv)\n",
    "assets = preprocessing.assets_\n",
    "print(assets) # Different set of assets\n",
    "display(test_csv)"
   ]
  },
  {
   "cell_type": "markdown",
   "metadata": {},
   "source": [
    "### 4.3.1. Convex form - 8 assets"
   ]
  },
  {
   "cell_type": "code",
   "execution_count": 18,
   "metadata": {
    "scrolled": true
   },
   "outputs": [
    {
     "name": "stdout",
     "output_type": "stream",
     "text": [
      "Minimised convex risk function value: -1.6124\n"
     ]
    },
    {
     "name": "stderr",
     "output_type": "stream",
     "text": [
      "<ipython-input-2-f20dc0ad71d9>:49: RuntimeWarning: invalid value encountered in log\n",
      "  risk_func = 0.5*x_T.dot(self.cov_mat).dot(x) - b_T*(np.sum(np.log(x)))\n"
     ]
    },
    {
     "data": {
      "text/html": [
       "<div>\n",
       "<style scoped>\n",
       "    .dataframe tbody tr th:only-of-type {\n",
       "        vertical-align: middle;\n",
       "    }\n",
       "\n",
       "    .dataframe tbody tr th {\n",
       "        vertical-align: top;\n",
       "    }\n",
       "\n",
       "    .dataframe thead th {\n",
       "        text-align: right;\n",
       "    }\n",
       "</style>\n",
       "<table border=\"1\" class=\"dataframe\">\n",
       "  <thead>\n",
       "    <tr style=\"text-align: right;\">\n",
       "      <th></th>\n",
       "      <th>Assets</th>\n",
       "      <th>Allocation</th>\n",
       "    </tr>\n",
       "  </thead>\n",
       "  <tbody>\n",
       "    <tr>\n",
       "      <th>0</th>\n",
       "      <td>URTH</td>\n",
       "      <td>0.0776</td>\n",
       "    </tr>\n",
       "    <tr>\n",
       "      <th>1</th>\n",
       "      <td>EEM</td>\n",
       "      <td>0.0544</td>\n",
       "    </tr>\n",
       "    <tr>\n",
       "      <th>2</th>\n",
       "      <td>TIP</td>\n",
       "      <td>0.1783</td>\n",
       "    </tr>\n",
       "    <tr>\n",
       "      <th>3</th>\n",
       "      <td>D5BE</td>\n",
       "      <td>0.2026</td>\n",
       "    </tr>\n",
       "    <tr>\n",
       "      <th>4</th>\n",
       "      <td>GSG</td>\n",
       "      <td>0.0621</td>\n",
       "    </tr>\n",
       "    <tr>\n",
       "      <th>5</th>\n",
       "      <td>SGOL</td>\n",
       "      <td>0.0718</td>\n",
       "    </tr>\n",
       "    <tr>\n",
       "      <th>6</th>\n",
       "      <td>GBF</td>\n",
       "      <td>0.2440</td>\n",
       "    </tr>\n",
       "    <tr>\n",
       "      <th>7</th>\n",
       "      <td>INXG</td>\n",
       "      <td>0.1090</td>\n",
       "    </tr>\n",
       "  </tbody>\n",
       "</table>\n",
       "</div>"
      ],
      "text/plain": [
       "  Assets  Allocation\n",
       "0   URTH      0.0776\n",
       "1    EEM      0.0544\n",
       "2    TIP      0.1783\n",
       "3   D5BE      0.2026\n",
       "4    GSG      0.0621\n",
       "5  SGOL       0.0718\n",
       "6    GBF      0.2440\n",
       "7   INXG      0.1090"
      ]
     },
     "metadata": {},
     "output_type": "display_data"
    },
    {
     "data": {
      "image/png": "[encoded data removed]",
      "text/plain": [
       "<Figure size 432x288 with 1 Axes>"
      ]
     },
     "metadata": {
      "needs_background": "light"
     },
     "output_type": "display_data"
    },
    {
     "data": {
      "image/png": "[encoded data removed]",
      "text/plain": [
       "<Figure size 432x288 with 1 Axes>"
      ]
     },
     "metadata": {
      "needs_background": "light"
     },
     "output_type": "display_data"
    },
    {
     "data": {
      "image/png": "[encoded data removed]",
      "text/plain": [
       "<Figure size 432x288 with 1 Axes>"
      ]
     },
     "metadata": {
      "needs_background": "light"
     },
     "output_type": "display_data"
    }
   ],
   "source": [
    "test_rpp = RiskParity(cov_mat_8, assets)\n",
    "test_rpp.optimize()\n",
    "test_rpp.cal_risk_stats()\n",
    "test_rpp.visualise_risk_stats()"
   ]
  },
  {
   "cell_type": "markdown",
   "metadata": {},
   "source": [
    "### 4.3.2. Non-convex form - 8 assets"
   ]
  },
  {
   "cell_type": "code",
   "execution_count": 19,
   "metadata": {
    "scrolled": true
   },
   "outputs": [
    {
     "name": "stdout",
     "output_type": "stream",
     "text": [
      "Minimised non-convex risk function value: 0.0000\n"
     ]
    },
    {
     "data": {
      "text/html": [
       "<div>\n",
       "<style scoped>\n",
       "    .dataframe tbody tr th:only-of-type {\n",
       "        vertical-align: middle;\n",
       "    }\n",
       "\n",
       "    .dataframe tbody tr th {\n",
       "        vertical-align: top;\n",
       "    }\n",
       "\n",
       "    .dataframe thead th {\n",
       "        text-align: right;\n",
       "    }\n",
       "</style>\n",
       "<table border=\"1\" class=\"dataframe\">\n",
       "  <thead>\n",
       "    <tr style=\"text-align: right;\">\n",
       "      <th></th>\n",
       "      <th>Assets</th>\n",
       "      <th>Allocation</th>\n",
       "    </tr>\n",
       "  </thead>\n",
       "  <tbody>\n",
       "    <tr>\n",
       "      <th>0</th>\n",
       "      <td>URTH</td>\n",
       "      <td>0.0777</td>\n",
       "    </tr>\n",
       "    <tr>\n",
       "      <th>1</th>\n",
       "      <td>EEM</td>\n",
       "      <td>0.0545</td>\n",
       "    </tr>\n",
       "    <tr>\n",
       "      <th>2</th>\n",
       "      <td>TIP</td>\n",
       "      <td>0.1783</td>\n",
       "    </tr>\n",
       "    <tr>\n",
       "      <th>3</th>\n",
       "      <td>D5BE</td>\n",
       "      <td>0.2028</td>\n",
       "    </tr>\n",
       "    <tr>\n",
       "      <th>4</th>\n",
       "      <td>GSG</td>\n",
       "      <td>0.0621</td>\n",
       "    </tr>\n",
       "    <tr>\n",
       "      <th>5</th>\n",
       "      <td>SGOL</td>\n",
       "      <td>0.0719</td>\n",
       "    </tr>\n",
       "    <tr>\n",
       "      <th>6</th>\n",
       "      <td>GBF</td>\n",
       "      <td>0.2439</td>\n",
       "    </tr>\n",
       "    <tr>\n",
       "      <th>7</th>\n",
       "      <td>INXG</td>\n",
       "      <td>0.1090</td>\n",
       "    </tr>\n",
       "  </tbody>\n",
       "</table>\n",
       "</div>"
      ],
      "text/plain": [
       "  Assets  Allocation\n",
       "0   URTH      0.0777\n",
       "1    EEM      0.0545\n",
       "2    TIP      0.1783\n",
       "3   D5BE      0.2028\n",
       "4    GSG      0.0621\n",
       "5  SGOL       0.0719\n",
       "6    GBF      0.2439\n",
       "7   INXG      0.1090"
      ]
     },
     "metadata": {},
     "output_type": "display_data"
    },
    {
     "data": {
      "image/png": "[encoded data removed]",
      "text/plain": [
       "<Figure size 432x288 with 1 Axes>"
      ]
     },
     "metadata": {
      "needs_background": "light"
     },
     "output_type": "display_data"
    },
    {
     "data": {
      "image/png": "[encoded data removed]",
      "text/plain": [
       "<Figure size 432x288 with 1 Axes>"
      ]
     },
     "metadata": {
      "needs_background": "light"
     },
     "output_type": "display_data"
    },
    {
     "data": {
      "image/png": "[encoded data removed]",
      "text/plain": [
       "<Figure size 432x288 with 1 Axes>"
      ]
     },
     "metadata": {
      "needs_background": "light"
     },
     "output_type": "display_data"
    }
   ],
   "source": [
    "test_rpp_nc = NonConvexRP(cov_mat_8, assets)\n",
    "# For this example, the Nelder-Mead method is more successful at the minimization function than BFGS\n",
    "test_rpp_nc.optimize(method='Nelder-Mead')\n",
    "test_rpp_nc.cal_risk_stats()\n",
    "test_rpp_nc.visualise_risk_stats()"
   ]
  },
  {
   "cell_type": "markdown",
   "metadata": {},
   "source": [
    "Everything seems to work fine! The preprocessor PrepDataRP can handle missing data."
   ]
  },
  {
   "cell_type": "markdown",
   "metadata": {},
   "source": [
    "## 4.4. Testing with 20 assets\n",
    "\n"
   ]
  },
  {
   "cell_type": "code",
   "execution_count": 20,
   "metadata": {},
   "outputs": [],
   "source": [
    "# Even more assets - 20 stocks\n",
    "stocks_20 = ['AAPL', 'AMD', 'AMZN', 'CRM', 'GOOG', 'INTC', 'MSFT', 'NFLX', \n",
    "             'NVDA', 'V', 'ANAT', 'ATRI', 'CRVL', 'JOE', 'LORL', 'MORN', \n",
    "             'NHC', 'SEB', 'TR', 'UVV']\n",
    "# This is the entire, non-sliced return covariance matrix\n",
    "cov_mat_20 = test_cov_mat"
   ]
  },
  {
   "cell_type": "markdown",
   "metadata": {},
   "source": [
    "### 4.4.1. Convex form - 20 assets"
   ]
  },
  {
   "cell_type": "code",
   "execution_count": 21,
   "metadata": {},
   "outputs": [
    {
     "name": "stdout",
     "output_type": "stream",
     "text": [
      "Minimised convex risk function value: 0.2307\n"
     ]
    },
    {
     "name": "stderr",
     "output_type": "stream",
     "text": [
      "<ipython-input-2-f20dc0ad71d9>:49: RuntimeWarning: invalid value encountered in log\n",
      "  risk_func = 0.5*x_T.dot(self.cov_mat).dot(x) - b_T*(np.sum(np.log(x)))\n"
     ]
    },
    {
     "data": {
      "text/html": [
       "<div>\n",
       "<style scoped>\n",
       "    .dataframe tbody tr th:only-of-type {\n",
       "        vertical-align: middle;\n",
       "    }\n",
       "\n",
       "    .dataframe tbody tr th {\n",
       "        vertical-align: top;\n",
       "    }\n",
       "\n",
       "    .dataframe thead th {\n",
       "        text-align: right;\n",
       "    }\n",
       "</style>\n",
       "<table border=\"1\" class=\"dataframe\">\n",
       "  <thead>\n",
       "    <tr style=\"text-align: right;\">\n",
       "      <th></th>\n",
       "      <th>Assets</th>\n",
       "      <th>Allocation</th>\n",
       "    </tr>\n",
       "  </thead>\n",
       "  <tbody>\n",
       "    <tr>\n",
       "      <th>0</th>\n",
       "      <td>AAPL</td>\n",
       "      <td>0.0524</td>\n",
       "    </tr>\n",
       "    <tr>\n",
       "      <th>1</th>\n",
       "      <td>AMD</td>\n",
       "      <td>0.0192</td>\n",
       "    </tr>\n",
       "    <tr>\n",
       "      <th>2</th>\n",
       "      <td>AMZN</td>\n",
       "      <td>0.0375</td>\n",
       "    </tr>\n",
       "    <tr>\n",
       "      <th>3</th>\n",
       "      <td>CRM</td>\n",
       "      <td>0.0439</td>\n",
       "    </tr>\n",
       "    <tr>\n",
       "      <th>4</th>\n",
       "      <td>GOOG</td>\n",
       "      <td>0.0478</td>\n",
       "    </tr>\n",
       "    <tr>\n",
       "      <th>5</th>\n",
       "      <td>INTC</td>\n",
       "      <td>0.0563</td>\n",
       "    </tr>\n",
       "    <tr>\n",
       "      <th>6</th>\n",
       "      <td>MSFT</td>\n",
       "      <td>0.0483</td>\n",
       "    </tr>\n",
       "    <tr>\n",
       "      <th>7</th>\n",
       "      <td>NFLX</td>\n",
       "      <td>0.0276</td>\n",
       "    </tr>\n",
       "    <tr>\n",
       "      <th>8</th>\n",
       "      <td>NVDA</td>\n",
       "      <td>0.0275</td>\n",
       "    </tr>\n",
       "    <tr>\n",
       "      <th>9</th>\n",
       "      <td>V</td>\n",
       "      <td>0.0636</td>\n",
       "    </tr>\n",
       "    <tr>\n",
       "      <th>10</th>\n",
       "      <td>ANAT</td>\n",
       "      <td>0.0604</td>\n",
       "    </tr>\n",
       "    <tr>\n",
       "      <th>11</th>\n",
       "      <td>ATRI</td>\n",
       "      <td>0.0730</td>\n",
       "    </tr>\n",
       "    <tr>\n",
       "      <th>12</th>\n",
       "      <td>CRVL</td>\n",
       "      <td>0.0523</td>\n",
       "    </tr>\n",
       "    <tr>\n",
       "      <th>13</th>\n",
       "      <td>JOE</td>\n",
       "      <td>0.0429</td>\n",
       "    </tr>\n",
       "    <tr>\n",
       "      <th>14</th>\n",
       "      <td>LORL</td>\n",
       "      <td>0.0420</td>\n",
       "    </tr>\n",
       "    <tr>\n",
       "      <th>15</th>\n",
       "      <td>MORN</td>\n",
       "      <td>0.0628</td>\n",
       "    </tr>\n",
       "    <tr>\n",
       "      <th>16</th>\n",
       "      <td>NHC</td>\n",
       "      <td>0.0654</td>\n",
       "    </tr>\n",
       "    <tr>\n",
       "      <th>17</th>\n",
       "      <td>SEB</td>\n",
       "      <td>0.0573</td>\n",
       "    </tr>\n",
       "    <tr>\n",
       "      <th>18</th>\n",
       "      <td>TR</td>\n",
       "      <td>0.0785</td>\n",
       "    </tr>\n",
       "    <tr>\n",
       "      <th>19</th>\n",
       "      <td>UVV</td>\n",
       "      <td>0.0412</td>\n",
       "    </tr>\n",
       "  </tbody>\n",
       "</table>\n",
       "</div>"
      ],
      "text/plain": [
       "   Assets  Allocation\n",
       "0    AAPL      0.0524\n",
       "1     AMD      0.0192\n",
       "2    AMZN      0.0375\n",
       "3     CRM      0.0439\n",
       "4    GOOG      0.0478\n",
       "5    INTC      0.0563\n",
       "6    MSFT      0.0483\n",
       "7    NFLX      0.0276\n",
       "8    NVDA      0.0275\n",
       "9       V      0.0636\n",
       "10   ANAT      0.0604\n",
       "11   ATRI      0.0730\n",
       "12   CRVL      0.0523\n",
       "13    JOE      0.0429\n",
       "14   LORL      0.0420\n",
       "15   MORN      0.0628\n",
       "16    NHC      0.0654\n",
       "17    SEB      0.0573\n",
       "18     TR      0.0785\n",
       "19    UVV      0.0412"
      ]
     },
     "metadata": {},
     "output_type": "display_data"
    }
   ],
   "source": [
    "convex20 = RiskParity(test_cov_mat, stocks_20)\n",
    "convex20.optimize()"
   ]
  },
  {
   "cell_type": "markdown",
   "metadata": {},
   "source": [
    "### 4.4.2. Non-convex form - 20 assets"
   ]
  },
  {
   "cell_type": "code",
   "execution_count": 22,
   "metadata": {
    "scrolled": false
   },
   "outputs": [
    {
     "name": "stdout",
     "output_type": "stream",
     "text": [
      "Minimised non-convex risk function value: 0.0000\n"
     ]
    },
    {
     "data": {
      "text/html": [
       "<div>\n",
       "<style scoped>\n",
       "    .dataframe tbody tr th:only-of-type {\n",
       "        vertical-align: middle;\n",
       "    }\n",
       "\n",
       "    .dataframe tbody tr th {\n",
       "        vertical-align: top;\n",
       "    }\n",
       "\n",
       "    .dataframe thead th {\n",
       "        text-align: right;\n",
       "    }\n",
       "</style>\n",
       "<table border=\"1\" class=\"dataframe\">\n",
       "  <thead>\n",
       "    <tr style=\"text-align: right;\">\n",
       "      <th></th>\n",
       "      <th>Assets</th>\n",
       "      <th>Allocation</th>\n",
       "    </tr>\n",
       "  </thead>\n",
       "  <tbody>\n",
       "    <tr>\n",
       "      <th>0</th>\n",
       "      <td>AAPL</td>\n",
       "      <td>0.0524</td>\n",
       "    </tr>\n",
       "    <tr>\n",
       "      <th>1</th>\n",
       "      <td>AMD</td>\n",
       "      <td>0.0191</td>\n",
       "    </tr>\n",
       "    <tr>\n",
       "      <th>2</th>\n",
       "      <td>AMZN</td>\n",
       "      <td>0.0375</td>\n",
       "    </tr>\n",
       "    <tr>\n",
       "      <th>3</th>\n",
       "      <td>CRM</td>\n",
       "      <td>0.0440</td>\n",
       "    </tr>\n",
       "    <tr>\n",
       "      <th>4</th>\n",
       "      <td>GOOG</td>\n",
       "      <td>0.0477</td>\n",
       "    </tr>\n",
       "    <tr>\n",
       "      <th>5</th>\n",
       "      <td>INTC</td>\n",
       "      <td>0.0562</td>\n",
       "    </tr>\n",
       "    <tr>\n",
       "      <th>6</th>\n",
       "      <td>MSFT</td>\n",
       "      <td>0.0482</td>\n",
       "    </tr>\n",
       "    <tr>\n",
       "      <th>7</th>\n",
       "      <td>NFLX</td>\n",
       "      <td>0.0276</td>\n",
       "    </tr>\n",
       "    <tr>\n",
       "      <th>8</th>\n",
       "      <td>NVDA</td>\n",
       "      <td>0.0275</td>\n",
       "    </tr>\n",
       "    <tr>\n",
       "      <th>9</th>\n",
       "      <td>V</td>\n",
       "      <td>0.0638</td>\n",
       "    </tr>\n",
       "    <tr>\n",
       "      <th>10</th>\n",
       "      <td>ANAT</td>\n",
       "      <td>0.0604</td>\n",
       "    </tr>\n",
       "    <tr>\n",
       "      <th>11</th>\n",
       "      <td>ATRI</td>\n",
       "      <td>0.0734</td>\n",
       "    </tr>\n",
       "    <tr>\n",
       "      <th>12</th>\n",
       "      <td>CRVL</td>\n",
       "      <td>0.0523</td>\n",
       "    </tr>\n",
       "    <tr>\n",
       "      <th>13</th>\n",
       "      <td>JOE</td>\n",
       "      <td>0.0430</td>\n",
       "    </tr>\n",
       "    <tr>\n",
       "      <th>14</th>\n",
       "      <td>LORL</td>\n",
       "      <td>0.0419</td>\n",
       "    </tr>\n",
       "    <tr>\n",
       "      <th>15</th>\n",
       "      <td>MORN</td>\n",
       "      <td>0.0628</td>\n",
       "    </tr>\n",
       "    <tr>\n",
       "      <th>16</th>\n",
       "      <td>NHC</td>\n",
       "      <td>0.0654</td>\n",
       "    </tr>\n",
       "    <tr>\n",
       "      <th>17</th>\n",
       "      <td>SEB</td>\n",
       "      <td>0.0574</td>\n",
       "    </tr>\n",
       "    <tr>\n",
       "      <th>18</th>\n",
       "      <td>TR</td>\n",
       "      <td>0.0782</td>\n",
       "    </tr>\n",
       "    <tr>\n",
       "      <th>19</th>\n",
       "      <td>UVV</td>\n",
       "      <td>0.0413</td>\n",
       "    </tr>\n",
       "  </tbody>\n",
       "</table>\n",
       "</div>"
      ],
      "text/plain": [
       "   Assets  Allocation\n",
       "0    AAPL      0.0524\n",
       "1     AMD      0.0191\n",
       "2    AMZN      0.0375\n",
       "3     CRM      0.0440\n",
       "4    GOOG      0.0477\n",
       "5    INTC      0.0562\n",
       "6    MSFT      0.0482\n",
       "7    NFLX      0.0276\n",
       "8    NVDA      0.0275\n",
       "9       V      0.0638\n",
       "10   ANAT      0.0604\n",
       "11   ATRI      0.0734\n",
       "12   CRVL      0.0523\n",
       "13    JOE      0.0430\n",
       "14   LORL      0.0419\n",
       "15   MORN      0.0628\n",
       "16    NHC      0.0654\n",
       "17    SEB      0.0574\n",
       "18     TR      0.0782\n",
       "19    UVV      0.0413"
      ]
     },
     "metadata": {},
     "output_type": "display_data"
    }
   ],
   "source": [
    "nonconvex20 = NonConvexRP(test_cov_mat, stocks_20)\n",
    "nonconvex20.optimize()"
   ]
  },
  {
   "cell_type": "markdown",
   "metadata": {},
   "source": [
    "# Further notes\n",
    "\n",
    "For illustration of the API data importing module, refer to 'Illustrative case study' notebook"
   ]
  }
 ],
 "metadata": {
  "kernelspec": {
   "display_name": "Python 3",
   "language": "python",
   "name": "python3"
  },
  "language_info": {
   "codemirror_mode": {
    "name": "ipython",
    "version": 3
   },
   "file_extension": ".py",
   "mimetype": "text/x-python",
   "name": "python",
   "nbconvert_exporter": "python",
   "pygments_lexer": "ipython3",
   "version": "3.8.3"
  }
 },
 "nbformat": 4,
 "nbformat_minor": 2
}
