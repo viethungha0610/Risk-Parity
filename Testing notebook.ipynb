{
 "cells": [
  {
   "cell_type": "code",
   "execution_count": 3,
   "metadata": {},
   "outputs": [],
   "source": [
    "import os\n",
    "import numpy as np\n",
    "import pandas as pd\n",
    "from AssetAllocation import RiskParity, NonConvexRP, PrepDataRP"
   ]
  },
  {
   "cell_type": "code",
   "execution_count": 12,
   "metadata": {},
   "outputs": [
    {
     "name": "stdout",
     "output_type": "stream",
     "text": [
      "C:\\Users\\Viet Hung Ha\\Documents\\Python\\Risk Parity\\AssetAllocation.py\n",
      "C:\\Users\\Viet Hung Ha\\Documents\\Python\\Risk Parity\\Risk Parity Portfolio (Palomar, 2019).pdf\n",
      "C:\\Users\\Viet Hung Ha\\Documents\\Python\\Risk Parity\\Risk Parity.pdf\n",
      "C:\\Users\\Viet Hung Ha\\Documents\\Python\\Risk Parity\\Simple Risk Parity main-Copy1.ipynb\n",
      "C:\\Users\\Viet Hung Ha\\Documents\\Python\\Risk Parity\\Simple Risk Parity main-Copy2.ipynb\n",
      "C:\\Users\\Viet Hung Ha\\Documents\\Python\\Risk Parity\\Simple Risk Parity main-Copy3.ipynb\n",
      "C:\\Users\\Viet Hung Ha\\Documents\\Python\\Risk Parity\\Simple Risk Parity main.ipynb\n",
      "C:\\Users\\Viet Hung Ha\\Documents\\Python\\Risk Parity\\slides-ConvexOptimizationCourseHKUST.pdf\n",
      "C:\\Users\\Viet Hung Ha\\Documents\\Python\\Risk Parity\\Testing notebook.ipynb\n",
      "C:\\Users\\Viet Hung Ha\\Documents\\Python\\Risk Parity\\testing.py\n",
      "C:\\Users\\Viet Hung Ha\\Documents\\Python\\Risk Parity\\test_csv.csv\n",
      "C:\\Users\\Viet Hung Ha\\Documents\\Python\\Risk Parity\\test_matrix.csv\n",
      "C:\\Users\\Viet Hung Ha\\Documents\\Python\\Risk Parity\\The properties of RPP.pdf\n",
      "C:\\Users\\Viet Hung Ha\\Documents\\Python\\Risk Parity\\WuFengPalomar-SP2019 - sparse rpp.pdf\n",
      "C:\\Users\\Viet Hung Ha\\Documents\\Python\\Risk Parity\\.ipynb_checkpoints\\Simple Risk Parity main-checkpoint.ipynb\n",
      "C:\\Users\\Viet Hung Ha\\Documents\\Python\\Risk Parity\\.ipynb_checkpoints\\Simple Risk Parity main-Copy1-checkpoint.ipynb\n",
      "C:\\Users\\Viet Hung Ha\\Documents\\Python\\Risk Parity\\.ipynb_checkpoints\\Simple Risk Parity main-Copy2-checkpoint.ipynb\n",
      "C:\\Users\\Viet Hung Ha\\Documents\\Python\\Risk Parity\\.ipynb_checkpoints\\Simple Risk Parity main-Copy3-checkpoint.ipynb\n",
      "C:\\Users\\Viet Hung Ha\\Documents\\Python\\Risk Parity\\.ipynb_checkpoints\\Testing notebook-checkpoint.ipynb\n",
      "C:\\Users\\Viet Hung Ha\\Documents\\Python\\Risk Parity\\__pycache__\\AssetAllocation.cpython-38.pyc\n"
     ]
    }
   ],
   "source": [
    "directory='C:\\\\Users\\\\Viet Hung Ha\\\\Documents\\\\Python\\\\Risk Parity'\n",
    "for dirname, _, filenames in os.walk(directory):\n",
    "    for filename in filenames:\n",
    "        print(os.path.join(dirname, filename))"
   ]
  },
  {
   "cell_type": "code",
   "execution_count": null,
   "metadata": {},
   "outputs": [],
   "source": []
  }
 ],
 "metadata": {
  "kernelspec": {
   "display_name": "Python 3",
   "language": "python",
   "name": "python3"
  },
  "language_info": {
   "codemirror_mode": {
    "name": "ipython",
    "version": 3
   },
   "file_extension": ".py",
   "mimetype": "text/x-python",
   "name": "python",
   "nbconvert_exporter": "python",
   "pygments_lexer": "ipython3",
   "version": "3.8.3"
  }
 },
 "nbformat": 4,
 "nbformat_minor": 4
}
