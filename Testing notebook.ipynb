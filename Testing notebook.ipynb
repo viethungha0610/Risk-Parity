{
 "cells": [
  {
   "cell_type": "code",
   "execution_count": 34,
   "metadata": {},
   "outputs": [],
   "source": [
    "import os\n",
    "import numpy as np\n",
    "import pandas as pd\n",
    "import matplotlib.pyplot as plt\n",
    "%matplotlib inline\n",
    "import seaborn as sns"
   ]
  },
  {
   "cell_type": "code",
   "execution_count": 2,
   "metadata": {},
   "outputs": [],
   "source": [
    "from AssetAllocation import RiskParity, PrepDataRP # Cannot import "
   ]
  },
  {
   "cell_type": "code",
   "execution_count": 39,
   "metadata": {},
   "outputs": [],
   "source": [
    "test_csv = pd.read_csv('test_csv_3.csv')"
   ]
  },
  {
   "cell_type": "code",
   "execution_count": 40,
   "metadata": {},
   "outputs": [
    {
     "data": {
      "text/html": [
       "<div>\n",
       "<style scoped>\n",
       "    .dataframe tbody tr th:only-of-type {\n",
       "        vertical-align: middle;\n",
       "    }\n",
       "\n",
       "    .dataframe tbody tr th {\n",
       "        vertical-align: top;\n",
       "    }\n",
       "\n",
       "    .dataframe thead th {\n",
       "        text-align: right;\n",
       "    }\n",
       "</style>\n",
       "<table border=\"1\" class=\"dataframe\">\n",
       "  <thead>\n",
       "    <tr style=\"text-align: right;\">\n",
       "      <th></th>\n",
       "      <th>Date</th>\n",
       "      <th>ACWI</th>\n",
       "      <th>TIP</th>\n",
       "      <th>GSG</th>\n",
       "      <th>GVI</th>\n",
       "    </tr>\n",
       "  </thead>\n",
       "  <tbody>\n",
       "    <tr>\n",
       "      <th>0</th>\n",
       "      <td>01/03/2008</td>\n",
       "      <td>38.627758</td>\n",
       "      <td>81.041718</td>\n",
       "      <td>57.860001</td>\n",
       "      <td>78.569115</td>\n",
       "    </tr>\n",
       "    <tr>\n",
       "      <th>1</th>\n",
       "      <td>01/04/2008</td>\n",
       "      <td>41.705772</td>\n",
       "      <td>79.354637</td>\n",
       "      <td>62.599998</td>\n",
       "      <td>78.212563</td>\n",
       "    </tr>\n",
       "    <tr>\n",
       "      <th>2</th>\n",
       "      <td>01/05/2008</td>\n",
       "      <td>42.066036</td>\n",
       "      <td>80.034706</td>\n",
       "      <td>67.900002</td>\n",
       "      <td>77.336098</td>\n",
       "    </tr>\n",
       "    <tr>\n",
       "      <th>3</th>\n",
       "      <td>01/06/2008</td>\n",
       "      <td>38.706081</td>\n",
       "      <td>81.173164</td>\n",
       "      <td>74.910004</td>\n",
       "      <td>77.526398</td>\n",
       "    </tr>\n",
       "    <tr>\n",
       "      <th>4</th>\n",
       "      <td>01/07/2008</td>\n",
       "      <td>37.484280</td>\n",
       "      <td>80.759224</td>\n",
       "      <td>64.930000</td>\n",
       "      <td>77.938805</td>\n",
       "    </tr>\n",
       "    <tr>\n",
       "      <th>...</th>\n",
       "      <td>...</td>\n",
       "      <td>...</td>\n",
       "      <td>...</td>\n",
       "      <td>...</td>\n",
       "      <td>...</td>\n",
       "    </tr>\n",
       "    <tr>\n",
       "      <th>145</th>\n",
       "      <td>01/04/2020</td>\n",
       "      <td>68.143501</td>\n",
       "      <td>120.831375</td>\n",
       "      <td>8.480000</td>\n",
       "      <td>115.598473</td>\n",
       "    </tr>\n",
       "    <tr>\n",
       "      <th>146</th>\n",
       "      <td>01/05/2020</td>\n",
       "      <td>71.614136</td>\n",
       "      <td>121.500793</td>\n",
       "      <td>9.820000</td>\n",
       "      <td>116.494965</td>\n",
       "    </tr>\n",
       "    <tr>\n",
       "      <th>147</th>\n",
       "      <td>01/06/2020</td>\n",
       "      <td>73.101555</td>\n",
       "      <td>123.000000</td>\n",
       "      <td>10.370000</td>\n",
       "      <td>117.172935</td>\n",
       "    </tr>\n",
       "    <tr>\n",
       "      <th>148</th>\n",
       "      <td>01/07/2020</td>\n",
       "      <td>77.669998</td>\n",
       "      <td>125.860001</td>\n",
       "      <td>10.750000</td>\n",
       "      <td>117.951363</td>\n",
       "    </tr>\n",
       "    <tr>\n",
       "      <th>149</th>\n",
       "      <td>01/08/2020</td>\n",
       "      <td>82.220001</td>\n",
       "      <td>126.010002</td>\n",
       "      <td>11.210000</td>\n",
       "      <td>117.473991</td>\n",
       "    </tr>\n",
       "  </tbody>\n",
       "</table>\n",
       "<p>150 rows × 5 columns</p>\n",
       "</div>"
      ],
      "text/plain": [
       "           Date       ACWI         TIP        GSG         GVI\n",
       "0    01/03/2008  38.627758   81.041718  57.860001   78.569115\n",
       "1    01/04/2008  41.705772   79.354637  62.599998   78.212563\n",
       "2    01/05/2008  42.066036   80.034706  67.900002   77.336098\n",
       "3    01/06/2008  38.706081   81.173164  74.910004   77.526398\n",
       "4    01/07/2008  37.484280   80.759224  64.930000   77.938805\n",
       "..          ...        ...         ...        ...         ...\n",
       "145  01/04/2020  68.143501  120.831375   8.480000  115.598473\n",
       "146  01/05/2020  71.614136  121.500793   9.820000  116.494965\n",
       "147  01/06/2020  73.101555  123.000000  10.370000  117.172935\n",
       "148  01/07/2020  77.669998  125.860001  10.750000  117.951363\n",
       "149  01/08/2020  82.220001  126.010002  11.210000  117.473991\n",
       "\n",
       "[150 rows x 5 columns]"
      ]
     },
     "execution_count": 40,
     "metadata": {},
     "output_type": "execute_result"
    }
   ],
   "source": [
    "test_csv"
   ]
  },
  {
   "cell_type": "code",
   "execution_count": 41,
   "metadata": {},
   "outputs": [
    {
     "name": "stdout",
     "output_type": "stream",
     "text": [
      "['ACWI', 'TIP', 'GSG', 'GVI']\n"
     ]
    }
   ],
   "source": [
    "preprocessing = PrepDataRP()\n",
    "cov_mat = preprocessing.transform(test_csv)\n",
    "assets = preprocessing.assets_\n",
    "print(assets)"
   ]
  },
  {
   "cell_type": "code",
   "execution_count": 44,
   "metadata": {
    "scrolled": true
   },
   "outputs": [
    {
     "name": "stdout",
     "output_type": "stream",
     "text": [
      "Minimised convex risk function value: -2.0762\n"
     ]
    },
    {
     "name": "stderr",
     "output_type": "stream",
     "text": [
      "C:\\Users\\Viet Hung Ha\\Documents\\Python\\Risk Parity\\AssetAllocation.py:37: RuntimeWarning: invalid value encountered in log\n",
      "  risk_func = 0.5*x_T.dot(self.cov_mat).dot(x) - b_T*(np.sum(np.log(x)))\n"
     ]
    },
    {
     "data": {
      "text/html": [
       "<div>\n",
       "<style scoped>\n",
       "    .dataframe tbody tr th:only-of-type {\n",
       "        vertical-align: middle;\n",
       "    }\n",
       "\n",
       "    .dataframe tbody tr th {\n",
       "        vertical-align: top;\n",
       "    }\n",
       "\n",
       "    .dataframe thead th {\n",
       "        text-align: right;\n",
       "    }\n",
       "</style>\n",
       "<table border=\"1\" class=\"dataframe\">\n",
       "  <thead>\n",
       "    <tr style=\"text-align: right;\">\n",
       "      <th></th>\n",
       "      <th>Assets</th>\n",
       "      <th>Allocation</th>\n",
       "    </tr>\n",
       "  </thead>\n",
       "  <tbody>\n",
       "    <tr>\n",
       "      <th>0</th>\n",
       "      <td>ACWI</td>\n",
       "      <td>0.0915</td>\n",
       "    </tr>\n",
       "    <tr>\n",
       "      <th>1</th>\n",
       "      <td>TIP</td>\n",
       "      <td>0.2592</td>\n",
       "    </tr>\n",
       "    <tr>\n",
       "      <th>2</th>\n",
       "      <td>GSG</td>\n",
       "      <td>0.0777</td>\n",
       "    </tr>\n",
       "    <tr>\n",
       "      <th>3</th>\n",
       "      <td>GVI</td>\n",
       "      <td>0.5717</td>\n",
       "    </tr>\n",
       "  </tbody>\n",
       "</table>\n",
       "</div>"
      ],
      "text/plain": [
       "  Assets  Allocation\n",
       "0   ACWI      0.0915\n",
       "1    TIP      0.2592\n",
       "2    GSG      0.0777\n",
       "3    GVI      0.5717"
      ]
     },
     "metadata": {},
     "output_type": "display_data"
    },
    {
     "data": {
      "image/png": "[encoded data removed]",
      "text/plain": [
       "<Figure size 432x288 with 1 Axes>"
      ]
     },
     "metadata": {
      "needs_background": "light"
     },
     "output_type": "display_data"
    },
    {
     "data": {
      "image/png": "[encoded data removed]",
      "text/plain": [
       "<Figure size 432x288 with 1 Axes>"
      ]
     },
     "metadata": {
      "needs_background": "light"
     },
     "output_type": "display_data"
    },
    {
     "data": {
      "image/png": "[encoded data removed]",
      "text/plain": [
       "<Figure size 432x288 with 1 Axes>"
      ]
     },
     "metadata": {
      "needs_background": "light"
     },
     "output_type": "display_data"
    }
   ],
   "source": [
    "test_rpp = RiskParity(cov_mat, assets)\n",
    "test_rpp.optimize(method='SLSQP')\n",
    "test_rpp.cal_risk_stats()\n",
    "test_rpp.visualise_risk_stats()"
   ]
  },
  {
   "cell_type": "code",
   "execution_count": 48,
   "metadata": {},
   "outputs": [],
   "source": [
    "random_vector = np.array([0.33, 0.33, 0.34])"
   ]
  },
  {
   "cell_type": "code",
   "execution_count": 49,
   "metadata": {},
   "outputs": [
    {
     "data": {
      "text/plain": [
       "1.0"
      ]
     },
     "execution_count": 49,
     "metadata": {},
     "output_type": "execute_result"
    }
   ],
   "source": [
    "np.sum(random_vector)"
   ]
  },
  {
   "cell_type": "code",
   "execution_count": 52,
   "metadata": {},
   "outputs": [
    {
     "data": {
      "text/plain": [
       "array([False, False, False])"
      ]
     },
     "execution_count": 52,
     "metadata": {},
     "output_type": "execute_result"
    }
   ],
   "source": [
    "random_vector < 0"
   ]
  }
 ],
 "metadata": {
  "kernelspec": {
   "display_name": "Python 3",
   "language": "python",
   "name": "python3"
  },
  "language_info": {
   "codemirror_mode": {
    "name": "ipython",
    "version": 3
   },
   "file_extension": ".py",
   "mimetype": "text/x-python",
   "name": "python",
   "nbconvert_exporter": "python",
   "pygments_lexer": "ipython3",
   "version": "3.8.3"
  }
 },
 "nbformat": 4,
 "nbformat_minor": 4
}
