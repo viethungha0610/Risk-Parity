{
 "cells": [
  {
   "cell_type": "code",
   "execution_count": 2,
   "metadata": {},
   "outputs": [],
   "source": [
    "import os\n",
    "import numpy as np\n",
    "import pandas as pd\n",
    "import matplotlib.pyplot as plt\n",
    "%matplotlib inline\n",
    "import seaborn as sns\n",
    "import json"
   ]
  },
  {
   "cell_type": "code",
   "execution_count": 1,
   "metadata": {},
   "outputs": [],
   "source": [
    "from AssetAllocation import RiskParity, PrepDataRP # Cannot import "
   ]
  },
  {
   "cell_type": "code",
   "execution_count": 3,
   "metadata": {},
   "outputs": [],
   "source": [
    "test_csv = pd.read_csv('test_csv_3.csv')"
   ]
  },
  {
   "cell_type": "code",
   "execution_count": 4,
   "metadata": {},
   "outputs": [
    {
     "data": {
      "text/html": [
       "<div>\n",
       "<style scoped>\n",
       "    .dataframe tbody tr th:only-of-type {\n",
       "        vertical-align: middle;\n",
       "    }\n",
       "\n",
       "    .dataframe tbody tr th {\n",
       "        vertical-align: top;\n",
       "    }\n",
       "\n",
       "    .dataframe thead th {\n",
       "        text-align: right;\n",
       "    }\n",
       "</style>\n",
       "<table border=\"1\" class=\"dataframe\">\n",
       "  <thead>\n",
       "    <tr style=\"text-align: right;\">\n",
       "      <th></th>\n",
       "      <th>Date</th>\n",
       "      <th>ACWI</th>\n",
       "      <th>TIP</th>\n",
       "      <th>GSG</th>\n",
       "      <th>GVI</th>\n",
       "    </tr>\n",
       "  </thead>\n",
       "  <tbody>\n",
       "    <tr>\n",
       "      <th>0</th>\n",
       "      <td>01/03/2008</td>\n",
       "      <td>38.627758</td>\n",
       "      <td>81.041718</td>\n",
       "      <td>57.860001</td>\n",
       "      <td>78.569115</td>\n",
       "    </tr>\n",
       "    <tr>\n",
       "      <th>1</th>\n",
       "      <td>01/04/2008</td>\n",
       "      <td>41.705772</td>\n",
       "      <td>79.354637</td>\n",
       "      <td>62.599998</td>\n",
       "      <td>78.212563</td>\n",
       "    </tr>\n",
       "    <tr>\n",
       "      <th>2</th>\n",
       "      <td>01/05/2008</td>\n",
       "      <td>42.066036</td>\n",
       "      <td>80.034706</td>\n",
       "      <td>67.900002</td>\n",
       "      <td>77.336098</td>\n",
       "    </tr>\n",
       "    <tr>\n",
       "      <th>3</th>\n",
       "      <td>01/06/2008</td>\n",
       "      <td>38.706081</td>\n",
       "      <td>81.173164</td>\n",
       "      <td>74.910004</td>\n",
       "      <td>77.526398</td>\n",
       "    </tr>\n",
       "    <tr>\n",
       "      <th>4</th>\n",
       "      <td>01/07/2008</td>\n",
       "      <td>37.484280</td>\n",
       "      <td>80.759224</td>\n",
       "      <td>64.930000</td>\n",
       "      <td>77.938805</td>\n",
       "    </tr>\n",
       "    <tr>\n",
       "      <th>...</th>\n",
       "      <td>...</td>\n",
       "      <td>...</td>\n",
       "      <td>...</td>\n",
       "      <td>...</td>\n",
       "      <td>...</td>\n",
       "    </tr>\n",
       "    <tr>\n",
       "      <th>145</th>\n",
       "      <td>01/04/2020</td>\n",
       "      <td>68.143501</td>\n",
       "      <td>120.831375</td>\n",
       "      <td>8.480000</td>\n",
       "      <td>115.598473</td>\n",
       "    </tr>\n",
       "    <tr>\n",
       "      <th>146</th>\n",
       "      <td>01/05/2020</td>\n",
       "      <td>71.614136</td>\n",
       "      <td>121.500793</td>\n",
       "      <td>9.820000</td>\n",
       "      <td>116.494965</td>\n",
       "    </tr>\n",
       "    <tr>\n",
       "      <th>147</th>\n",
       "      <td>01/06/2020</td>\n",
       "      <td>73.101555</td>\n",
       "      <td>123.000000</td>\n",
       "      <td>10.370000</td>\n",
       "      <td>117.172935</td>\n",
       "    </tr>\n",
       "    <tr>\n",
       "      <th>148</th>\n",
       "      <td>01/07/2020</td>\n",
       "      <td>77.669998</td>\n",
       "      <td>125.860001</td>\n",
       "      <td>10.750000</td>\n",
       "      <td>117.951363</td>\n",
       "    </tr>\n",
       "    <tr>\n",
       "      <th>149</th>\n",
       "      <td>01/08/2020</td>\n",
       "      <td>82.220001</td>\n",
       "      <td>126.010002</td>\n",
       "      <td>11.210000</td>\n",
       "      <td>117.473991</td>\n",
       "    </tr>\n",
       "  </tbody>\n",
       "</table>\n",
       "<p>150 rows × 5 columns</p>\n",
       "</div>"
      ],
      "text/plain": [
       "           Date       ACWI         TIP        GSG         GVI\n",
       "0    01/03/2008  38.627758   81.041718  57.860001   78.569115\n",
       "1    01/04/2008  41.705772   79.354637  62.599998   78.212563\n",
       "2    01/05/2008  42.066036   80.034706  67.900002   77.336098\n",
       "3    01/06/2008  38.706081   81.173164  74.910004   77.526398\n",
       "4    01/07/2008  37.484280   80.759224  64.930000   77.938805\n",
       "..          ...        ...         ...        ...         ...\n",
       "145  01/04/2020  68.143501  120.831375   8.480000  115.598473\n",
       "146  01/05/2020  71.614136  121.500793   9.820000  116.494965\n",
       "147  01/06/2020  73.101555  123.000000  10.370000  117.172935\n",
       "148  01/07/2020  77.669998  125.860001  10.750000  117.951363\n",
       "149  01/08/2020  82.220001  126.010002  11.210000  117.473991\n",
       "\n",
       "[150 rows x 5 columns]"
      ]
     },
     "execution_count": 4,
     "metadata": {},
     "output_type": "execute_result"
    }
   ],
   "source": [
    "test_csv"
   ]
  },
  {
   "cell_type": "code",
   "execution_count": 5,
   "metadata": {},
   "outputs": [
    {
     "name": "stdout",
     "output_type": "stream",
     "text": [
      "['ACWI', 'TIP', 'GSG', 'GVI']\n"
     ]
    }
   ],
   "source": [
    "preprocessing = PrepDataRP()\n",
    "cov_mat = preprocessing.transform(test_csv)\n",
    "assets = preprocessing.assets_\n",
    "print(assets)"
   ]
  },
  {
   "cell_type": "code",
   "execution_count": 6,
   "metadata": {
    "scrolled": true
   },
   "outputs": [
    {
     "name": "stdout",
     "output_type": "stream",
     "text": [
      "Minimised convex risk function value: -2.0762\n"
     ]
    },
    {
     "name": "stderr",
     "output_type": "stream",
     "text": [
      "C:\\Users\\Viet Hung Ha\\Documents\\Python\\Risk Parity\\AssetAllocation.py:62: RuntimeWarning: invalid value encountered in log\n",
      "  risk_func = 0.5*x_T.dot(self.cov_mat).dot(x) - b_T*(np.sum(np.log(x)))\n"
     ]
    },
    {
     "data": {
      "text/html": [
       "<div>\n",
       "<style scoped>\n",
       "    .dataframe tbody tr th:only-of-type {\n",
       "        vertical-align: middle;\n",
       "    }\n",
       "\n",
       "    .dataframe tbody tr th {\n",
       "        vertical-align: top;\n",
       "    }\n",
       "\n",
       "    .dataframe thead th {\n",
       "        text-align: right;\n",
       "    }\n",
       "</style>\n",
       "<table border=\"1\" class=\"dataframe\">\n",
       "  <thead>\n",
       "    <tr style=\"text-align: right;\">\n",
       "      <th></th>\n",
       "      <th>Assets</th>\n",
       "      <th>Allocation</th>\n",
       "    </tr>\n",
       "  </thead>\n",
       "  <tbody>\n",
       "    <tr>\n",
       "      <th>0</th>\n",
       "      <td>ACWI</td>\n",
       "      <td>0.0915</td>\n",
       "    </tr>\n",
       "    <tr>\n",
       "      <th>1</th>\n",
       "      <td>TIP</td>\n",
       "      <td>0.2592</td>\n",
       "    </tr>\n",
       "    <tr>\n",
       "      <th>2</th>\n",
       "      <td>GSG</td>\n",
       "      <td>0.0777</td>\n",
       "    </tr>\n",
       "    <tr>\n",
       "      <th>3</th>\n",
       "      <td>GVI</td>\n",
       "      <td>0.5717</td>\n",
       "    </tr>\n",
       "  </tbody>\n",
       "</table>\n",
       "</div>"
      ],
      "text/plain": [
       "  Assets  Allocation\n",
       "0   ACWI      0.0915\n",
       "1    TIP      0.2592\n",
       "2    GSG      0.0777\n",
       "3    GVI      0.5717"
      ]
     },
     "metadata": {},
     "output_type": "display_data"
    },
    {
     "data": {
      "image/png": "[encoded data removed]",
      "text/plain": [
       "<Figure size 432x288 with 1 Axes>"
      ]
     },
     "metadata": {
      "needs_background": "light"
     },
     "output_type": "display_data"
    },
    {
     "data": {
      "image/png": "[encoded data removed]",
      "text/plain": [
       "<Figure size 432x288 with 1 Axes>"
      ]
     },
     "metadata": {
      "needs_background": "light"
     },
     "output_type": "display_data"
    },
    {
     "data": {
      "image/png": "[encoded data removed]",
      "text/plain": [
       "<Figure size 432x288 with 1 Axes>"
      ]
     },
     "metadata": {
      "needs_background": "light"
     },
     "output_type": "display_data"
    }
   ],
   "source": [
    "test_rpp = RiskParity(cov_mat, assets)\n",
    "test_rpp.optimize(method='SLSQP')\n",
    "test_rpp.cal_risk_stats()\n",
    "test_rpp.visualise_risk_stats()"
   ]
  },
  {
   "cell_type": "code",
   "execution_count": 7,
   "metadata": {},
   "outputs": [],
   "source": [
    "random_vector = np.array([0.33, 0.33, 0.34])"
   ]
  },
  {
   "cell_type": "code",
   "execution_count": 8,
   "metadata": {},
   "outputs": [
    {
     "data": {
      "text/plain": [
       "1.0"
      ]
     },
     "execution_count": 8,
     "metadata": {},
     "output_type": "execute_result"
    }
   ],
   "source": [
    "np.sum(random_vector)"
   ]
  },
  {
   "cell_type": "code",
   "execution_count": 9,
   "metadata": {},
   "outputs": [
    {
     "data": {
      "text/plain": [
       "array([False, False, False])"
      ]
     },
     "execution_count": 9,
     "metadata": {},
     "output_type": "execute_result"
    }
   ],
   "source": [
    "random_vector < 0"
   ]
  },
  {
   "cell_type": "code",
   "execution_count": 7,
   "metadata": {
    "scrolled": true
   },
   "outputs": [
    {
     "name": "stdout",
     "output_type": "stream",
     "text": [
      "{\"quoteResponse\":{\"result\":[{\"language\":\"en-US\",\"region\":\"US\",\"quoteType\":\"EQUITY\",\"quoteSourceName\":\"Nasdaq Real Time Price\",\"triggerable\":true,\"currency\":\"USD\",\"sharesOutstanding\":8664099840,\"bookValue\":27.956,\"fiftyDayAverage\":25.565428,\"fiftyDayAverageChange\":-0.27192688,\"fiftyDayAverageChangePercent\":-0.010636508,\"twoHundredDayAverage\":24.2405,\"twoHundredDayAverageChange\":1.0530014,\"twoHundredDayAverageChangePercent\":0.043439757,\"marketCap\":219145420800,\"forwardPE\":11.874883,\"priceToBook\":0.9047611,\"sourceInterval\":15,\"exchangeDataDelayedBy\":0,\"pageViews\":{\"midTermTrend\":\"UP\",\"longTermTrend\":\"UP\",\"shortTermTrend\":\"NEUTRAL\"},\"tradeable\":false,\"components\":[\"^NQDMXJPLMAUD\",\"^NQUSBLM\",\"^NQG8000LMCAD\",\"^NQG8000LMEUR\",\"^NQDXUSMLTCGN\",\"^NQG8000LMGBPN\",\"^NQUSB8300LMCADN\",\"^NQDM8300LMJPY\",\"^NQUS500LCGN\",\"^NQNA8300LMEURN\",\"^NQG8000LMN\",\"^NQNA8300LMJPYN\",\"^NQG8300LM\",\"^NQNALMEURN\",\"^NQUSBLMCAD\",\"^NQG8300LMAUDN\",\"^NQDM8000LMCADN\",\"^NQDM8300LMCAD\",\"^NQDMXKRJPYN\",\"^NQDMXKRLMAUDN\",\"^NQDMXJPLMAUDN\",\"^NQDMXKRLMAUD\",\"^NQDM8000LMAUD\",\"^NQUSBLMJPY\",\"^NQUSB8000LMCADN\",\"^NQG8000LMJPY\",\"^NQG8300LMAUD\",\"^NQGXGBLMN\",\"^NQDMXKRLCJPY\",\"^NQDXUSLCEUR\",\"^NQUSB8000LMN\",\"^NQDXUSLCG\",\"^NQSSBAN\",\"^NQNA8000LMN\",\"^NQNA8000LMCADN\",\"^NQDMXKRAUD\",\"^NQNA8000LMJPY\",\"^NQDMXKRLMGBPN\",\"^NQGXGBLMGBPN\",\"^NQG8300LMGBP\",\"^NQGXJPLMJPYN\",\"^NQNALMCADN\",\"^NQUSBLMEUR\",\"^NQNALMJPY\",\"^NQGXGBLMJPY\",\"^NQUSB8300LMGBP\",\"^NQGXJPLMJPY\",\"^NQDM8300LMCADN\",\"^NQG8300LMGBPN\",\"^NQDMXKR\",\"^NQDMXGBLMCADN\",\"^NQDMXKRLCN\",\"^NQGXGBLMEURN\",\"^NQSSBA\",\"^NQGXJPLMCAD\",\"^NQUSB8300LMEURN\",\"^NQGXJPLMEUR\",\"^DWARJFMU\",\"^NQDMXJPLMGBPN\",\"^NQDMXJPLMN\",\"^NQDMXKRLCJPYN\",\"^NQDMXKRLMCADN\",\"^NQDMXKRLCEUR\",\"^NQDXUSLC\",\"^NQGXGBLMJPYN\",\"^NQUSBLMEURN\",\"^NQDMXKRJPY\",\"^NQDMXKRLCCAD\",\"^NQDMXKRLCEURN\",\"^NQNA8000LMAUD\",\"^NQUSMLTCG\",\"^NQGXJPLMGBPN\",\"^NQDM8000LMEURN\",\"^NQNALM\",\"^NQUS500LC\",\"^NQDMXGBLMJPY\",\"^NQFFUSGN\",\"^NQNALMAUD\",\"^NQNA8300LMEUR\",\"^NQDXUSLCN\",\"^NQUSB8300LMAUD\",\"^NQUSB8000LMEURN\",\"^NQNA8300LMCAD\",\"^NQGXGBLMAUD\",\"^NQDM8000LM\",\"^NQUSB8000LMGBP\",\"^NQUSBLMN\",\"^NQDMXJPLMGBP\",\"^NQDM8000LMN\",\"^NQDMXKRLMEUR\",\"^NQUSB8000LMJPYN\",\"^NQNALMAUDN\",\"^NQNA8000LM\",\"^NQDM8000LMJPYN\",\"^NQNA8300LMGBPN\",\"^NQDMXKRLMCAD\",\"^NQDMXGBLM\",\"^NQDM8300LMEUR\",\"^NQNA8300LMJPY\",\"^NQDM8300LMEURN\",\"^NQDMXGBLMJPYN\",\"^NQNA8000LMAUDN\",\"^NQDM8000LMJPY\",\"^NQDMXKRLMJPY\",\"^NQUSBLMJPYN\",\"^NQUSB8000LMAUD\",\"^NQUSB8300LMJPYN\",\"^NQDM8300LMJPYN\",\"^NQDMXGBLMCAD\",\"^NQUSLG\",\"^NQDMXGBLMEURN\",\"^NQDMXKRGBPN\",\"^NQBUY\",\"^NQDMXGBLMEUR\",\"^NQDMXKRAUDN\",\"^NQDMXKRLMJPYN\",\"^NQUSBLMCADN\",\"^NQNA8000LMGBPN\",\"^NQDMXGBLMN\",\"^NQDM8300LMGBP\",\"^NQG8300LMEURN\",\"^NQNALMGBPN\",\"^NQGXGBLMCADN\",\"^NQDMXKRLCCADN\",\"^NQG8300LMEUR\",\"^NQGXJPLMCADN\",\"^NQXAUB\",\"^NQG8300LMCAD\",\"^NQUSB8300LMN\",\"^NQDM8000LMCAD\",\"^NQDM8000LMEUR\",\"^NQGXJPLM\",\"^NQNA8300LMAUDN\",\"^NQUSBLMGBP\",\"^NQNALMN\",\"^NQUSLGN\",\"^NQXAUBAUD\",\"^NQG8300LMJPYN\",\"^NQG8000LMGBP\",\"^NQXAUBAUDN\",\"^NQG8000LMJPYN\",\"^NQGXJPLMAUDN\",\"^NQDMXKRLCGBP\",\"^NQDMXKRLM\",\"^NQUSMLTCGN\",\"^NQDMXKRLC\",\"^NQNALMGBP\",\"^NQNA8000LMGBP\",\"^NQDMXJPLMJPYN\",\"^NQGXGBLM\",\"^NQDMXKRN\",\"^NQG8300LMJPY\",\"^NQDMXJPLMEURN\",\"^NQDXUSMLTCG\",\"^NQDMXJPLM\",\"^NQDMXKREUR\",\"^NQUSB8300LM\",\"^NQGXJPLMGBP\",\"^NQDMXKRLMEURN\",\"^NQUSB8300LMJPY\",\"^NQUSBLMAUD\",\"^NQGXGBLMGBP\",\"^NQDMXKRCAD\",\"^NQNA8300LMN\",\"^NQDXUSLCEURN\",\"^NQG8000LMEURN\",\"^NQUSB8300LMCAD\",\"^NQDMXKRLCAUD\",\"^NQDM8300LMN\",\"^NQDXUSMEGAN\",\"^NQNA8000LMCAD\",\"^NQNALMCAD\",\"^NQUSB8300LMEUR\",\"^NQUSB8000LMEUR\",\"^NQG8300LMCADN\",\"^NQNA8000LMEUR\",\"^NQG8000LM\",\"^NQUSB8000LMCAD\",\"^NQUSB8000LMGBPN\",\"^NQGXJPLMEURN\",\"^NQDM8300LMAUDN\",\"^NQDM8000LMGBPN\",\"^NQDXUSLCGBP\",\"^NQNA8300LM\",\"^NQNA8300LMCADN\",\"^NQGXJPLMN\",\"^NQNALMEUR\",\"^NQFFUSG\",\"^NQNA8300LMAUD\",\"^NQGXGBLMEUR\",\"^NQDMXKRGBP\",\"^NQDMXGBLMGBPN\",\"^NQG8000LMAUDN\",\"^NQDMXKRCADN\",\"^NQGXGBLMCAD\",\"^NQDMXGBLMGBP\",\"^NQDMXKRLCAUDN\",\"^NQDXUSLCGBPN\",\"^NQUSB8300LMGBPN\",\"^NQUSB8000LMJPY\",\"^NQUSBLMGBPN\",\"^NQDMXKRLMN\",\"^NQGXJPLMAUD\",\"^NQDMXGBLMAUDN\",\"^NQDMXJPLMJPY\",\"^NQDMXKRLCGBPN\",\"^NQDM8300LMGBPN\",\"^NQDXUSLCGN\",\"^NQDM8300LMAUD\",\"^NQDM8000LMAUDN\",\"^NQNA8000LMJPYN\",\"^NQUS500LCG\",\"^NQDMXKREURN\",\"^NQNALMJPYN\",\"^NQUSB8300LMAUDN\",\"^NQXAUBN\",\"^NQG8300LMN\",\"^NQDMXJPLMCADN\",\"^NQDVRIS\",\"^NQUSB8000LM\",\"^NQNA8000LMEURN\",\"^NQUSB8000LMAUDN\",\"^NQDM8300LM\",\"^NQDMXGBLMAUD\",\"^NQNA8300LMGBP\",\"^NQUSBLMAUDN\",\"^NQDM8000LMGBP\",\"^NQDMXJPLMCAD\",\"^NQDMXJPLMEUR\",\"^NQDXUSMEGA\",\"^NQG8000LMCADN\",\"^NQDMXKRLMGBP\",\"^NQGXGBLMAUDN\",\"^NQUS500LCN\",\"^NQG8000LMAUD\"],\"floatShares\":8641224550,\"shortRatio\":1.4,\"preMarketChange\":0.08990097,\"preMarketChangePercent\":0.3576013,\"preMarketTime\":1599830949,\"targetPriceHigh\":38.0,\"targetPriceLow\":23.0,\"targetPriceMean\":28.61,\"targetPriceMedian\":28.0,\"preMarketPrice\":25.2299,\"heldPercentInsiders\":0.102,\"heldPercentInstitutions\":73.244,\"regularMarketChange\":0.15350151,\"regularMarketChangePercent\":0.61058676,\"regularMarketTime\":1599847863,\"regularMarketPrice\":25.2935,\"regularMarketDayHigh\":25.5752,\"regularMarketDayRange\":\"25.09 - 25.5752\",\"regularMarketDayLow\":25.09,\"regularMarketVolume\":29869995,\"sharesShort\":76724798,\"sharesShortPrevMonth\":81980779,\"shortPercentFloat\":1.0,\"regularMarketPreviousClose\":25.14,\"bid\":25.28,\"ask\":25.29,\"bidSize\":30,\"askSize\":215,\"fullExchangeName\":\"NYSE\",\"regularMarketOpen\":25.22,\"averageDailyVolume3Month\":64578082,\"averageDailyVolume10Day\":67802785,\"beta\":1.54738,\"fiftyTwoWeekLowChange\":7.3435,\"fiftyTwoWeekLowChangePercent\":0.40910864,\"fiftyTwoWeekRange\":\"17.95 - 35.72\",\"fiftyTwoWeekHighChange\":-10.4265,\"fiftyTwoWeekHighChangePercent\":-0.2918953,\"fiftyTwoWeekLow\":17.95,\"fiftyTwoWeekHigh\":35.72,\"dividendDate\":1600992000,\"exDividendDate\":1599091200,\"earningsTimestamp\":1602657900,\"earningsTimestampStart\":1602657900,\"earningsTimestampEnd\":1602657900,\"trailingAnnualDividendRate\":0.72,\"trailingPE\":12.17204,\"pegRatio\":10.2,\"dividendsPerShare\":0.72,\"dividendRate\":0.72,\"trailingAnnualDividendYield\":0.02863962,\"dividendYield\":2.86,\"revenue\":7.6578996E10,\"priceToSales\":2.861691,\"epsTrailingTwelveMonths\":2.078,\"epsForward\":2.13,\"epsCurrentYear\":1.58,\"epsNextQuarter\":0.39,\"priceEpsCurrentYear\":16.008545,\"priceEpsNextQuarter\":64.85513,\"priceHint\":2,\"firstTradeDateMilliseconds\":99153000000,\"totalCash\":9.0936299E11,\"exchange\":\"NYQ\",\"shortName\":\"Bank of America Corporation\",\"longName\":\"Bank of America Corporation\",\"messageBoardId\":\"finmb_19049\",\"exchangeTimezoneName\":\"America/New_York\",\"exchangeTimezoneShortName\":\"EDT\",\"gmtOffSetMilliseconds\":-14400000,\"market\":\"us_market\",\"esgPopulated\":false,\"marketState\":\"REGULAR\",\"symbol\":\"BAC\"},{\"language\":\"en-US\",\"region\":\"US\",\"quoteType\":\"FUTURE\",\"triggerable\":false,\"contractSymbol\":false,\"headSymbolAsString\":\"KC=F\",\"currency\":\"USX\",\"fiftyDayAverage\":120.12857,\"fiftyDayAverageChange\":11.271423,\"fiftyDayAverageChangePercent\":0.093828,\"twoHundredDayAverage\":109.84464,\"twoHundredDayAverageChange\":21.555351,\"twoHundredDayAverageChangePercent\":0.19623488,\"sourceInterval\":30,\"exchangeDataDelayedBy\":30,\"tradeable\":false,\"regularMarketChange\":-0.30000305,\"regularMarketChangePercent\":-0.22779274,\"regularMarketTime\":1599845399,\"regularMarketPrice\":131.4,\"regularMarketDayHigh\":132.55,\"regularMarketDayRange\":\"129.3 - 132.55\",\"regularMarketDayLow\":129.3,\"regularMarketVolume\":20336,\"regularMarketPreviousClose\":131.7,\"bid\":131.4,\"ask\":131.45,\"bidSize\":0,\"askSize\":0,\"fullExchangeName\":\"NYBOT\",\"regularMarketOpen\":130.5,\"averageDailyVolume3Month\":10154,\"averageDailyVolume10Day\":23,\"fiftyTwoWeekLowChange\":39.199997,\"fiftyTwoWeekLowChangePercent\":0.42516267,\"fiftyTwoWeekRange\":\"92.2 - 138.4\",\"fiftyTwoWeekHighChange\":-7.0,\"fiftyTwoWeekHighChangePercent\":-0.050578035,\"fiftyTwoWeekLow\":92.2,\"fiftyTwoWeekHigh\":138.4,\"openInterest\":115030,\"expireDate\":1608249600,\"expireIsoDate\":\"2020-12-18T00:00:00Z\",\"priceHint\":2,\"firstTradeDateMilliseconds\":945666000000,\"underlyingSymbol\":\"KCZ20.NYB\",\"underlyingExchangeSymbol\":\"KCZ20.NYB\",\"exchange\":\"NYB\",\"shortName\":\"Coffee Dec 20\",\"exchangeTimezoneName\":\"America/New_York\",\"exchangeTimezoneShortName\":\"EDT\",\"gmtOffSetMilliseconds\":-14400000,\"market\":\"us24_market\",\"esgPopulated\":false,\"marketState\":\"REGULAR\",\"symbol\":\"KC=F\"},{\"language\":\"en-US\",\"region\":\"US\",\"quoteType\":\"EQUITY\",\"quoteSourceName\":\"Delayed Quote\",\"triggerable\":false,\"currency\":\"KRW\",\"sharesOutstanding\":23407800,\"fiftyDayAverage\":13000.0,\"fiftyDayAverageChange\":50.0,\"fiftyDayAverageChangePercent\":0.0038461538,\"twoHundredDayAverage\":12308.042,\"twoHundredDayAverageChange\":741.958,\"twoHundredDayAverageChangePercent\":0.060282376,\"marketCap\":305471782912,\"sourceInterval\":20,\"exchangeDataDelayedBy\":20,\"tradeable\":false,\"floatShares\":13772937,\"ebitda\":4611876352,\"heldPercentInsiders\":21.069,\"heldPercentInstitutions\":3.995,\"regularMarketChange\":250.0,\"regularMarketChangePercent\":1.953125,\"regularMarketTime\":1599805807,\"regularMarketPrice\":13050.0,\"regularMarketDayHigh\":13100.0,\"regularMarketDayRange\":\"12650.0 - 13100.0\",\"regularMarketDayLow\":12650.0,\"regularMarketVolume\":230707,\"regularMarketPreviousClose\":12800.0,\"bid\":13000.0,\"ask\":13050.0,\"bidSize\":0,\"askSize\":0,\"fullExchangeName\":\"KSE\",\"regularMarketOpen\":12800.0,\"averageDailyVolume3Month\":837436,\"averageDailyVolume10Day\":1309355,\"beta\":1.790971,\"fiftyTwoWeekLowChange\":6690.0,\"fiftyTwoWeekLowChangePercent\":1.0518868,\"fiftyTwoWeekRange\":\"6360.0 - 19900.0\",\"fiftyTwoWeekHighChange\":-6850.0,\"fiftyTwoWeekHighChangePercent\":-0.34422112,\"fiftyTwoWeekLow\":6360.0,\"fiftyTwoWeekHigh\":19900.0,\"exDividendDate\":1388102400,\"dividendsPerShare\":0.0,\"revenue\":7.8442095E10,\"priceToSales\":3.8942327,\"priceHint\":2,\"firstTradeDateMilliseconds\":946944000000,\"totalCash\":1.72902523E10,\"exchange\":\"KSC\",\"shortName\":\"DongsungPharm\",\"longName\":\"Dong Sung Bio Pharm.Co.,Ltd.\",\"messageBoardId\":\"finmb_20342673\",\"exchangeTimezoneName\":\"Asia/Seoul\",\"exchangeTimezoneShortName\":\"KST\",\"gmtOffSetMilliseconds\":32400000,\"market\":\"kr_market\",\"esgPopulated\":false,\"marketState\":\"CLOSED\",\"symbol\":\"002210.KS\"},{\"language\":\"en-US\",\"region\":\"US\",\"quoteType\":\"ETF\",\"quoteSourceName\":\"Nasdaq Real Time Price\",\"triggerable\":true,\"currency\":\"USD\",\"sharesOutstanding\":281049984,\"fiftyDayAverage\":153.60286,\"fiftyDayAverageChange\":-5.2328644,\"fiftyDayAverageChangePercent\":-0.034067493,\"twoHundredDayAverage\":137.32207,\"twoHundredDayAverageChange\":11.047928,\"twoHundredDayAverageChangePercent\":0.08045267,\"netExpenseRatio\":0.19,\"marketCap\":41699385344,\"sourceInterval\":15,\"exchangeDataDelayedBy\":0,\"pageViews\":{\"midTermTrend\":\"UP\",\"longTermTrend\":\"UP\",\"shortTermTrend\":\"UP\"},\"tradeable\":false,\"components\":[\"^ETFCOMP\",\"^ETFCOMPNTR\"],\"closedNavPrice\":143.27,\"preMarketChange\":0.699997,\"preMarketChangePercent\":0.466043,\"preMarketTime\":1599830994,\"preMarketPrice\":150.9,\"regularMarketChange\":-1.7799988,\"regularMarketChangePercent\":-1.1854805,\"regularMarketTime\":1599847861,\"regularMarketPrice\":148.37,\"regularMarketDayHigh\":151.05,\"regularMarketDayRange\":\"147.675 - 151.05\",\"regularMarketDayLow\":147.675,\"regularMarketVolume\":11436474,\"regularMarketPreviousClose\":150.15,\"bid\":148.08,\"ask\":148.18,\"bidSize\":10,\"askSize\":9,\"fullExchangeName\":\"NYSEArca\",\"regularMarketOpen\":150.92,\"averageDailyVolume3Month\":26076942,\"averageDailyVolume10Day\":23535742,\"beta\":1.27,\"fiftyTwoWeekLowChange\":52.679993,\"fiftyTwoWeekLowChangePercent\":0.55052763,\"fiftyTwoWeekRange\":\"95.69 - 170.56\",\"fiftyTwoWeekHighChange\":-22.190002,\"fiftyTwoWeekHighChangePercent\":-0.13010086,\"fiftyTwoWeekLow\":95.69,\"fiftyTwoWeekHigh\":170.56,\"inceptionDate\":958953600,\"dividendYield\":1.41,\"yield\":1.41,\"ytdReturn\":-12.99,\"netAssets\":3.6683846E10,\"priceHint\":2,\"firstTradeDateMilliseconds\":959347800000,\"exchange\":\"PCX\",\"shortName\":\"iShares Russell 2000 ETF\",\"longName\":\"iShares Russell 2000 ETF\",\"messageBoardId\":\"finmb_8797658\",\"exchangeTimezoneName\":\"America/New_York\",\"exchangeTimezoneShortName\":\"EDT\",\"gmtOffSetMilliseconds\":-14400000,\"market\":\"us_market\",\"esgPopulated\":false,\"marketState\":\"REGULAR\",\"symbol\":\"IWM\"},{\"language\":\"en-US\",\"region\":\"US\",\"quoteType\":\"MUTUALFUND\",\"quoteSourceName\":\"Delayed Quote\",\"triggerable\":false,\"currency\":\"USD\",\"fiftyDayAverage\":22.224285,\"fiftyDayAverageChange\":-0.1442852,\"fiftyDayAverageChangePercent\":-0.0064922315,\"twoHundredDayAverage\":21.0095,\"twoHundredDayAverageChange\":1.0704994,\"twoHundredDayAverageChangePercent\":0.050953113,\"netExpenseRatio\":0.58,\"sourceInterval\":15,\"exchangeDataDelayedBy\":0,\"morningstarRating\":3.0,\"morningstarRiskRating\":1,\"tradeable\":false,\"holdingsTurnover\":67.0,\"regularMarketChange\":-0.21,\"regularMarketChangePercent\":-0.9421266,\"regularMarketTime\":1599825965,\"regularMarketPrice\":22.08,\"regularMarketPreviousClose\":22.289999,\"fullExchangeName\":\"Nasdaq\",\"averageDailyVolume3Month\":0,\"averageDailyVolume10Day\":0,\"beta\":1.03,\"fiftyTwoWeekLowChange\":4.789999,\"fiftyTwoWeekLowChangePercent\":0.2770387,\"fiftyTwoWeekRange\":\"17.29 - 23.82\",\"fiftyTwoWeekHighChange\":-1.7399998,\"fiftyTwoWeekHighChangePercent\":-0.07304785,\"fiftyTwoWeekLow\":17.29,\"fiftyTwoWeekHigh\":23.82,\"inceptionDate\":123465600,\"dividendsPerShare\":0.165,\"dividendRate\":0.165,\"dividendYield\":3.46,\"yield\":3.46,\"ytdReturn\":-8.06,\"netAssets\":1.04511455E11,\"lastCapGain\":0,\"priceHint\":2,\"firstTradeDateMilliseconds\":505060200000,\"exchange\":\"NAS\",\"shortName\":\"The Income Fund of America, Cla\",\"longName\":\"American Funds The Income Fund of America Class A\",\"messageBoardId\":\"finmb_28115661\",\"exchangeTimezoneName\":\"America/New_York\",\"exchangeTimezoneShortName\":\"EDT\",\"gmtOffSetMilliseconds\":-14400000,\"market\":\"us_market\",\"esgPopulated\":false,\"fundCategory\":\"Allocation--70% to 85% Equity\",\"marketState\":\"REGULAR\",\"symbol\":\"AMECX\"}],\"error\":null}}\n"
     ]
    }
   ],
   "source": [
    "import requests\n",
    "\n",
    "url = \"https://apidojo-yahoo-finance-v1.p.rapidapi.com/market/get-quotes\"\n",
    "\n",
    "querystring = {\"region\":\"US\",\"lang\":\"en\",\"symbols\":\"BAC%2CKC%3DF%2C002210.KS%2CIWM%2CAMECX\"}\n",
    "\n",
    "headers = {\n",
    "    'x-rapidapi-host': \"apidojo-yahoo-finance-v1.p.rapidapi.com\",\n",
    "    'x-rapidapi-key': \"0d85196943mshb6828091ff3fedap147d34jsnee33a93be78a\"\n",
    "    }\n",
    "\n",
    "response = requests.request(\"GET\", url, headers=headers, params=querystring)\n",
    "\n",
    "print(response.text)"
   ]
  },
  {
   "cell_type": "code",
   "execution_count": 11,
   "metadata": {},
   "outputs": [],
   "source": [
    "import time\n",
    "\n",
    "date_time = '29.08.2011'\n",
    "pattern = ('%d.%m.%Y')\n",
    "epoch = int(time.mktime(time.strptime(date_time, pattern)))"
   ]
  },
  {
   "cell_type": "code",
   "execution_count": 32,
   "metadata": {},
   "outputs": [],
   "source": [
    "def time_to_unix(start, finish, pattern='%d.%m.%Y'):\n",
    "    import time\n",
    "    start_unix = int(time.mktime(time.strptime(start, pattern)))\n",
    "    finish_unix = int(time.mktime(time.strptime(finish, pattern)))\n",
    "    return str(start_unix), str(finish_unix)"
   ]
  },
  {
   "cell_type": "code",
   "execution_count": 33,
   "metadata": {},
   "outputs": [
    {
     "data": {
      "text/plain": [
       "('1283122800', '1598742000')"
      ]
     },
     "execution_count": 33,
     "metadata": {},
     "output_type": "execute_result"
    }
   ],
   "source": [
    "time_to_unix('30.08.2010', '30.08.2020')"
   ]
  },
  {
   "cell_type": "code",
   "execution_count": 14,
   "metadata": {},
   "outputs": [],
   "source": [
    "def get_price_data(symbol, start, finish, freq=\"1mo\"):\n",
    "    import time\n",
    "    import requests\n",
    "    # Converting date time to human readable\n",
    "    pattern = '%d.%m.%Y'\n",
    "    start_unix = int(time.mktime(time.strptime(start, pattern)))\n",
    "    start_str = str(start_unix)\n",
    "    finish_unix = int(time.mktime(time.strptime(finish, pattern)))\n",
    "    finish_str = str(finish_unix)\n",
    "    # Connecting to RapidAPI\n",
    "    url = \"https://apidojo-yahoo-finance-v1.p.rapidapi.com/stock/v2/get-historical-data\"\n",
    "    querystring = {\"frequency\":freq,\"filter\":\"history\",\"period1\":start_str,\"period2\":start_str,\n",
    "                   \"symbol\":symbol}\n",
    "    headers = {\n",
    "        'x-rapidapi-host': \"apidojo-yahoo-finance-v1.p.rapidapi.com\",\n",
    "        'x-rapidapi-key': \"0d85196943mshb6828091ff3fedap147d34jsnee33a93be78a\"\n",
    "        }\n",
    "#     response = requests.request(\"GET\", url, headers=headers, params=querystring)\n",
    "#     print(response.text)"
   ]
  },
  {
   "cell_type": "code",
   "execution_count": 15,
   "metadata": {},
   "outputs": [],
   "source": [
    "get_price_data('MSFT', '30.08.2010', '30.08.2020')"
   ]
  },
  {
   "cell_type": "code",
   "execution_count": null,
   "metadata": {},
   "outputs": [],
   "source": [
    "url = \"https://apidojo-yahoo-finance-v1.p.rapidapi.com/stock/v3/get-historical-data\"\n",
    "\n",
    "querystring = {\"region\":\"US\",\"symbol\":\"AMRN\"}\n",
    "\n",
    "headers = {\n",
    "    'x-rapidapi-host': \"apidojo-yahoo-finance-v1.p.rapidapi.com\",\n",
    "    'x-rapidapi-key': \"0d85196943mshb6828091ff3fedap147d34jsnee33a93be78a\"\n",
    "    }\n",
    "\n",
    "response = requests.request(\"GET\", url, headers=headers, params=querystring)\n",
    "\n",
    "print(response.text)"
   ]
  },
  {
   "cell_type": "code",
   "execution_count": 16,
   "metadata": {},
   "outputs": [
    {
     "name": "stdout",
     "output_type": "stream",
     "text": [
      "{\"prices\":[{\"amount\":0.51,\"date\":1597843800,\"type\":\"DIVIDEND\",\"data\":0.51},{\"date\":1596254400,\"open\":211.52000427246094,\"high\":231.14999389648438,\"low\":203.13999938964844,\"close\":228.91000366210938,\"volume\":663671200,\"adjclose\":228.3579864501953},{\"date\":1593576000,\"open\":203.13999938964844,\"high\":216.3800048828125,\"low\":197.50999450683594,\"close\":205.00999450683594,\"volume\":770510200,\"adjclose\":204.51560974121094},{\"date\":1590984000,\"open\":182.5399932861328,\"high\":204.39999389648438,\"low\":181.35000610351562,\"close\":203.50999450683594,\"volume\":764905600,\"adjclose\":203.01922607421875},{\"amount\":0.51,\"date\":1589981400,\"type\":\"DIVIDEND\",\"data\":0.51},{\"date\":1588305600,\"open\":175.8000030517578,\"high\":187.50999450683594,\"low\":173.8000030517578,\"close\":183.25,\"volume\":688938200,\"adjclose\":182.30038452148438},{\"date\":1585713600,\"open\":153,\"high\":180.39999389648438,\"low\":150.36000061035156,\"close\":179.2100067138672,\"volume\":984596200,\"adjclose\":178.28131103515625},{\"date\":1583038800,\"open\":165.30999755859375,\"high\":175,\"low\":132.52000427246094,\"close\":157.7100067138672,\"volume\":1612695500,\"adjclose\":156.89273071289062},{\"amount\":0.51,\"date\":1582122600,\"type\":\"DIVIDEND\",\"data\":0.51},{\"date\":1580533200,\"open\":170.42999267578125,\"high\":190.6999969482422,\"low\":152,\"close\":162.00999450683594,\"volume\":887564400,\"adjclose\":160.73143005371094},{\"date\":1577854800,\"open\":158.77999877929688,\"high\":174.0500030517578,\"low\":156.50999450683594,\"close\":170.22999572753906,\"volume\":558530000,\"adjclose\":168.8865509033203},{\"date\":1575176400,\"open\":151.80999755859375,\"high\":159.5500030517578,\"low\":146.64999389648438,\"close\":157.6999969482422,\"volume\":450303300,\"adjclose\":156.45542907714844},{\"amount\":0.51,\"date\":1574260200,\"type\":\"DIVIDEND\",\"data\":0.51},{\"date\":1572580800,\"open\":144.25999450683594,\"high\":152.5,\"low\":142.97000122070312,\"close\":151.3800048828125,\"volume\":392371800,\"adjclose\":149.67601013183594},{\"date\":1569902400,\"open\":139.66000366210938,\"high\":145.6699981689453,\"low\":133.22000122070312,\"close\":143.3699951171875,\"volume\":549523400,\"adjclose\":141.75616455078125},{\"date\":1567310400,\"open\":136.61000061035156,\"high\":142.3699951171875,\"low\":134.50999450683594,\"close\":139.02999877929688,\"volume\":472544800,\"adjclose\":137.46502685546875},{\"amount\":0.46,\"date\":1565789400,\"type\":\"DIVIDEND\",\"data\":0.46},{\"date\":1564632000,\"open\":137,\"high\":140.94000244140625,\"low\":130.77999877929688,\"close\":137.86000061035156,\"volume\":584474300,\"adjclose\":135.85580444335938},{\"date\":1561953600,\"open\":136.6300048828125,\"high\":141.67999267578125,\"low\":134.6699981689453,\"close\":136.27000427246094,\"volume\":484547500,\"adjclose\":134.28892517089844},{\"date\":1559361600,\"open\":123.8499984741211,\"high\":138.39999389648438,\"low\":119.01000213623047,\"close\":133.9600067138672,\"volume\":508316500,\"adjclose\":132.0124969482422},{\"amount\":0.46,\"date\":1557927000,\"type\":\"DIVIDEND\",\"data\":0.46},{\"date\":1556683200,\"open\":130.52999877929688,\"high\":130.64999389648438,\"low\":123.04000091552734,\"close\":123.68000030517578,\"volume\":547218800,\"adjclose\":121.43244934082031},{\"date\":1554091200,\"open\":118.94999694824219,\"high\":131.3699951171875,\"low\":118.0999984741211,\"close\":130.60000610351562,\"volume\":433157700,\"adjclose\":128.22669982910156},{\"date\":1551416400,\"open\":112.88999938964844,\"high\":120.81999969482422,\"low\":108.80000305175781,\"close\":117.94000244140625,\"volume\":589095800,\"adjclose\":115.79676818847656},{\"amount\":0.46,\"date\":1550673000,\"type\":\"DIVIDEND\",\"data\":0.46},{\"date\":1548997200,\"open\":103.77999877929688,\"high\":113.23999786376953,\"low\":102.3499984741211,\"close\":112.02999877929688,\"volume\":469095900,\"adjclose\":109.52640533447266},{\"date\":1546318800,\"open\":99.55000305175781,\"high\":107.9000015258789,\"low\":97.19999694824219,\"close\":104.43000030517578,\"volume\":714212800,\"adjclose\":102.09624481201172},{\"date\":1543640400,\"open\":113,\"high\":113.41999816894531,\"low\":93.95999908447266,\"close\":101.56999969482422,\"volume\":944314600,\"adjclose\":99.30015563964844},{\"amount\":0.46,\"date\":1542205800,\"type\":\"DIVIDEND\",\"data\":0.46},{\"date\":1541044800,\"open\":107.05000305175781,\"high\":112.23999786376953,\"low\":99.3499984741211,\"close\":110.88999938964844,\"volume\":720228600,\"adjclose\":107.94556427001953},{\"date\":1538366400,\"open\":114.75,\"high\":116.18000030517578,\"low\":100.11000061035156,\"close\":106.80999755859375,\"volume\":927548000,\"adjclose\":103.973876953125},{\"date\":1535774400,\"open\":110.8499984741211,\"high\":115.29000091552734,\"low\":107.2300033569336,\"close\":114.37000274658203,\"volume\":480255500,\"adjclose\":111.3331298828125},{\"amount\":0.42,\"date\":1534339800,\"type\":\"DIVIDEND\",\"data\":0.42},{\"date\":1533096000,\"open\":106.02999877929688,\"high\":112.77999877929688,\"low\":104.83999633789062,\"close\":112.33000183105469,\"volume\":456628100,\"adjclose\":108.9281234741211},{\"date\":1530417600,\"open\":98.0999984741211,\"high\":111.1500015258789,\"low\":98,\"close\":106.08000183105469,\"volume\":569352300,\"adjclose\":102.8674087524414},{\"date\":1527825600,\"open\":99.27999877929688,\"high\":102.69000244140625,\"low\":97.26000213623047,\"close\":98.61000061035156,\"volume\":602585200,\"adjclose\":95.62362670898438},{\"amount\":0.42,\"date\":1526477400,\"type\":\"DIVIDEND\",\"data\":0.42},{\"date\":1525147200,\"open\":93.20999908447266,\"high\":99.98999786376953,\"low\":92.44999694824219,\"close\":98.83999633789062,\"volume\":509417900,\"adjclose\":95.43301391601562},{\"date\":1522555200,\"open\":90.47000122070312,\"high\":97.9000015258789,\"low\":87.51000213623047,\"close\":93.5199966430664,\"volume\":668130700,\"adjclose\":90.29638671875},{\"date\":1519880400,\"open\":93.98999786376953,\"high\":97.23999786376953,\"low\":87.08000183105469,\"close\":91.2699966430664,\"volume\":750754800,\"adjclose\":88.12395477294922},{\"amount\":0.42,\"date\":1518618600,\"type\":\"DIVIDEND\",\"data\":0.42},{\"date\":1517461200,\"open\":94.79000091552734,\"high\":96.06999969482422,\"low\":83.83000183105469,\"close\":93.7699966430664,\"volume\":725663300,\"adjclose\":90.11447143554688},{\"date\":1514782800,\"open\":86.12999725341797,\"high\":95.44999694824219,\"low\":85.5,\"close\":95.01000213623047,\"volume\":574258400,\"adjclose\":91.3061294555664},{\"date\":1512104400,\"open\":83.5999984741211,\"high\":87.5,\"low\":80.69999694824219,\"close\":85.54000091552734,\"volume\":466203300,\"adjclose\":82.205322265625},{\"amount\":0.42,\"date\":1510756200,\"type\":\"DIVIDEND\",\"data\":0.42},{\"date\":1509508800,\"open\":83.68000030517578,\"high\":85.05999755859375,\"low\":82.23999786376953,\"close\":84.16999816894531,\"volume\":421926000,\"adjclose\":80.48451232910156},{\"date\":1506830400,\"open\":74.70999908447266,\"high\":86.19999694824219,\"low\":73.70999908447266,\"close\":83.18000030517578,\"volume\":449950000,\"adjclose\":79.5378646850586},{\"date\":1504238400,\"open\":74.70999908447266,\"high\":75.97000122070312,\"low\":72.91999816894531,\"close\":74.48999786376953,\"volume\":375983900,\"adjclose\":71.22836303710938},{\"amount\":0.39,\"date\":1502803800,\"type\":\"DIVIDEND\",\"data\":0.39},{\"date\":1501560000,\"open\":73.0999984741211,\"high\":74.95999908447266,\"low\":71.27999877929688,\"close\":74.7699966430664,\"volume\":444070500,\"adjclose\":71.11719512939453},{\"date\":1498881600,\"open\":69.33000183105469,\"high\":74.41999816894531,\"low\":68.0199966430664,\"close\":72.69999694824219,\"volume\":469851200,\"adjclose\":69.14833068847656},{\"date\":1496289600,\"open\":70.23999786376953,\"high\":72.88999938964844,\"low\":68.08999633789062,\"close\":68.93000030517578,\"volume\":629716800,\"adjclose\":65.5625},{\"amount\":0.39,\"date\":1494941400,\"type\":\"DIVIDEND\",\"data\":0.39},{\"date\":1493611200,\"open\":68.68000030517578,\"high\":70.73999786376953,\"low\":67.13999938964844,\"close\":69.83999633789062,\"volume\":517218500,\"adjclose\":66.04945373535156},{\"date\":1491019200,\"open\":65.80999755859375,\"high\":69.13999938964844,\"low\":64.8499984741211,\"close\":68.45999908447266,\"volume\":433191200,\"adjclose\":64.7443618774414},{\"date\":1488344400,\"open\":64.12999725341797,\"high\":66.19000244140625,\"low\":63.619998931884766,\"close\":65.86000061035156,\"volume\":489169700,\"adjclose\":62.28547668457031},{\"amount\":0.39,\"date\":1487082600,\"type\":\"DIVIDEND\",\"data\":0.39},{\"date\":1485925200,\"open\":64.36000061035156,\"high\":65.23999786376953,\"low\":62.75,\"close\":63.97999954223633,\"volume\":440744000,\"adjclose\":60.14289474487305},{\"date\":1483246800,\"open\":62.790000915527344,\"high\":65.91000366210938,\"low\":61.95000076293945,\"close\":64.6500015258789,\"volume\":493453500,\"adjclose\":60.77271270751953},{\"date\":1480568400,\"open\":60.11000061035156,\"high\":64.0999984741211,\"low\":58.79999923706055,\"close\":62.13999938964844,\"volume\":513579700,\"adjclose\":58.413238525390625},{\"amount\":0.39,\"date\":1479220200,\"type\":\"DIVIDEND\",\"data\":0.39},{\"date\":1477972800,\"open\":59.970001220703125,\"high\":61.40999984741211,\"low\":57.279998779296875,\"close\":60.2599983215332,\"volume\":613056800,\"adjclose\":56.26588439941406},{\"date\":1475294400,\"open\":57.40999984741211,\"high\":61.369998931884766,\"low\":56.31999969482422,\"close\":59.91999816894531,\"volume\":614841800,\"adjclose\":55.94841766357422},{\"date\":1472702400,\"open\":57.0099983215332,\"high\":58.189998626708984,\"low\":55.61000061035156,\"close\":57.599998474121094,\"volume\":526427800,\"adjclose\":53.78219985961914},{\"amount\":0.36,\"date\":1471354200,\"type\":\"DIVIDEND\",\"data\":0.36},{\"date\":1470024000,\"open\":56.599998474121094,\"high\":58.70000076293945,\"low\":56.13999938964844,\"close\":57.459999084472656,\"volume\":467078900,\"adjclose\":53.31915283203125},{\"date\":1467345600,\"open\":51.130001068115234,\"high\":57.290000915527344,\"low\":50.38999938964844,\"close\":56.68000030517578,\"volume\":647587800,\"adjclose\":52.59536361694336},{\"date\":1464753600,\"open\":52.439998626708984,\"high\":52.95000076293945,\"low\":48.040000915527344,\"close\":51.16999816894531,\"volume\":823627000,\"adjclose\":47.48244094848633},{\"amount\":0.36,\"date\":1463491800,\"type\":\"DIVIDEND\",\"data\":0.36},{\"date\":1462075200,\"open\":50,\"high\":53,\"low\":49.459999084472656,\"close\":53,\"volume\":530704800,\"adjclose\":48.83897018432617},{\"date\":1459483200,\"open\":55.04999923706055,\"high\":56.77000045776367,\"low\":49.349998474121094,\"close\":49.869998931884766,\"volume\":699025700,\"adjclose\":45.95469665527344},{\"date\":1456808400,\"open\":50.970001220703125,\"high\":55.63999938964844,\"low\":50.58000183105469,\"close\":55.22999954223633,\"volume\":641110900,\"adjclose\":50.893882751464844},{\"amount\":0.36,\"date\":1455633000,\"type\":\"DIVIDEND\",\"data\":0.36},{\"date\":1454302800,\"open\":54.880001068115234,\"high\":55.09000015258789,\"low\":48.189998626708984,\"close\":50.880001068115234,\"volume\":814770900,\"adjclose\":46.55118179321289},{\"date\":1451624400,\"open\":54.31999969482422,\"high\":55.38999938964844,\"low\":49.099998474121094,\"close\":55.09000015258789,\"volume\":927914700,\"adjclose\":50.402992248535156},{\"date\":1448946000,\"open\":54.40999984741211,\"high\":56.849998474121094,\"low\":53.68000030517578,\"close\":55.47999954223633,\"volume\":792820900,\"adjclose\":50.75981521606445},{\"amount\":0.36,\"date\":1447770600,\"type\":\"DIVIDEND\",\"data\":0.36},{\"date\":1446350400,\"open\":52.849998474121094,\"high\":54.97999954223633,\"low\":52.529998779296875,\"close\":54.349998474121094,\"volume\":662626600,\"adjclose\":49.39302062988281},{\"date\":1443672000,\"open\":44.75,\"high\":54.369998931884766,\"low\":43.75,\"close\":52.63999938964844,\"volume\":856716800,\"adjclose\":47.8389778137207},{\"date\":1441080000,\"open\":42.16999816894531,\"high\":45,\"low\":41.65999984741211,\"close\":44.2599983215332,\"volume\":673079900,\"adjclose\":40.2232780456543},{\"amount\":0.31,\"date\":1439904600,\"type\":\"DIVIDEND\",\"data\":0.31},{\"date\":1438401600,\"open\":46.97999954223633,\"high\":48.40999984741211,\"low\":39.720001220703125,\"close\":43.52000045776367,\"volume\":776480300,\"adjclose\":39.291664123535156},{\"date\":1435723200,\"open\":44.459999084472656,\"high\":47.400001525878906,\"low\":43.31999969482422,\"close\":46.70000076293945,\"volume\":725458100,\"adjclose\":42.1627082824707},{\"date\":1433131200,\"open\":47.060001373291016,\"high\":47.77000045776367,\"low\":43.939998626708984,\"close\":44.150001525878906,\"volume\":664853400,\"adjclose\":39.86046600341797},{\"amount\":0.31,\"date\":1432042200,\"type\":\"DIVIDEND\",\"data\":0.31},{\"date\":1430452800,\"open\":48.58000183105469,\"high\":48.90999984741211,\"low\":46.02000045776367,\"close\":46.86000061035156,\"volume\":633072800,\"adjclose\":42.03398513793945},{\"date\":1427860800,\"open\":40.599998474121094,\"high\":49.540000915527344,\"low\":40.119998931884766,\"close\":48.63999938964844,\"volume\":874535300,\"adjclose\":43.63066864013672},{\"date\":1425186000,\"open\":43.66999816894531,\"high\":44.189998626708984,\"low\":40.540000915527344,\"close\":40.65999984741211,\"volume\":824335300,\"adjclose\":36.472503662109375},{\"amount\":0.31,\"date\":1424183400,\"type\":\"DIVIDEND\",\"data\":0.31},{\"date\":1422766800,\"open\":40.59000015258789,\"high\":44.29999923706055,\"low\":40.22999954223633,\"close\":43.849998474121094,\"volume\":656509700,\"adjclose\":39.0560302734375},{\"date\":1420088400,\"open\":46.65999984741211,\"high\":47.90999984741211,\"low\":40.349998474121094,\"close\":40.400001525878906,\"volume\":918966800,\"adjclose\":35.98320770263672},{\"date\":1417410000,\"open\":47.880001068115234,\"high\":49.060001373291016,\"low\":44.900001525878906,\"close\":46.45000076293945,\"volume\":626771200,\"adjclose\":41.37177276611328},{\"amount\":0.31,\"date\":1416321000,\"type\":\"DIVIDEND\",\"data\":0.31},{\"date\":1414814400,\"open\":46.88999938964844,\"high\":50.04999923706055,\"low\":46.72999954223633,\"close\":47.810001373291016,\"volume\":523005900,\"adjclose\":42.31620788574219},{\"date\":1412136000,\"open\":46.27000045776367,\"high\":46.970001220703125,\"low\":42.099998474121094,\"close\":46.95000076293945,\"volume\":853260900,\"adjclose\":41.555015563964844},{\"date\":1409544000,\"open\":45.43000030517578,\"high\":47.56999969482422,\"low\":44.529998779296875,\"close\":46.36000061035156,\"volume\":860827300,\"adjclose\":41.03281021118164},{\"amount\":0.28,\"date\":1408455000,\"type\":\"DIVIDEND\",\"data\":0.28},{\"date\":1406865600,\"open\":43.209999084472656,\"high\":45.470001220703125,\"low\":42.209999084472656,\"close\":45.43000030517578,\"volume\":513919700,\"adjclose\":39.96010208129883},{\"date\":1404187200,\"open\":41.86000061035156,\"high\":45.709999084472656,\"low\":41.04999923706055,\"close\":43.15999984741211,\"volume\":731616500,\"adjclose\":37.96342468261719},{\"date\":1401595200,\"open\":40.95000076293945,\"high\":42.290000915527344,\"low\":39.86000061035156,\"close\":41.70000076293945,\"volume\":555767300,\"adjclose\":36.67920684814453},{\"amount\":0.28,\"date\":1399987800,\"type\":\"DIVIDEND\",\"data\":0.28},{\"date\":1398916800,\"open\":40.2400016784668,\"high\":40.970001220703125,\"low\":38.5099983215332,\"close\":40.939998626708984,\"volume\":574362900,\"adjclose\":35.758445739746094},{\"date\":1396324800,\"open\":41.150001525878906,\"high\":41.65999984741211,\"low\":38.900001525878906,\"close\":40.400001525878906,\"volume\":746112500,\"adjclose\":35.28678894042969},{\"date\":1393650000,\"open\":37.91999816894531,\"high\":41.5,\"low\":37.4900016784668,\"close\":40.9900016784668,\"volume\":778425700,\"adjclose\":35.80213165283203},{\"amount\":0.28,\"date\":1392733800,\"type\":\"DIVIDEND\",\"data\":0.28},{\"date\":1391230800,\"open\":37.7400016784668,\"high\":38.459999084472656,\"low\":35.689998626708984,\"close\":38.310001373291016,\"volume\":705304500,\"adjclose\":33.2122688293457},{\"date\":1388552400,\"open\":37.349998474121094,\"high\":37.88999938964844,\"low\":34.630001068115234,\"close\":37.84000015258789,\"volume\":930226200,\"adjclose\":32.80480194091797},{\"date\":1385874000,\"open\":38.09000015258789,\"high\":38.97999954223633,\"low\":35.529998779296875,\"close\":37.40999984741211,\"volume\":826617700,\"adjclose\":32.43201446533203},{\"amount\":0.28,\"date\":1384871400,\"type\":\"DIVIDEND\",\"data\":0.28},{\"date\":1383278400,\"open\":35.66999816894531,\"high\":38.290000915527344,\"low\":35.38999938964844,\"close\":38.130001068115234,\"volume\":800431600,\"adjclose\":32.80741882324219},{\"date\":1380600000,\"open\":33.349998474121094,\"high\":36.290000915527344,\"low\":32.79999923706055,\"close\":35.40999984741211,\"volume\":965331500,\"adjclose\":30.467090606689453},{\"date\":1378008000,\"open\":31.75,\"high\":33.75,\"low\":30.950000762939453,\"close\":33.279998779296875,\"volume\":1242961500,\"adjclose\":28.634418487548828},{\"amount\":0.23,\"date\":1376400600,\"type\":\"DIVIDEND\",\"data\":0.23},{\"date\":1375329600,\"open\":32.060001373291016,\"high\":35.20000076293945,\"low\":30.84000015258789,\"close\":33.400001525878906,\"volume\":1051265000,\"adjclose\":28.53658103942871},{\"date\":1372651200,\"open\":34.75,\"high\":36.43000030517578,\"low\":31.020000457763672,\"close\":31.84000015258789,\"volume\":1111130600,\"adjclose\":27.2037353515625},{\"date\":1370059200,\"open\":34.91999816894531,\"high\":35.779998779296875,\"low\":32.56999969482422,\"close\":34.540000915527344,\"volume\":945155500,\"adjclose\":29.510587692260742},{\"amount\":0.23,\"date\":1368538200,\"type\":\"DIVIDEND\",\"data\":0.23},{\"date\":1367380800,\"open\":32.93000030517578,\"high\":35.279998779296875,\"low\":32.31999969482422,\"close\":34.900001525878906,\"volume\":1071860000,\"adjclose\":29.610525131225586},{\"date\":1364788800,\"open\":28.639999389648438,\"high\":33.11000061035156,\"low\":28.110000610351562,\"close\":33.099998474121094,\"volume\":1465757200,\"adjclose\":28.083341598510742},{\"date\":1362114000,\"open\":27.719999313354492,\"high\":28.65999984741211,\"low\":27.520000457763672,\"close\":28.610000610351562,\"volume\":844946000,\"adjclose\":24.273847579956055},{\"amount\":0.23,\"date\":1361284200,\"type\":\"DIVIDEND\",\"data\":0.23},{\"date\":1359694800,\"open\":27.670000076293945,\"high\":28.200000762939453,\"low\":27.100000381469727,\"close\":27.799999237060547,\"volume\":780587000,\"adjclose\":23.392934799194336},{\"date\":1357016400,\"open\":27.25,\"high\":28.229999542236328,\"low\":26.280000686645508,\"close\":27.450000762939453,\"volume\":1145054400,\"adjclose\":23.09842300415039},{\"date\":1354338000,\"open\":26.780000686645508,\"high\":27.729999542236328,\"low\":26.260000228881836,\"close\":26.709999084472656,\"volume\":947310900,\"adjclose\":22.475725173950195},{\"amount\":0.23,\"date\":1352817000,\"type\":\"DIVIDEND\",\"data\":0.23},{\"date\":1351742400,\"open\":28.84000015258789,\"high\":30.200000762939453,\"low\":26.34000015258789,\"close\":26.6200008392334,\"volume\":1310516100,\"adjclose\":22.217437744140625},{\"date\":1349064000,\"open\":29.809999465942383,\"high\":30.25,\"low\":27.760000228881836,\"close\":28.540000915527344,\"volume\":1105402300,\"adjclose\":23.819889068603516},{\"date\":1346472000,\"open\":30.450000762939453,\"high\":31.610000610351562,\"low\":29.739999771118164,\"close\":29.760000228881836,\"volume\":893107700,\"adjclose\":24.838119506835938},{\"amount\":0.2,\"date\":1344951000,\"type\":\"DIVIDEND\",\"data\":0.2},{\"date\":1343793600,\"open\":29.59000015258789,\"high\":30.959999084472656,\"low\":28.969999313354492,\"close\":30.81999969482422,\"volume\":671748400,\"adjclose\":25.553525924682617},{\"date\":1341115200,\"open\":30.6200008392334,\"high\":31.049999237060547,\"low\":28.540000915527344,\"close\":29.469999313354492,\"volume\":846604100,\"adjclose\":24.4342098236084},{\"date\":1338523200,\"open\":28.760000228881836,\"high\":31.139999389648438,\"low\":28.31999969482422,\"close\":30.59000015258789,\"volume\":973131400,\"adjclose\":25.362825393676758},{\"amount\":0.2,\"date\":1337088600,\"type\":\"DIVIDEND\",\"data\":0.2},{\"date\":1335844800,\"open\":32.04999923706055,\"high\":32.34000015258789,\"low\":28.639999389648438,\"close\":29.190000534057617,\"volume\":1014372600,\"adjclose\":24.044286727905273},{\"date\":1333252800,\"open\":32.220001220703125,\"high\":32.88999938964844,\"low\":30.229999542236328,\"close\":32.02000045776367,\"volume\":940739700,\"adjclose\":26.37540626525879},{\"date\":1330578000,\"open\":31.93000030517578,\"high\":32.95000076293945,\"low\":31.489999771118164,\"close\":32.2599983215332,\"volume\":942366500,\"adjclose\":26.57309913635254},{\"amount\":0.2,\"date\":1329229800,\"type\":\"DIVIDEND\",\"data\":0.2},{\"date\":1328072400,\"open\":29.790000915527344,\"high\":32,\"low\":29.709999084472656,\"close\":31.739999771118164,\"volume\":984332300,\"adjclose\":25.973772048950195},{\"date\":1325394000,\"open\":26.549999237060547,\"high\":29.950000762939453,\"low\":26.389999389648438,\"close\":29.530000686645508,\"volume\":1354858100,\"adjclose\":24.165260314941406},{\"date\":1322715600,\"open\":25.559999465942383,\"high\":26.190000534057617,\"low\":25.15999984741211,\"close\":25.959999084472656,\"volume\":1007166600,\"adjclose\":21.243825912475586},{\"amount\":0.2,\"date\":1321367400,\"type\":\"DIVIDEND\",\"data\":0.2},{\"date\":1320120000,\"open\":26.190000534057617,\"high\":27.200000762939453,\"low\":24.299999237060547,\"close\":25.579999923706055,\"volume\":1046207400,\"adjclose\":20.776412963867188},{\"date\":1317441600,\"open\":24.719999313354492,\"high\":27.5,\"low\":24.260000228881836,\"close\":26.6299991607666,\"volume\":1218142500,\"adjclose\":21.62923812866211},{\"date\":1314849600,\"open\":26.459999084472656,\"high\":27.5,\"low\":24.600000381469727,\"close\":24.889999389648438,\"volume\":1279920200,\"adjclose\":20.215986251831055},{\"amount\":0.16,\"date\":1313501400,\"type\":\"DIVIDEND\",\"data\":0.16},{\"date\":1312171200,\"open\":27.510000228881836,\"high\":27.690000534057617,\"low\":23.790000915527344,\"close\":26.600000381469727,\"volume\":1719339500,\"adjclose\":21.4693660736084},{\"date\":1309492800,\"open\":25.93000030517578,\"high\":28.149999618530273,\"low\":25.84000015258789,\"close\":27.399999618530273,\"volume\":1259328200,\"adjclose\":22.11505889892578},{\"date\":1306900800,\"open\":24.989999771118164,\"high\":26,\"low\":23.649999618530273,\"close\":26,\"volume\":1297757600,\"adjclose\":20.98509407043457},{\"amount\":0.16,\"date\":1305639000,\"type\":\"DIVIDEND\",\"data\":0.16},{\"date\":1304222400,\"open\":25.940000534057617,\"high\":26.25,\"low\":24.030000686645508,\"close\":25.010000228881836,\"volume\":1364062800,\"adjclose\":20.054588317871094},{\"date\":1301630400,\"open\":25.530000686645508,\"high\":26.8700008392334,\"low\":24.719999313354492,\"close\":25.920000076293945,\"volume\":1313844800,\"adjclose\":20.784290313720703},{\"date\":1298955600,\"open\":26.600000381469727,\"high\":26.780000686645508,\"low\":24.68000030517578,\"close\":25.389999389648438,\"volume\":1310885200,\"adjclose\":20.359304428100586},{\"amount\":0.16,\"date\":1297780200,\"type\":\"DIVIDEND\",\"data\":0.16},{\"date\":1296536400,\"open\":27.799999237060547,\"high\":28.34000015258789,\"low\":26.43000030517578,\"close\":26.579999923706055,\"volume\":1114368500,\"adjclose\":21.188278198242188},{\"date\":1293858000,\"open\":28.049999237060547,\"high\":29.459999084472656,\"low\":27.420000076293945,\"close\":27.729999542236328,\"volume\":1361258700,\"adjclose\":22.105003356933594},{\"date\":1291179600,\"open\":25.56999969482422,\"high\":28.399999618530273,\"low\":25.559999465942383,\"close\":27.90999984741211,\"volume\":1033710000,\"adjclose\":22.24849510192871},{\"amount\":0.16,\"date\":1289917800,\"type\":\"DIVIDEND\",\"data\":0.16},{\"date\":1288584000,\"open\":26.8799991607666,\"high\":28.8700008392334,\"low\":24.93000030517578,\"close\":25.260000228881836,\"volume\":1361176300,\"adjclose\":20.013078689575195},{\"date\":1285905600,\"open\":24.770000457763672,\"high\":27.200000762939453,\"low\":23.780000686645508,\"close\":26.670000076293945,\"volume\":1281432800,\"adjclose\":21.13019371032715},{\"date\":1283313600,\"open\":23.670000076293945,\"high\":25.530000686645508,\"low\":23.540000915527344,\"close\":24.489999771118164,\"volume\":1273139500,\"adjclose\":19.403024673461914}],\"isPending\":false,\"firstTradeDate\":511108200,\"id\":\"1mo12831228001598742000\",\"timeZone\":{\"gmtOffset\":-14400},\"eventsData\":[{\"amount\":0.51,\"date\":1597843800,\"type\":\"DIVIDEND\",\"data\":0.51},{\"amount\":0.51,\"date\":1589981400,\"type\":\"DIVIDEND\",\"data\":0.51},{\"amount\":0.51,\"date\":1582122600,\"type\":\"DIVIDEND\",\"data\":0.51},{\"amount\":0.51,\"date\":1574260200,\"type\":\"DIVIDEND\",\"data\":0.51},{\"amount\":0.46,\"date\":1565789400,\"type\":\"DIVIDEND\",\"data\":0.46},{\"amount\":0.46,\"date\":1557927000,\"type\":\"DIVIDEND\",\"data\":0.46},{\"amount\":0.46,\"date\":1550673000,\"type\":\"DIVIDEND\",\"data\":0.46},{\"amount\":0.46,\"date\":1542205800,\"type\":\"DIVIDEND\",\"data\":0.46},{\"amount\":0.42,\"date\":1534339800,\"type\":\"DIVIDEND\",\"data\":0.42},{\"amount\":0.42,\"date\":1526477400,\"type\":\"DIVIDEND\",\"data\":0.42},{\"amount\":0.42,\"date\":1518618600,\"type\":\"DIVIDEND\",\"data\":0.42},{\"amount\":0.42,\"date\":1510756200,\"type\":\"DIVIDEND\",\"data\":0.42},{\"amount\":0.39,\"date\":1502803800,\"type\":\"DIVIDEND\",\"data\":0.39},{\"amount\":0.39,\"date\":1494941400,\"type\":\"DIVIDEND\",\"data\":0.39},{\"amount\":0.39,\"date\":1487082600,\"type\":\"DIVIDEND\",\"data\":0.39},{\"amount\":0.39,\"date\":1479220200,\"type\":\"DIVIDEND\",\"data\":0.39},{\"amount\":0.36,\"date\":1471354200,\"type\":\"DIVIDEND\",\"data\":0.36},{\"amount\":0.36,\"date\":1463491800,\"type\":\"DIVIDEND\",\"data\":0.36},{\"amount\":0.36,\"date\":1455633000,\"type\":\"DIVIDEND\",\"data\":0.36},{\"amount\":0.36,\"date\":1447770600,\"type\":\"DIVIDEND\",\"data\":0.36},{\"amount\":0.31,\"date\":1439904600,\"type\":\"DIVIDEND\",\"data\":0.31},{\"amount\":0.31,\"date\":1432042200,\"type\":\"DIVIDEND\",\"data\":0.31},{\"amount\":0.31,\"date\":1424183400,\"type\":\"DIVIDEND\",\"data\":0.31},{\"amount\":0.31,\"date\":1416321000,\"type\":\"DIVIDEND\",\"data\":0.31},{\"amount\":0.28,\"date\":1408455000,\"type\":\"DIVIDEND\",\"data\":0.28},{\"amount\":0.28,\"date\":1399987800,\"type\":\"DIVIDEND\",\"data\":0.28},{\"amount\":0.28,\"date\":1392733800,\"type\":\"DIVIDEND\",\"data\":0.28},{\"amount\":0.28,\"date\":1384871400,\"type\":\"DIVIDEND\",\"data\":0.28},{\"amount\":0.23,\"date\":1376400600,\"type\":\"DIVIDEND\",\"data\":0.23},{\"amount\":0.23,\"date\":1368538200,\"type\":\"DIVIDEND\",\"data\":0.23},{\"amount\":0.23,\"date\":1361284200,\"type\":\"DIVIDEND\",\"data\":0.23},{\"amount\":0.23,\"date\":1352817000,\"type\":\"DIVIDEND\",\"data\":0.23},{\"amount\":0.2,\"date\":1344951000,\"type\":\"DIVIDEND\",\"data\":0.2},{\"amount\":0.2,\"date\":1337088600,\"type\":\"DIVIDEND\",\"data\":0.2},{\"amount\":0.2,\"date\":1329229800,\"type\":\"DIVIDEND\",\"data\":0.2},{\"amount\":0.2,\"date\":1321367400,\"type\":\"DIVIDEND\",\"data\":0.2},{\"amount\":0.16,\"date\":1313501400,\"type\":\"DIVIDEND\",\"data\":0.16},{\"amount\":0.16,\"date\":1305639000,\"type\":\"DIVIDEND\",\"data\":0.16},{\"amount\":0.16,\"date\":1297780200,\"type\":\"DIVIDEND\",\"data\":0.16},{\"amount\":0.16,\"date\":1289917800,\"type\":\"DIVIDEND\",\"data\":0.16}]}\n"
     ]
    }
   ],
   "source": [
    "import requests\n",
    "\n",
    "url = \"https://apidojo-yahoo-finance-v1.p.rapidapi.com/stock/v2/get-historical-data\"\n",
    "\n",
    "querystring = {\"frequency\":\"1mo\",\"filter\":\"history\",\"period1\":\"1283122800\",\"period2\":\"1598742000\",\"symbol\":\"MSFT\"}\n",
    "\n",
    "headers = {\n",
    "    'x-rapidapi-host': \"apidojo-yahoo-finance-v1.p.rapidapi.com\",\n",
    "    'x-rapidapi-key': \"0d85196943mshb6828091ff3fedap147d34jsnee33a93be78a\"\n",
    "    }\n",
    "\n",
    "response = requests.request(\"GET\", url, headers=headers, params=querystring)\n",
    "\n",
    "print(response.text)\n"
   ]
  },
  {
   "cell_type": "code",
   "execution_count": 10,
   "metadata": {},
   "outputs": [],
   "source": [
    "response_json = json.loads(response.text)"
   ]
  },
  {
   "cell_type": "code",
   "execution_count": 12,
   "metadata": {},
   "outputs": [
    {
     "data": {
      "text/plain": [
       "{'quoteResponse': {'result': [{'language': 'en-US',\n",
       "    'region': 'US',\n",
       "    'quoteType': 'EQUITY',\n",
       "    'quoteSourceName': 'Nasdaq Real Time Price',\n",
       "    'triggerable': True,\n",
       "    'currency': 'USD',\n",
       "    'sharesOutstanding': 8664099840,\n",
       "    'bookValue': 27.956,\n",
       "    'fiftyDayAverage': 25.565428,\n",
       "    'fiftyDayAverageChange': -0.27192688,\n",
       "    'fiftyDayAverageChangePercent': -0.010636508,\n",
       "    'twoHundredDayAverage': 24.2405,\n",
       "    'twoHundredDayAverageChange': 1.0530014,\n",
       "    'twoHundredDayAverageChangePercent': 0.043439757,\n",
       "    'marketCap': 219145420800,\n",
       "    'forwardPE': 11.874883,\n",
       "    'priceToBook': 0.9047611,\n",
       "    'sourceInterval': 15,\n",
       "    'exchangeDataDelayedBy': 0,\n",
       "    'pageViews': {'midTermTrend': 'UP',\n",
       "     'longTermTrend': 'UP',\n",
       "     'shortTermTrend': 'NEUTRAL'},\n",
       "    'tradeable': False,\n",
       "    'components': ['^NQDMXJPLMAUD',\n",
       "     '^NQUSBLM',\n",
       "     '^NQG8000LMCAD',\n",
       "     '^NQG8000LMEUR',\n",
       "     '^NQDXUSMLTCGN',\n",
       "     '^NQG8000LMGBPN',\n",
       "     '^NQUSB8300LMCADN',\n",
       "     '^NQDM8300LMJPY',\n",
       "     '^NQUS500LCGN',\n",
       "     '^NQNA8300LMEURN',\n",
       "     '^NQG8000LMN',\n",
       "     '^NQNA8300LMJPYN',\n",
       "     '^NQG8300LM',\n",
       "     '^NQNALMEURN',\n",
       "     '^NQUSBLMCAD',\n",
       "     '^NQG8300LMAUDN',\n",
       "     '^NQDM8000LMCADN',\n",
       "     '^NQDM8300LMCAD',\n",
       "     '^NQDMXKRJPYN',\n",
       "     '^NQDMXKRLMAUDN',\n",
       "     '^NQDMXJPLMAUDN',\n",
       "     '^NQDMXKRLMAUD',\n",
       "     '^NQDM8000LMAUD',\n",
       "     '^NQUSBLMJPY',\n",
       "     '^NQUSB8000LMCADN',\n",
       "     '^NQG8000LMJPY',\n",
       "     '^NQG8300LMAUD',\n",
       "     '^NQGXGBLMN',\n",
       "     '^NQDMXKRLCJPY',\n",
       "     '^NQDXUSLCEUR',\n",
       "     '^NQUSB8000LMN',\n",
       "     '^NQDXUSLCG',\n",
       "     '^NQSSBAN',\n",
       "     '^NQNA8000LMN',\n",
       "     '^NQNA8000LMCADN',\n",
       "     '^NQDMXKRAUD',\n",
       "     '^NQNA8000LMJPY',\n",
       "     '^NQDMXKRLMGBPN',\n",
       "     '^NQGXGBLMGBPN',\n",
       "     '^NQG8300LMGBP',\n",
       "     '^NQGXJPLMJPYN',\n",
       "     '^NQNALMCADN',\n",
       "     '^NQUSBLMEUR',\n",
       "     '^NQNALMJPY',\n",
       "     '^NQGXGBLMJPY',\n",
       "     '^NQUSB8300LMGBP',\n",
       "     '^NQGXJPLMJPY',\n",
       "     '^NQDM8300LMCADN',\n",
       "     '^NQG8300LMGBPN',\n",
       "     '^NQDMXKR',\n",
       "     '^NQDMXGBLMCADN',\n",
       "     '^NQDMXKRLCN',\n",
       "     '^NQGXGBLMEURN',\n",
       "     '^NQSSBA',\n",
       "     '^NQGXJPLMCAD',\n",
       "     '^NQUSB8300LMEURN',\n",
       "     '^NQGXJPLMEUR',\n",
       "     '^DWARJFMU',\n",
       "     '^NQDMXJPLMGBPN',\n",
       "     '^NQDMXJPLMN',\n",
       "     '^NQDMXKRLCJPYN',\n",
       "     '^NQDMXKRLMCADN',\n",
       "     '^NQDMXKRLCEUR',\n",
       "     '^NQDXUSLC',\n",
       "     '^NQGXGBLMJPYN',\n",
       "     '^NQUSBLMEURN',\n",
       "     '^NQDMXKRJPY',\n",
       "     '^NQDMXKRLCCAD',\n",
       "     '^NQDMXKRLCEURN',\n",
       "     '^NQNA8000LMAUD',\n",
       "     '^NQUSMLTCG',\n",
       "     '^NQGXJPLMGBPN',\n",
       "     '^NQDM8000LMEURN',\n",
       "     '^NQNALM',\n",
       "     '^NQUS500LC',\n",
       "     '^NQDMXGBLMJPY',\n",
       "     '^NQFFUSGN',\n",
       "     '^NQNALMAUD',\n",
       "     '^NQNA8300LMEUR',\n",
       "     '^NQDXUSLCN',\n",
       "     '^NQUSB8300LMAUD',\n",
       "     '^NQUSB8000LMEURN',\n",
       "     '^NQNA8300LMCAD',\n",
       "     '^NQGXGBLMAUD',\n",
       "     '^NQDM8000LM',\n",
       "     '^NQUSB8000LMGBP',\n",
       "     '^NQUSBLMN',\n",
       "     '^NQDMXJPLMGBP',\n",
       "     '^NQDM8000LMN',\n",
       "     '^NQDMXKRLMEUR',\n",
       "     '^NQUSB8000LMJPYN',\n",
       "     '^NQNALMAUDN',\n",
       "     '^NQNA8000LM',\n",
       "     '^NQDM8000LMJPYN',\n",
       "     '^NQNA8300LMGBPN',\n",
       "     '^NQDMXKRLMCAD',\n",
       "     '^NQDMXGBLM',\n",
       "     '^NQDM8300LMEUR',\n",
       "     '^NQNA8300LMJPY',\n",
       "     '^NQDM8300LMEURN',\n",
       "     '^NQDMXGBLMJPYN',\n",
       "     '^NQNA8000LMAUDN',\n",
       "     '^NQDM8000LMJPY',\n",
       "     '^NQDMXKRLMJPY',\n",
       "     '^NQUSBLMJPYN',\n",
       "     '^NQUSB8000LMAUD',\n",
       "     '^NQUSB8300LMJPYN',\n",
       "     '^NQDM8300LMJPYN',\n",
       "     '^NQDMXGBLMCAD',\n",
       "     '^NQUSLG',\n",
       "     '^NQDMXGBLMEURN',\n",
       "     '^NQDMXKRGBPN',\n",
       "     '^NQBUY',\n",
       "     '^NQDMXGBLMEUR',\n",
       "     '^NQDMXKRAUDN',\n",
       "     '^NQDMXKRLMJPYN',\n",
       "     '^NQUSBLMCADN',\n",
       "     '^NQNA8000LMGBPN',\n",
       "     '^NQDMXGBLMN',\n",
       "     '^NQDM8300LMGBP',\n",
       "     '^NQG8300LMEURN',\n",
       "     '^NQNALMGBPN',\n",
       "     '^NQGXGBLMCADN',\n",
       "     '^NQDMXKRLCCADN',\n",
       "     '^NQG8300LMEUR',\n",
       "     '^NQGXJPLMCADN',\n",
       "     '^NQXAUB',\n",
       "     '^NQG8300LMCAD',\n",
       "     '^NQUSB8300LMN',\n",
       "     '^NQDM8000LMCAD',\n",
       "     '^NQDM8000LMEUR',\n",
       "     '^NQGXJPLM',\n",
       "     '^NQNA8300LMAUDN',\n",
       "     '^NQUSBLMGBP',\n",
       "     '^NQNALMN',\n",
       "     '^NQUSLGN',\n",
       "     '^NQXAUBAUD',\n",
       "     '^NQG8300LMJPYN',\n",
       "     '^NQG8000LMGBP',\n",
       "     '^NQXAUBAUDN',\n",
       "     '^NQG8000LMJPYN',\n",
       "     '^NQGXJPLMAUDN',\n",
       "     '^NQDMXKRLCGBP',\n",
       "     '^NQDMXKRLM',\n",
       "     '^NQUSMLTCGN',\n",
       "     '^NQDMXKRLC',\n",
       "     '^NQNALMGBP',\n",
       "     '^NQNA8000LMGBP',\n",
       "     '^NQDMXJPLMJPYN',\n",
       "     '^NQGXGBLM',\n",
       "     '^NQDMXKRN',\n",
       "     '^NQG8300LMJPY',\n",
       "     '^NQDMXJPLMEURN',\n",
       "     '^NQDXUSMLTCG',\n",
       "     '^NQDMXJPLM',\n",
       "     '^NQDMXKREUR',\n",
       "     '^NQUSB8300LM',\n",
       "     '^NQGXJPLMGBP',\n",
       "     '^NQDMXKRLMEURN',\n",
       "     '^NQUSB8300LMJPY',\n",
       "     '^NQUSBLMAUD',\n",
       "     '^NQGXGBLMGBP',\n",
       "     '^NQDMXKRCAD',\n",
       "     '^NQNA8300LMN',\n",
       "     '^NQDXUSLCEURN',\n",
       "     '^NQG8000LMEURN',\n",
       "     '^NQUSB8300LMCAD',\n",
       "     '^NQDMXKRLCAUD',\n",
       "     '^NQDM8300LMN',\n",
       "     '^NQDXUSMEGAN',\n",
       "     '^NQNA8000LMCAD',\n",
       "     '^NQNALMCAD',\n",
       "     '^NQUSB8300LMEUR',\n",
       "     '^NQUSB8000LMEUR',\n",
       "     '^NQG8300LMCADN',\n",
       "     '^NQNA8000LMEUR',\n",
       "     '^NQG8000LM',\n",
       "     '^NQUSB8000LMCAD',\n",
       "     '^NQUSB8000LMGBPN',\n",
       "     '^NQGXJPLMEURN',\n",
       "     '^NQDM8300LMAUDN',\n",
       "     '^NQDM8000LMGBPN',\n",
       "     '^NQDXUSLCGBP',\n",
       "     '^NQNA8300LM',\n",
       "     '^NQNA8300LMCADN',\n",
       "     '^NQGXJPLMN',\n",
       "     '^NQNALMEUR',\n",
       "     '^NQFFUSG',\n",
       "     '^NQNA8300LMAUD',\n",
       "     '^NQGXGBLMEUR',\n",
       "     '^NQDMXKRGBP',\n",
       "     '^NQDMXGBLMGBPN',\n",
       "     '^NQG8000LMAUDN',\n",
       "     '^NQDMXKRCADN',\n",
       "     '^NQGXGBLMCAD',\n",
       "     '^NQDMXGBLMGBP',\n",
       "     '^NQDMXKRLCAUDN',\n",
       "     '^NQDXUSLCGBPN',\n",
       "     '^NQUSB8300LMGBPN',\n",
       "     '^NQUSB8000LMJPY',\n",
       "     '^NQUSBLMGBPN',\n",
       "     '^NQDMXKRLMN',\n",
       "     '^NQGXJPLMAUD',\n",
       "     '^NQDMXGBLMAUDN',\n",
       "     '^NQDMXJPLMJPY',\n",
       "     '^NQDMXKRLCGBPN',\n",
       "     '^NQDM8300LMGBPN',\n",
       "     '^NQDXUSLCGN',\n",
       "     '^NQDM8300LMAUD',\n",
       "     '^NQDM8000LMAUDN',\n",
       "     '^NQNA8000LMJPYN',\n",
       "     '^NQUS500LCG',\n",
       "     '^NQDMXKREURN',\n",
       "     '^NQNALMJPYN',\n",
       "     '^NQUSB8300LMAUDN',\n",
       "     '^NQXAUBN',\n",
       "     '^NQG8300LMN',\n",
       "     '^NQDMXJPLMCADN',\n",
       "     '^NQDVRIS',\n",
       "     '^NQUSB8000LM',\n",
       "     '^NQNA8000LMEURN',\n",
       "     '^NQUSB8000LMAUDN',\n",
       "     '^NQDM8300LM',\n",
       "     '^NQDMXGBLMAUD',\n",
       "     '^NQNA8300LMGBP',\n",
       "     '^NQUSBLMAUDN',\n",
       "     '^NQDM8000LMGBP',\n",
       "     '^NQDMXJPLMCAD',\n",
       "     '^NQDMXJPLMEUR',\n",
       "     '^NQDXUSMEGA',\n",
       "     '^NQG8000LMCADN',\n",
       "     '^NQDMXKRLMGBP',\n",
       "     '^NQGXGBLMAUDN',\n",
       "     '^NQUS500LCN',\n",
       "     '^NQG8000LMAUD'],\n",
       "    'floatShares': 8641224550,\n",
       "    'shortRatio': 1.4,\n",
       "    'preMarketChange': 0.08990097,\n",
       "    'preMarketChangePercent': 0.3576013,\n",
       "    'preMarketTime': 1599830949,\n",
       "    'targetPriceHigh': 38.0,\n",
       "    'targetPriceLow': 23.0,\n",
       "    'targetPriceMean': 28.61,\n",
       "    'targetPriceMedian': 28.0,\n",
       "    'preMarketPrice': 25.2299,\n",
       "    'heldPercentInsiders': 0.102,\n",
       "    'heldPercentInstitutions': 73.244,\n",
       "    'regularMarketChange': 0.15350151,\n",
       "    'regularMarketChangePercent': 0.61058676,\n",
       "    'regularMarketTime': 1599847863,\n",
       "    'regularMarketPrice': 25.2935,\n",
       "    'regularMarketDayHigh': 25.5752,\n",
       "    'regularMarketDayRange': '25.09 - 25.5752',\n",
       "    'regularMarketDayLow': 25.09,\n",
       "    'regularMarketVolume': 29869995,\n",
       "    'sharesShort': 76724798,\n",
       "    'sharesShortPrevMonth': 81980779,\n",
       "    'shortPercentFloat': 1.0,\n",
       "    'regularMarketPreviousClose': 25.14,\n",
       "    'bid': 25.28,\n",
       "    'ask': 25.29,\n",
       "    'bidSize': 30,\n",
       "    'askSize': 215,\n",
       "    'fullExchangeName': 'NYSE',\n",
       "    'regularMarketOpen': 25.22,\n",
       "    'averageDailyVolume3Month': 64578082,\n",
       "    'averageDailyVolume10Day': 67802785,\n",
       "    'beta': 1.54738,\n",
       "    'fiftyTwoWeekLowChange': 7.3435,\n",
       "    'fiftyTwoWeekLowChangePercent': 0.40910864,\n",
       "    'fiftyTwoWeekRange': '17.95 - 35.72',\n",
       "    'fiftyTwoWeekHighChange': -10.4265,\n",
       "    'fiftyTwoWeekHighChangePercent': -0.2918953,\n",
       "    'fiftyTwoWeekLow': 17.95,\n",
       "    'fiftyTwoWeekHigh': 35.72,\n",
       "    'dividendDate': 1600992000,\n",
       "    'exDividendDate': 1599091200,\n",
       "    'earningsTimestamp': 1602657900,\n",
       "    'earningsTimestampStart': 1602657900,\n",
       "    'earningsTimestampEnd': 1602657900,\n",
       "    'trailingAnnualDividendRate': 0.72,\n",
       "    'trailingPE': 12.17204,\n",
       "    'pegRatio': 10.2,\n",
       "    'dividendsPerShare': 0.72,\n",
       "    'dividendRate': 0.72,\n",
       "    'trailingAnnualDividendYield': 0.02863962,\n",
       "    'dividendYield': 2.86,\n",
       "    'revenue': 76578996000.0,\n",
       "    'priceToSales': 2.861691,\n",
       "    'epsTrailingTwelveMonths': 2.078,\n",
       "    'epsForward': 2.13,\n",
       "    'epsCurrentYear': 1.58,\n",
       "    'epsNextQuarter': 0.39,\n",
       "    'priceEpsCurrentYear': 16.008545,\n",
       "    'priceEpsNextQuarter': 64.85513,\n",
       "    'priceHint': 2,\n",
       "    'firstTradeDateMilliseconds': 99153000000,\n",
       "    'totalCash': 909362990000.0,\n",
       "    'exchange': 'NYQ',\n",
       "    'shortName': 'Bank of America Corporation',\n",
       "    'longName': 'Bank of America Corporation',\n",
       "    'messageBoardId': 'finmb_19049',\n",
       "    'exchangeTimezoneName': 'America/New_York',\n",
       "    'exchangeTimezoneShortName': 'EDT',\n",
       "    'gmtOffSetMilliseconds': -14400000,\n",
       "    'market': 'us_market',\n",
       "    'esgPopulated': False,\n",
       "    'marketState': 'REGULAR',\n",
       "    'symbol': 'BAC'},\n",
       "   {'language': 'en-US',\n",
       "    'region': 'US',\n",
       "    'quoteType': 'FUTURE',\n",
       "    'triggerable': False,\n",
       "    'contractSymbol': False,\n",
       "    'headSymbolAsString': 'KC=F',\n",
       "    'currency': 'USX',\n",
       "    'fiftyDayAverage': 120.12857,\n",
       "    'fiftyDayAverageChange': 11.271423,\n",
       "    'fiftyDayAverageChangePercent': 0.093828,\n",
       "    'twoHundredDayAverage': 109.84464,\n",
       "    'twoHundredDayAverageChange': 21.555351,\n",
       "    'twoHundredDayAverageChangePercent': 0.19623488,\n",
       "    'sourceInterval': 30,\n",
       "    'exchangeDataDelayedBy': 30,\n",
       "    'tradeable': False,\n",
       "    'regularMarketChange': -0.30000305,\n",
       "    'regularMarketChangePercent': -0.22779274,\n",
       "    'regularMarketTime': 1599845399,\n",
       "    'regularMarketPrice': 131.4,\n",
       "    'regularMarketDayHigh': 132.55,\n",
       "    'regularMarketDayRange': '129.3 - 132.55',\n",
       "    'regularMarketDayLow': 129.3,\n",
       "    'regularMarketVolume': 20336,\n",
       "    'regularMarketPreviousClose': 131.7,\n",
       "    'bid': 131.4,\n",
       "    'ask': 131.45,\n",
       "    'bidSize': 0,\n",
       "    'askSize': 0,\n",
       "    'fullExchangeName': 'NYBOT',\n",
       "    'regularMarketOpen': 130.5,\n",
       "    'averageDailyVolume3Month': 10154,\n",
       "    'averageDailyVolume10Day': 23,\n",
       "    'fiftyTwoWeekLowChange': 39.199997,\n",
       "    'fiftyTwoWeekLowChangePercent': 0.42516267,\n",
       "    'fiftyTwoWeekRange': '92.2 - 138.4',\n",
       "    'fiftyTwoWeekHighChange': -7.0,\n",
       "    'fiftyTwoWeekHighChangePercent': -0.050578035,\n",
       "    'fiftyTwoWeekLow': 92.2,\n",
       "    'fiftyTwoWeekHigh': 138.4,\n",
       "    'openInterest': 115030,\n",
       "    'expireDate': 1608249600,\n",
       "    'expireIsoDate': '2020-12-18T00:00:00Z',\n",
       "    'priceHint': 2,\n",
       "    'firstTradeDateMilliseconds': 945666000000,\n",
       "    'underlyingSymbol': 'KCZ20.NYB',\n",
       "    'underlyingExchangeSymbol': 'KCZ20.NYB',\n",
       "    'exchange': 'NYB',\n",
       "    'shortName': 'Coffee Dec 20',\n",
       "    'exchangeTimezoneName': 'America/New_York',\n",
       "    'exchangeTimezoneShortName': 'EDT',\n",
       "    'gmtOffSetMilliseconds': -14400000,\n",
       "    'market': 'us24_market',\n",
       "    'esgPopulated': False,\n",
       "    'marketState': 'REGULAR',\n",
       "    'symbol': 'KC=F'},\n",
       "   {'language': 'en-US',\n",
       "    'region': 'US',\n",
       "    'quoteType': 'EQUITY',\n",
       "    'quoteSourceName': 'Delayed Quote',\n",
       "    'triggerable': False,\n",
       "    'currency': 'KRW',\n",
       "    'sharesOutstanding': 23407800,\n",
       "    'fiftyDayAverage': 13000.0,\n",
       "    'fiftyDayAverageChange': 50.0,\n",
       "    'fiftyDayAverageChangePercent': 0.0038461538,\n",
       "    'twoHundredDayAverage': 12308.042,\n",
       "    'twoHundredDayAverageChange': 741.958,\n",
       "    'twoHundredDayAverageChangePercent': 0.060282376,\n",
       "    'marketCap': 305471782912,\n",
       "    'sourceInterval': 20,\n",
       "    'exchangeDataDelayedBy': 20,\n",
       "    'tradeable': False,\n",
       "    'floatShares': 13772937,\n",
       "    'ebitda': 4611876352,\n",
       "    'heldPercentInsiders': 21.069,\n",
       "    'heldPercentInstitutions': 3.995,\n",
       "    'regularMarketChange': 250.0,\n",
       "    'regularMarketChangePercent': 1.953125,\n",
       "    'regularMarketTime': 1599805807,\n",
       "    'regularMarketPrice': 13050.0,\n",
       "    'regularMarketDayHigh': 13100.0,\n",
       "    'regularMarketDayRange': '12650.0 - 13100.0',\n",
       "    'regularMarketDayLow': 12650.0,\n",
       "    'regularMarketVolume': 230707,\n",
       "    'regularMarketPreviousClose': 12800.0,\n",
       "    'bid': 13000.0,\n",
       "    'ask': 13050.0,\n",
       "    'bidSize': 0,\n",
       "    'askSize': 0,\n",
       "    'fullExchangeName': 'KSE',\n",
       "    'regularMarketOpen': 12800.0,\n",
       "    'averageDailyVolume3Month': 837436,\n",
       "    'averageDailyVolume10Day': 1309355,\n",
       "    'beta': 1.790971,\n",
       "    'fiftyTwoWeekLowChange': 6690.0,\n",
       "    'fiftyTwoWeekLowChangePercent': 1.0518868,\n",
       "    'fiftyTwoWeekRange': '6360.0 - 19900.0',\n",
       "    'fiftyTwoWeekHighChange': -6850.0,\n",
       "    'fiftyTwoWeekHighChangePercent': -0.34422112,\n",
       "    'fiftyTwoWeekLow': 6360.0,\n",
       "    'fiftyTwoWeekHigh': 19900.0,\n",
       "    'exDividendDate': 1388102400,\n",
       "    'dividendsPerShare': 0.0,\n",
       "    'revenue': 78442095000.0,\n",
       "    'priceToSales': 3.8942327,\n",
       "    'priceHint': 2,\n",
       "    'firstTradeDateMilliseconds': 946944000000,\n",
       "    'totalCash': 17290252300.0,\n",
       "    'exchange': 'KSC',\n",
       "    'shortName': 'DongsungPharm',\n",
       "    'longName': 'Dong Sung Bio Pharm.Co.,Ltd.',\n",
       "    'messageBoardId': 'finmb_20342673',\n",
       "    'exchangeTimezoneName': 'Asia/Seoul',\n",
       "    'exchangeTimezoneShortName': 'KST',\n",
       "    'gmtOffSetMilliseconds': 32400000,\n",
       "    'market': 'kr_market',\n",
       "    'esgPopulated': False,\n",
       "    'marketState': 'CLOSED',\n",
       "    'symbol': '002210.KS'},\n",
       "   {'language': 'en-US',\n",
       "    'region': 'US',\n",
       "    'quoteType': 'ETF',\n",
       "    'quoteSourceName': 'Nasdaq Real Time Price',\n",
       "    'triggerable': True,\n",
       "    'currency': 'USD',\n",
       "    'sharesOutstanding': 281049984,\n",
       "    'fiftyDayAverage': 153.60286,\n",
       "    'fiftyDayAverageChange': -5.2328644,\n",
       "    'fiftyDayAverageChangePercent': -0.034067493,\n",
       "    'twoHundredDayAverage': 137.32207,\n",
       "    'twoHundredDayAverageChange': 11.047928,\n",
       "    'twoHundredDayAverageChangePercent': 0.08045267,\n",
       "    'netExpenseRatio': 0.19,\n",
       "    'marketCap': 41699385344,\n",
       "    'sourceInterval': 15,\n",
       "    'exchangeDataDelayedBy': 0,\n",
       "    'pageViews': {'midTermTrend': 'UP',\n",
       "     'longTermTrend': 'UP',\n",
       "     'shortTermTrend': 'UP'},\n",
       "    'tradeable': False,\n",
       "    'components': ['^ETFCOMP', '^ETFCOMPNTR'],\n",
       "    'closedNavPrice': 143.27,\n",
       "    'preMarketChange': 0.699997,\n",
       "    'preMarketChangePercent': 0.466043,\n",
       "    'preMarketTime': 1599830994,\n",
       "    'preMarketPrice': 150.9,\n",
       "    'regularMarketChange': -1.7799988,\n",
       "    'regularMarketChangePercent': -1.1854805,\n",
       "    'regularMarketTime': 1599847861,\n",
       "    'regularMarketPrice': 148.37,\n",
       "    'regularMarketDayHigh': 151.05,\n",
       "    'regularMarketDayRange': '147.675 - 151.05',\n",
       "    'regularMarketDayLow': 147.675,\n",
       "    'regularMarketVolume': 11436474,\n",
       "    'regularMarketPreviousClose': 150.15,\n",
       "    'bid': 148.08,\n",
       "    'ask': 148.18,\n",
       "    'bidSize': 10,\n",
       "    'askSize': 9,\n",
       "    'fullExchangeName': 'NYSEArca',\n",
       "    'regularMarketOpen': 150.92,\n",
       "    'averageDailyVolume3Month': 26076942,\n",
       "    'averageDailyVolume10Day': 23535742,\n",
       "    'beta': 1.27,\n",
       "    'fiftyTwoWeekLowChange': 52.679993,\n",
       "    'fiftyTwoWeekLowChangePercent': 0.55052763,\n",
       "    'fiftyTwoWeekRange': '95.69 - 170.56',\n",
       "    'fiftyTwoWeekHighChange': -22.190002,\n",
       "    'fiftyTwoWeekHighChangePercent': -0.13010086,\n",
       "    'fiftyTwoWeekLow': 95.69,\n",
       "    'fiftyTwoWeekHigh': 170.56,\n",
       "    'inceptionDate': 958953600,\n",
       "    'dividendYield': 1.41,\n",
       "    'yield': 1.41,\n",
       "    'ytdReturn': -12.99,\n",
       "    'netAssets': 36683846000.0,\n",
       "    'priceHint': 2,\n",
       "    'firstTradeDateMilliseconds': 959347800000,\n",
       "    'exchange': 'PCX',\n",
       "    'shortName': 'iShares Russell 2000 ETF',\n",
       "    'longName': 'iShares Russell 2000 ETF',\n",
       "    'messageBoardId': 'finmb_8797658',\n",
       "    'exchangeTimezoneName': 'America/New_York',\n",
       "    'exchangeTimezoneShortName': 'EDT',\n",
       "    'gmtOffSetMilliseconds': -14400000,\n",
       "    'market': 'us_market',\n",
       "    'esgPopulated': False,\n",
       "    'marketState': 'REGULAR',\n",
       "    'symbol': 'IWM'},\n",
       "   {'language': 'en-US',\n",
       "    'region': 'US',\n",
       "    'quoteType': 'MUTUALFUND',\n",
       "    'quoteSourceName': 'Delayed Quote',\n",
       "    'triggerable': False,\n",
       "    'currency': 'USD',\n",
       "    'fiftyDayAverage': 22.224285,\n",
       "    'fiftyDayAverageChange': -0.1442852,\n",
       "    'fiftyDayAverageChangePercent': -0.0064922315,\n",
       "    'twoHundredDayAverage': 21.0095,\n",
       "    'twoHundredDayAverageChange': 1.0704994,\n",
       "    'twoHundredDayAverageChangePercent': 0.050953113,\n",
       "    'netExpenseRatio': 0.58,\n",
       "    'sourceInterval': 15,\n",
       "    'exchangeDataDelayedBy': 0,\n",
       "    'morningstarRating': 3.0,\n",
       "    'morningstarRiskRating': 1,\n",
       "    'tradeable': False,\n",
       "    'holdingsTurnover': 67.0,\n",
       "    'regularMarketChange': -0.21,\n",
       "    'regularMarketChangePercent': -0.9421266,\n",
       "    'regularMarketTime': 1599825965,\n",
       "    'regularMarketPrice': 22.08,\n",
       "    'regularMarketPreviousClose': 22.289999,\n",
       "    'fullExchangeName': 'Nasdaq',\n",
       "    'averageDailyVolume3Month': 0,\n",
       "    'averageDailyVolume10Day': 0,\n",
       "    'beta': 1.03,\n",
       "    'fiftyTwoWeekLowChange': 4.789999,\n",
       "    'fiftyTwoWeekLowChangePercent': 0.2770387,\n",
       "    'fiftyTwoWeekRange': '17.29 - 23.82',\n",
       "    'fiftyTwoWeekHighChange': -1.7399998,\n",
       "    'fiftyTwoWeekHighChangePercent': -0.07304785,\n",
       "    'fiftyTwoWeekLow': 17.29,\n",
       "    'fiftyTwoWeekHigh': 23.82,\n",
       "    'inceptionDate': 123465600,\n",
       "    'dividendsPerShare': 0.165,\n",
       "    'dividendRate': 0.165,\n",
       "    'dividendYield': 3.46,\n",
       "    'yield': 3.46,\n",
       "    'ytdReturn': -8.06,\n",
       "    'netAssets': 104511455000.0,\n",
       "    'lastCapGain': 0,\n",
       "    'priceHint': 2,\n",
       "    'firstTradeDateMilliseconds': 505060200000,\n",
       "    'exchange': 'NAS',\n",
       "    'shortName': 'The Income Fund of America, Cla',\n",
       "    'longName': 'American Funds The Income Fund of America Class A',\n",
       "    'messageBoardId': 'finmb_28115661',\n",
       "    'exchangeTimezoneName': 'America/New_York',\n",
       "    'exchangeTimezoneShortName': 'EDT',\n",
       "    'gmtOffSetMilliseconds': -14400000,\n",
       "    'market': 'us_market',\n",
       "    'esgPopulated': False,\n",
       "    'fundCategory': 'Allocation--70% to 85% Equity',\n",
       "    'marketState': 'REGULAR',\n",
       "    'symbol': 'AMECX'}],\n",
       "  'error': None}}"
      ]
     },
     "execution_count": 12,
     "metadata": {},
     "output_type": "execute_result"
    }
   ],
   "source": [
    "response_json"
   ]
  },
  {
   "cell_type": "code",
   "execution_count": 11,
   "metadata": {
    "scrolled": true
   },
   "outputs": [
    {
     "ename": "KeyError",
     "evalue": "'prices'",
     "output_type": "error",
     "traceback": [
      "\u001b[1;31m---------------------------------------------------------------------------\u001b[0m",
      "\u001b[1;31mKeyError\u001b[0m                                  Traceback (most recent call last)",
      "\u001b[1;32m<ipython-input-11-14f7004176f3>\u001b[0m in \u001b[0;36m<module>\u001b[1;34m\u001b[0m\n\u001b[1;32m----> 1\u001b[1;33m \u001b[0mresponse_json\u001b[0m\u001b[1;33m[\u001b[0m\u001b[1;34m'prices'\u001b[0m\u001b[1;33m]\u001b[0m\u001b[1;33m\u001b[0m\u001b[1;33m\u001b[0m\u001b[0m\n\u001b[0m",
      "\u001b[1;31mKeyError\u001b[0m: 'prices'"
     ]
    }
   ],
   "source": [
    "response_json['prices']"
   ]
  },
  {
   "cell_type": "code",
   "execution_count": 19,
   "metadata": {},
   "outputs": [
    {
     "data": {
      "text/plain": [
       "228.3579864501953"
      ]
     },
     "execution_count": 19,
     "metadata": {},
     "output_type": "execute_result"
    }
   ],
   "source": [
    "response_json['prices'][1]['adjclose']"
   ]
  },
  {
   "cell_type": "markdown",
   "metadata": {},
   "source": [
    "# Only run from this onward!"
   ]
  },
  {
   "cell_type": "code",
   "execution_count": 58,
   "metadata": {},
   "outputs": [
    {
     "data": {
      "text/plain": [
       "True"
      ]
     },
     "execution_count": 58,
     "metadata": {},
     "output_type": "execute_result"
    }
   ],
   "source": [
    "date_list_unix = []\n",
    "adj_close_list = []\n",
    "for index in range(len(response_json['prices'])):\n",
    "    if len(response_json['prices'][index]) == 7:\n",
    "        adj_close = response_json['prices'][index]['adjclose']\n",
    "        adj_close_list.append(adj_close)\n",
    "        date = response_json['prices'][index]['date']\n",
    "        date_list_unix.append(date)\n",
    "\n",
    "len(date_list_unix) == len(adj_close_list)"
   ]
  },
  {
   "cell_type": "code",
   "execution_count": 59,
   "metadata": {
    "scrolled": true
   },
   "outputs": [
    {
     "data": {
      "text/html": [
       "<div>\n",
       "<style scoped>\n",
       "    .dataframe tbody tr th:only-of-type {\n",
       "        vertical-align: middle;\n",
       "    }\n",
       "\n",
       "    .dataframe tbody tr th {\n",
       "        vertical-align: top;\n",
       "    }\n",
       "\n",
       "    .dataframe thead th {\n",
       "        text-align: right;\n",
       "    }\n",
       "</style>\n",
       "<table border=\"1\" class=\"dataframe\">\n",
       "  <thead>\n",
       "    <tr style=\"text-align: right;\">\n",
       "      <th></th>\n",
       "      <th>Date</th>\n",
       "      <th>Price</th>\n",
       "    </tr>\n",
       "  </thead>\n",
       "  <tbody>\n",
       "    <tr>\n",
       "      <th>0</th>\n",
       "      <td>1596254400</td>\n",
       "      <td>228.357986</td>\n",
       "    </tr>\n",
       "    <tr>\n",
       "      <th>1</th>\n",
       "      <td>1593576000</td>\n",
       "      <td>204.515610</td>\n",
       "    </tr>\n",
       "    <tr>\n",
       "      <th>2</th>\n",
       "      <td>1590984000</td>\n",
       "      <td>203.019226</td>\n",
       "    </tr>\n",
       "    <tr>\n",
       "      <th>3</th>\n",
       "      <td>1588305600</td>\n",
       "      <td>182.300385</td>\n",
       "    </tr>\n",
       "    <tr>\n",
       "      <th>4</th>\n",
       "      <td>1585713600</td>\n",
       "      <td>178.281311</td>\n",
       "    </tr>\n",
       "    <tr>\n",
       "      <th>...</th>\n",
       "      <td>...</td>\n",
       "      <td>...</td>\n",
       "    </tr>\n",
       "    <tr>\n",
       "      <th>115</th>\n",
       "      <td>1293858000</td>\n",
       "      <td>22.105003</td>\n",
       "    </tr>\n",
       "    <tr>\n",
       "      <th>116</th>\n",
       "      <td>1291179600</td>\n",
       "      <td>22.248495</td>\n",
       "    </tr>\n",
       "    <tr>\n",
       "      <th>117</th>\n",
       "      <td>1288584000</td>\n",
       "      <td>20.013079</td>\n",
       "    </tr>\n",
       "    <tr>\n",
       "      <th>118</th>\n",
       "      <td>1285905600</td>\n",
       "      <td>21.130194</td>\n",
       "    </tr>\n",
       "    <tr>\n",
       "      <th>119</th>\n",
       "      <td>1283313600</td>\n",
       "      <td>19.403025</td>\n",
       "    </tr>\n",
       "  </tbody>\n",
       "</table>\n",
       "<p>120 rows × 2 columns</p>\n",
       "</div>"
      ],
      "text/plain": [
       "           Date       Price\n",
       "0    1596254400  228.357986\n",
       "1    1593576000  204.515610\n",
       "2    1590984000  203.019226\n",
       "3    1588305600  182.300385\n",
       "4    1585713600  178.281311\n",
       "..          ...         ...\n",
       "115  1293858000   22.105003\n",
       "116  1291179600   22.248495\n",
       "117  1288584000   20.013079\n",
       "118  1285905600   21.130194\n",
       "119  1283313600   19.403025\n",
       "\n",
       "[120 rows x 2 columns]"
      ]
     },
     "execution_count": 59,
     "metadata": {},
     "output_type": "execute_result"
    }
   ],
   "source": [
    "test_df = pd.DataFrame({'Date':date_list_unix, 'Price':adj_close_list})\n",
    "test_df"
   ]
  },
  {
   "cell_type": "code",
   "execution_count": 60,
   "metadata": {},
   "outputs": [],
   "source": [
    "from datetime import datetime\n",
    "type(date_list_unix[1])\n",
    "date_list = [datetime.fromtimestamp(unix_date) for unix_date in date_list_unix]"
   ]
  },
  {
   "cell_type": "code",
   "execution_count": 62,
   "metadata": {},
   "outputs": [],
   "source": [
    "date_list_ymd = [item.date() for item in date_list]"
   ]
  },
  {
   "cell_type": "code",
   "execution_count": 64,
   "metadata": {},
   "outputs": [
    {
     "data": {
      "text/html": [
       "<div>\n",
       "<style scoped>\n",
       "    .dataframe tbody tr th:only-of-type {\n",
       "        vertical-align: middle;\n",
       "    }\n",
       "\n",
       "    .dataframe tbody tr th {\n",
       "        vertical-align: top;\n",
       "    }\n",
       "\n",
       "    .dataframe thead th {\n",
       "        text-align: right;\n",
       "    }\n",
       "</style>\n",
       "<table border=\"1\" class=\"dataframe\">\n",
       "  <thead>\n",
       "    <tr style=\"text-align: right;\">\n",
       "      <th></th>\n",
       "      <th>Date</th>\n",
       "      <th>MSFT</th>\n",
       "    </tr>\n",
       "  </thead>\n",
       "  <tbody>\n",
       "    <tr>\n",
       "      <th>0</th>\n",
       "      <td>2020-08-01</td>\n",
       "      <td>228.357986</td>\n",
       "    </tr>\n",
       "    <tr>\n",
       "      <th>1</th>\n",
       "      <td>2020-07-01</td>\n",
       "      <td>204.515610</td>\n",
       "    </tr>\n",
       "    <tr>\n",
       "      <th>2</th>\n",
       "      <td>2020-06-01</td>\n",
       "      <td>203.019226</td>\n",
       "    </tr>\n",
       "    <tr>\n",
       "      <th>3</th>\n",
       "      <td>2020-05-01</td>\n",
       "      <td>182.300385</td>\n",
       "    </tr>\n",
       "    <tr>\n",
       "      <th>4</th>\n",
       "      <td>2020-04-01</td>\n",
       "      <td>178.281311</td>\n",
       "    </tr>\n",
       "    <tr>\n",
       "      <th>...</th>\n",
       "      <td>...</td>\n",
       "      <td>...</td>\n",
       "    </tr>\n",
       "    <tr>\n",
       "      <th>115</th>\n",
       "      <td>2011-01-01</td>\n",
       "      <td>22.105003</td>\n",
       "    </tr>\n",
       "    <tr>\n",
       "      <th>116</th>\n",
       "      <td>2010-12-01</td>\n",
       "      <td>22.248495</td>\n",
       "    </tr>\n",
       "    <tr>\n",
       "      <th>117</th>\n",
       "      <td>2010-11-01</td>\n",
       "      <td>20.013079</td>\n",
       "    </tr>\n",
       "    <tr>\n",
       "      <th>118</th>\n",
       "      <td>2010-10-01</td>\n",
       "      <td>21.130194</td>\n",
       "    </tr>\n",
       "    <tr>\n",
       "      <th>119</th>\n",
       "      <td>2010-09-01</td>\n",
       "      <td>19.403025</td>\n",
       "    </tr>\n",
       "  </tbody>\n",
       "</table>\n",
       "<p>120 rows × 2 columns</p>\n",
       "</div>"
      ],
      "text/plain": [
       "           Date        MSFT\n",
       "0    2020-08-01  228.357986\n",
       "1    2020-07-01  204.515610\n",
       "2    2020-06-01  203.019226\n",
       "3    2020-05-01  182.300385\n",
       "4    2020-04-01  178.281311\n",
       "..          ...         ...\n",
       "115  2011-01-01   22.105003\n",
       "116  2010-12-01   22.248495\n",
       "117  2010-11-01   20.013079\n",
       "118  2010-10-01   21.130194\n",
       "119  2010-09-01   19.403025\n",
       "\n",
       "[120 rows x 2 columns]"
      ]
     },
     "execution_count": 64,
     "metadata": {},
     "output_type": "execute_result"
    }
   ],
   "source": [
    "test_df_2 = pd.DataFrame({'Date':date_list_ymd, 'MSFT':adj_close_list})\n",
    "test_df_2\n",
    "# Looks good!"
   ]
  },
  {
   "cell_type": "code",
   "execution_count": 103,
   "metadata": {},
   "outputs": [],
   "source": [
    "api_key = \"0d85196943mshb6828091ff3fedap147d34jsnee33a93be78a\"\n",
    "security = \"MSFT\"\n",
    "freq = \"1mo\"\n",
    "start = \"2010-30-08\"\n",
    "finish = \"2020-30-08\"\n",
    "\n",
    "class api_data():\n",
    "    def __init__(self, api_key, assets, start, finish, freq):\n",
    "        self.api_key = api_key\n",
    "        self.assets = assets # List of assets, to be looped later\n",
    "        self.start = start\n",
    "        self.finish = finish\n",
    "        self.freq = freq\n",
    "    \n",
    "    def time_to_unix(self, date, pattern='%Y.%m.%d'):\n",
    "        import time\n",
    "        unix = int(time.mktime(time.strptime(date, pattern)))\n",
    "        return unix\n",
    "\n",
    "    def get_api_data(self, api_key, asset, freq, start, finish):\n",
    "        import requests\n",
    "        import json\n",
    "        start = self.time_to_unix(self.start, pattern='%Y.%m.%d')\n",
    "        finish = self.time_to_unix(self.finish, pattern='%Y.%m.%d')\n",
    "        url = \"https://apidojo-yahoo-finance-v1.p.rapidapi.com/stock/v2/get-historical-data\"\n",
    "        querystring = {\"frequency\":self.freq, \"filter\":\"history\", \"period1\":start,\n",
    "                       \"period2\":finish,\"symbol\":asset}\n",
    "        headers = {\n",
    "            'x-rapidapi-host': \"apidojo-yahoo-finance-v1.p.rapidapi.com\",\n",
    "            'x-rapidapi-key': self.api_key\n",
    "            }\n",
    "        response = requests.request(\"GET\", url, headers=headers, params=querystring)\n",
    "        response_json = json.loads(response.text)\n",
    "        return response_json\n",
    "\n",
    "    def make_time_series(self, response_json, asset=None): # NEED TO FILL OUT THE ARGS\n",
    "        from datetime import datetime\n",
    "        import pandas as pd\n",
    "        date_list_unix = []\n",
    "        adj_close_list = []\n",
    "        for index in range(len(response_json['prices'])):\n",
    "            if len(response_json['prices'][index]) == 7:\n",
    "                adj_close = response_json['prices'][index]['adjclose']\n",
    "                adj_close_list.append(adj_close)\n",
    "                date = response_json['prices'][index]['date']\n",
    "                date_list_unix.append(date)\n",
    "        date_list = [datetime.fromtimestamp(unix_date) for unix_date in date_list_unix] # Convert unix to human date\n",
    "        date_list_ymd = [item.date() for item in date_list] # Getting date (years, months and days) only\n",
    "        time_series_df = pd.DataFrame({'Date':date_list_ymd, f'{asset}':adj_close_list})\n",
    "        return time_series_df\n",
    "\n",
    "    def prep_data(self, api_key=None, assets=None, \n",
    "                  start=None, finish=None, freq=None): # Combined function, using the helper function\n",
    "        if api_key is None:\n",
    "            api_key = self.api_key\n",
    "        if assets is None:\n",
    "            assets = self.assets\n",
    "        if start is None:\n",
    "            start = self.start\n",
    "        if finish is None:\n",
    "            finish = self.finish\n",
    "        if freq is None:\n",
    "            freq = self.freq\n",
    "        time_series_dict = {}\n",
    "        time_series_list = []\n",
    "        for asset in self.assets: \n",
    "            # Go through the motions\n",
    "            response_json = self.get_api_data(api_key=self.api_key, asset=asset, freq=self.freq, start=self.start, finish=self.finish)\n",
    "            time_series_df = self.make_time_series(response_json=response_json, asset=asset)\n",
    "            time_series_dict[f\"{asset}_df\"] = time_series_df #For example MSFT_df is a time series dataframe with 2 cols: date and price\n",
    "            # Now we got a time series dictionary with security name key and their time series dataframe as value\n",
    "            time_series_list.append(time_series_dict[f\"{asset}_df\"])\n",
    "        merged_df = pd.concat(time_series_list, axis=1, join='outer')\n",
    "        merged_df = merged_df.reindex(index=merged_df.index[::-1])\n",
    "        merged_df = merged_df.loc[:, ~merged_df.columns.duplicated()]\n",
    "        return merged_df"
   ]
  },
  {
   "cell_type": "code",
   "execution_count": 115,
   "metadata": {},
   "outputs": [],
   "source": [
    "from secret import api_key as api_secret"
   ]
  },
  {
   "cell_type": "code",
   "execution_count": 116,
   "metadata": {},
   "outputs": [
    {
     "data": {
      "text/plain": [
       "'0d85196943mshb6828091ff3fedap147d34jsnee33a93be78a'"
      ]
     },
     "execution_count": 116,
     "metadata": {},
     "output_type": "execute_result"
    }
   ],
   "source": [
    "api_secret"
   ]
  },
  {
   "cell_type": "code",
   "execution_count": 65,
   "metadata": {},
   "outputs": [],
   "source": [
    "test_dict = {}\n",
    "test_keyname = 'MSFT'\n",
    "test_dict[f\"{test_keyname}\"] = test_df\n",
    "test_dict['second_one'] = test_df_2"
   ]
  },
  {
   "cell_type": "code",
   "execution_count": 79,
   "metadata": {},
   "outputs": [
    {
     "ename": "TypeError",
     "evalue": "append() takes exactly one argument (2 given)",
     "output_type": "error",
     "traceback": [
      "\u001b[1;31m---------------------------------------------------------------------------\u001b[0m",
      "\u001b[1;31mTypeError\u001b[0m                                 Traceback (most recent call last)",
      "\u001b[1;32m<ipython-input-79-a29539b86b1b>\u001b[0m in \u001b[0;36m<module>\u001b[1;34m\u001b[0m\n\u001b[0;32m      1\u001b[0m \u001b[0mrandom_df_list_1\u001b[0m \u001b[1;33m=\u001b[0m \u001b[1;33m[\u001b[0m\u001b[0mtest_df\u001b[0m\u001b[1;33m,\u001b[0m \u001b[0mtest_df_2\u001b[0m\u001b[1;33m]\u001b[0m\u001b[1;33m\u001b[0m\u001b[1;33m\u001b[0m\u001b[0m\n\u001b[1;32m----> 2\u001b[1;33m \u001b[0mrandom_df_list\u001b[0m\u001b[1;33m.\u001b[0m\u001b[0mappend\u001b[0m\u001b[1;33m(\u001b[0m\u001b[0mtest_df\u001b[0m\u001b[1;33m,\u001b[0m \u001b[0mtest_df_2\u001b[0m\u001b[1;33m)\u001b[0m\u001b[1;33m\u001b[0m\u001b[1;33m\u001b[0m\u001b[0m\n\u001b[0m",
      "\u001b[1;31mTypeError\u001b[0m: append() takes exactly one argument (2 given)"
     ]
    }
   ],
   "source": [
    "random_df_list_1 = [test_df, test_df_2]\n",
    "random_df_list.append(test_df)"
   ]
  },
  {
   "cell_type": "code",
   "execution_count": null,
   "metadata": {},
   "outputs": [],
   "source": [
    "for key in test_dict:\n",
    "    print(test_dict[key])"
   ]
  },
  {
   "cell_type": "code",
   "execution_count": 104,
   "metadata": {},
   "outputs": [],
   "source": [
    "api_data = api_data(api_key, ['MSFT', 'AAPL', 'ZM'], '2010.08.30', '2020.08.30', '1mo')"
   ]
  },
  {
   "cell_type": "code",
   "execution_count": 106,
   "metadata": {
    "scrolled": true
   },
   "outputs": [],
   "source": [
    "outcome_df = api_data.prep_data()"
   ]
  },
  {
   "cell_type": "code",
   "execution_count": 43,
   "metadata": {},
   "outputs": [
    {
     "data": {
      "text/plain": [
       "1598828400"
      ]
     },
     "execution_count": 43,
     "metadata": {},
     "output_type": "execute_result"
    }
   ],
   "source": [
    "def time_to_unix(date, pattern='%Y.%m.%d'):\n",
    "    import time\n",
    "    unix = int(time.mktime(time.strptime(date, pattern)))\n",
    "    return unix\n",
    "\n",
    "time_to_unix('2020.08.31')"
   ]
  },
  {
   "cell_type": "code",
   "execution_count": 113,
   "metadata": {},
   "outputs": [
    {
     "data": {
      "text/html": [
       "<div>\n",
       "<style scoped>\n",
       "    .dataframe tbody tr th:only-of-type {\n",
       "        vertical-align: middle;\n",
       "    }\n",
       "\n",
       "    .dataframe tbody tr th {\n",
       "        vertical-align: top;\n",
       "    }\n",
       "\n",
       "    .dataframe thead th {\n",
       "        text-align: right;\n",
       "    }\n",
       "</style>\n",
       "<table border=\"1\" class=\"dataframe\">\n",
       "  <thead>\n",
       "    <tr style=\"text-align: right;\">\n",
       "      <th></th>\n",
       "      <th>Date</th>\n",
       "      <th>MSFT</th>\n",
       "      <th>AAPL</th>\n",
       "      <th>ZM</th>\n",
       "    </tr>\n",
       "  </thead>\n",
       "  <tbody>\n",
       "    <tr>\n",
       "      <th>1</th>\n",
       "      <td>2020-07-01</td>\n",
       "      <td>204.51561</td>\n",
       "      <td>106.068756</td>\n",
       "      <td>253.910004</td>\n",
       "    </tr>\n",
       "  </tbody>\n",
       "</table>\n",
       "</div>"
      ],
      "text/plain": [
       "         Date       MSFT        AAPL          ZM\n",
       "1  2020-07-01  204.51561  106.068756  253.910004"
      ]
     },
     "execution_count": 113,
     "metadata": {},
     "output_type": "execute_result"
    }
   ],
   "source": [
    "outcome_df[-2:-1]"
   ]
  },
  {
   "cell_type": "code",
   "execution_count": 120,
   "metadata": {},
   "outputs": [],
   "source": [
    "preprocessing = PrepDataRP()\n",
    "cov_mat_3 = preprocessing.transform(outcome_df)\n",
    "assets = preprocessing.assets_"
   ]
  },
  {
   "cell_type": "code",
   "execution_count": 121,
   "metadata": {},
   "outputs": [
    {
     "name": "stdout",
     "output_type": "stream",
     "text": [
      "Minimised convex risk function value: -1.1185\n"
     ]
    },
    {
     "name": "stderr",
     "output_type": "stream",
     "text": [
      "C:\\Users\\Viet Hung Ha\\Documents\\Python\\Risk Parity\\AssetAllocation.py:37: RuntimeWarning: invalid value encountered in log\n",
      "  risk_func = 0.5*x_T.dot(self.cov_mat).dot(x) - b_T*(np.sum(np.log(x)))\n"
     ]
    },
    {
     "data": {
      "text/html": [
       "<div>\n",
       "<style scoped>\n",
       "    .dataframe tbody tr th:only-of-type {\n",
       "        vertical-align: middle;\n",
       "    }\n",
       "\n",
       "    .dataframe tbody tr th {\n",
       "        vertical-align: top;\n",
       "    }\n",
       "\n",
       "    .dataframe thead th {\n",
       "        text-align: right;\n",
       "    }\n",
       "</style>\n",
       "<table border=\"1\" class=\"dataframe\">\n",
       "  <thead>\n",
       "    <tr style=\"text-align: right;\">\n",
       "      <th></th>\n",
       "      <th>Assets</th>\n",
       "      <th>Allocation</th>\n",
       "    </tr>\n",
       "  </thead>\n",
       "  <tbody>\n",
       "    <tr>\n",
       "      <th>0</th>\n",
       "      <td>MSFT</td>\n",
       "      <td>0.4854</td>\n",
       "    </tr>\n",
       "    <tr>\n",
       "      <th>1</th>\n",
       "      <td>AAPL</td>\n",
       "      <td>0.3006</td>\n",
       "    </tr>\n",
       "    <tr>\n",
       "      <th>2</th>\n",
       "      <td>ZM</td>\n",
       "      <td>0.2139</td>\n",
       "    </tr>\n",
       "  </tbody>\n",
       "</table>\n",
       "</div>"
      ],
      "text/plain": [
       "  Assets  Allocation\n",
       "0   MSFT      0.4854\n",
       "1   AAPL      0.3006\n",
       "2     ZM      0.2139"
      ]
     },
     "metadata": {},
     "output_type": "display_data"
    },
    {
     "data": {
      "image/png": "[encoded data removed]",
      "text/plain": [
       "<Figure size 432x288 with 1 Axes>"
      ]
     },
     "metadata": {
      "needs_background": "light"
     },
     "output_type": "display_data"
    },
    {
     "data": {
      "image/png": "[encoded data removed]",
      "text/plain": [
       "<Figure size 432x288 with 1 Axes>"
      ]
     },
     "metadata": {
      "needs_background": "light"
     },
     "output_type": "display_data"
    },
    {
     "data": {
      "image/png": "[encoded data removed]",
      "text/plain": [
       "<Figure size 432x288 with 1 Axes>"
      ]
     },
     "metadata": {
      "needs_background": "light"
     },
     "output_type": "display_data"
    }
   ],
   "source": [
    "test_rpp = RiskParity(cov_mat_3, assets)\n",
    "test_rpp.optimize()\n",
    "test_rpp.cal_risk_stats()\n",
    "test_rpp.visualise_risk_stats()"
   ]
  },
  {
   "cell_type": "code",
   "execution_count": 25,
   "metadata": {
    "scrolled": true
   },
   "outputs": [
    {
     "name": "stdout",
     "output_type": "stream",
     "text": [
      "{\"prices\":[{\"date\":1562074200,\"open\":74.29000091552734,\"high\":74.47000122070312,\"low\":74.1500015258789,\"close\":74.47000122070312,\"volume\":3807100,\"adjclose\":72.96245574951172},{\"date\":1561987800,\"open\":74.5,\"high\":74.63999938964844,\"low\":74.04000091552734,\"close\":74.29000091552734,\"volume\":2812100,\"adjclose\":72.78610229492188},{\"date\":1561728600,\"open\":73.61000061035156,\"high\":73.77999877929688,\"low\":73.5,\"close\":73.70999908447266,\"volume\":2653100,\"adjclose\":72.21783447265625},{\"date\":1561642200,\"open\":73.30999755859375,\"high\":73.47000122070312,\"low\":73.23999786376953,\"close\":73.4000015258789,\"volume\":1761300,\"adjclose\":71.91411590576172},{\"date\":1561555800,\"open\":73.31999969482422,\"high\":73.44000244140625,\"low\":73.08000183105469,\"close\":73.12000274658203,\"volume\":2500700,\"adjclose\":71.63978576660156},{\"date\":1561469400,\"open\":73.66999816894531,\"high\":73.69999694824219,\"low\":73.0199966430664,\"close\":73.06999969482422,\"volume\":3736200,\"adjclose\":71.59078979492188},{\"date\":1561383000,\"open\":73.83000183105469,\"high\":73.88999938964844,\"low\":73.66000366210938,\"close\":73.66000366210938,\"volume\":1265800,\"adjclose\":72.16885375976562},{\"date\":1561123800,\"open\":73.69999694824219,\"high\":74,\"low\":73.66000366210938,\"close\":73.73999786376953,\"volume\":1718300,\"adjclose\":72.24722290039062},{\"date\":1561037400,\"open\":73.97000122070312,\"high\":74.06999969482422,\"low\":73.4800033569336,\"close\":73.94000244140625,\"volume\":1740500,\"adjclose\":72.44318389892578},{\"date\":1560951000,\"open\":72.97000122070312,\"high\":73.26000213623047,\"low\":72.76000213623047,\"close\":73.11000061035156,\"volume\":5488500,\"adjclose\":71.62998962402344},{\"date\":1560864600,\"open\":72.44000244140625,\"high\":73.02999877929688,\"low\":72.44000244140625,\"close\":72.87000274658203,\"volume\":7473400,\"adjclose\":71.39485168457031},{\"date\":1560778200,\"open\":71.94999694824219,\"high\":72.08999633789062,\"low\":71.8499984741211,\"close\":71.94000244140625,\"volume\":1088000,\"adjclose\":70.48367309570312},{\"amount\":0.906,\"date\":1560778200,\"type\":\"DIVIDEND\",\"data\":0.906},{\"date\":1560519000,\"open\":72.8499984741211,\"high\":72.87999725341797,\"low\":72.6500015258789,\"close\":72.77999877929688,\"volume\":2140700,\"adjclose\":70.41900634765625},{\"date\":1560432600,\"open\":73.12000274658203,\"high\":73.22000122070312,\"low\":72.87999725341797,\"close\":73.0999984741211,\"volume\":1056200,\"adjclose\":70.7286148071289},{\"date\":1560346200,\"open\":73.0199966430664,\"high\":73.13999938964844,\"low\":72.83000183105469,\"close\":72.8499984741211,\"volume\":853100,\"adjclose\":70.48673248291016},{\"date\":1560259800,\"open\":73.61000061035156,\"high\":73.73999786376953,\"low\":73.08000183105469,\"close\":73.2699966430664,\"volume\":2006600,\"adjclose\":70.89310455322266},{\"date\":1560173400,\"open\":73.06999969482422,\"high\":73.44000244140625,\"low\":73.05000305175781,\"close\":73.05999755859375,\"volume\":2629300,\"adjclose\":70.6899185180664},{\"date\":1559914200,\"open\":72.29000091552734,\"high\":72.98999786376953,\"low\":72.29000091552734,\"close\":72.75,\"volume\":1991900,\"adjclose\":70.38998413085938},{\"date\":1559827800,\"open\":71.69999694824219,\"high\":72.11000061035156,\"low\":71.52999877929688,\"close\":71.98999786376953,\"volume\":2228900,\"adjclose\":69.65463256835938},{\"date\":1559741400,\"open\":71.66999816894531,\"high\":71.68000030517578,\"low\":71.19000244140625,\"close\":71.61000061035156,\"volume\":2512200,\"adjclose\":69.28695678710938},{\"date\":1559655000,\"open\":70.66999816894531,\"high\":71.36000061035156,\"low\":70.5199966430664,\"close\":71.36000061035156,\"volume\":4660300,\"adjclose\":69.04507446289062},{\"date\":1559568600,\"open\":70.18000030517578,\"high\":71.77999877929688,\"low\":69.88999938964844,\"close\":70.22000122070312,\"volume\":6591200,\"adjclose\":67.94204711914062},{\"date\":1559309400,\"open\":70.01000213623047,\"high\":70.3499984741211,\"low\":69.86000061035156,\"close\":70.08999633789062,\"volume\":2542200,\"adjclose\":67.81626892089844},{\"date\":1559223000,\"open\":70.63999938964844,\"high\":70.87999725341797,\"low\":70.5,\"close\":70.77999877929688,\"volume\":4759900,\"adjclose\":68.48389434814453},{\"date\":1559136600,\"open\":70.55000305175781,\"high\":70.68000030517578,\"low\":70.13999938964844,\"close\":70.47000122070312,\"volume\":7753600,\"adjclose\":68.1839370727539},{\"date\":1559050200,\"open\":71.55999755859375,\"high\":71.7699966430664,\"low\":70.87999725341797,\"close\":70.87999725341797,\"volume\":9210400,\"adjclose\":68.58063507080078},{\"date\":1558704600,\"open\":71.58000183105469,\"high\":71.69999694824219,\"low\":71.27999877929688,\"close\":71.48999786376953,\"volume\":890300,\"adjclose\":69.17085266113281},{\"date\":1558618200,\"open\":71.27999877929688,\"high\":71.27999877929688,\"low\":70.80000305175781,\"close\":71.0999984741211,\"volume\":2381100,\"adjclose\":68.79350280761719},{\"date\":1558531800,\"open\":71.94000244140625,\"high\":72.18000030517578,\"low\":71.8499984741211,\"close\":71.91000366210938,\"volume\":1598900,\"adjclose\":69.57723236083984},{\"date\":1558445400,\"open\":72.04000091552734,\"high\":72.29000091552734,\"low\":71.94000244140625,\"close\":72.19999694824219,\"volume\":742800,\"adjclose\":69.85781860351562},{\"date\":1558359000,\"open\":71.62000274658203,\"high\":71.9000015258789,\"low\":71.41000366210938,\"close\":71.55000305175781,\"volume\":956500,\"adjclose\":69.2289047241211},{\"date\":1558099800,\"open\":71.95999908447266,\"high\":72.55999755859375,\"low\":71.94000244140625,\"close\":71.98999786376953,\"volume\":2023600,\"adjclose\":69.65463256835938},{\"date\":1558013400,\"open\":72.19000244140625,\"high\":72.93000030517578,\"low\":72.19000244140625,\"close\":72.54000091552734,\"volume\":1074000,\"adjclose\":70.1867904663086},{\"date\":1557927000,\"open\":71.2699966430664,\"high\":72.18000030517578,\"low\":71.16999816894531,\"close\":72,\"volume\":1995100,\"adjclose\":69.66431427001953},{\"date\":1557840600,\"open\":71.37000274658203,\"high\":72,\"low\":71.33999633789062,\"close\":71.70999908447266,\"volume\":2538700,\"adjclose\":69.38371276855469},{\"date\":1557754200,\"open\":71.41999816894531,\"high\":71.56999969482422,\"low\":70.80000305175781,\"close\":71.05000305175781,\"volume\":2583300,\"adjclose\":68.74513244628906},{\"date\":1557495000,\"open\":72.33999633789062,\"high\":73,\"low\":71.61000061035156,\"close\":72.87999725341797,\"volume\":2358700,\"adjclose\":70.51575469970703},{\"date\":1557408600,\"open\":72.05000305175781,\"high\":72.58000183105469,\"low\":71.63999938964844,\"close\":72.43000030517578,\"volume\":2799700,\"adjclose\":70.08036041259766},{\"date\":1557322200,\"open\":72.79000091552734,\"high\":73.2300033569336,\"low\":72.68000030517578,\"close\":72.80000305175781,\"volume\":3831500,\"adjclose\":70.4383544921875},{\"date\":1557235800,\"open\":73.47000122070312,\"high\":73.52999877929688,\"low\":72.44999694824219,\"close\":72.83999633789062,\"volume\":2985700,\"adjclose\":70.47705841064453},{\"date\":1557149400,\"open\":73.23999786376953,\"high\":74.20999908447266,\"low\":73.20999908447266,\"close\":74.0999984741211,\"volume\":2460600,\"adjclose\":71.69617462158203},{\"date\":1556890200,\"open\":74.33999633789062,\"high\":74.75,\"low\":74.33000183105469,\"close\":74.72000122070312,\"volume\":1628500,\"adjclose\":72.29607391357422},{\"date\":1556803800,\"open\":74.08999633789062,\"high\":74.27999877929688,\"low\":73.63999938964844,\"close\":73.94000244140625,\"volume\":2356200,\"adjclose\":71.54137420654297},{\"date\":1556717400,\"open\":74.69999694824219,\"high\":74.87000274658203,\"low\":74.08000183105469,\"close\":74.11000061035156,\"volume\":2759800,\"adjclose\":71.70586395263672},{\"date\":1556631000,\"open\":74.4800033569336,\"high\":74.66999816894531,\"low\":74.16000366210938,\"close\":74.62000274658203,\"volume\":1468800,\"adjclose\":72.19932556152344},{\"date\":1556544600,\"open\":74.41000366210938,\"high\":74.68000030517578,\"low\":74.37999725341797,\"close\":74.55000305175781,\"volume\":1511900,\"adjclose\":72.131591796875},{\"date\":1556285400,\"open\":74.12999725341797,\"high\":74.38999938964844,\"low\":73.95999908447266,\"close\":74.37000274658203,\"volume\":1497000,\"adjclose\":71.95742797851562},{\"date\":1556199000,\"open\":74.02999877929688,\"high\":74.16999816894531,\"low\":73.73999786376953,\"close\":74.08999633789062,\"volume\":2909700,\"adjclose\":71.6865005493164},{\"date\":1556112600,\"open\":74.33999633789062,\"high\":74.36000061035156,\"low\":74.05999755859375,\"close\":74.11000061035156,\"volume\":3025400,\"adjclose\":71.70586395263672},{\"date\":1556026200,\"open\":74.11000061035156,\"high\":74.56999969482422,\"low\":74.02999877929688,\"close\":74.5199966430664,\"volume\":685800,\"adjclose\":72.10255432128906},{\"date\":1555939800,\"open\":73.83999633789062,\"high\":74.12000274658203,\"low\":73.83999633789062,\"close\":74.12000274658203,\"volume\":1286500,\"adjclose\":71.71553802490234},{\"date\":1555594200,\"open\":74.0999984741211,\"high\":74.19999694824219,\"low\":73.8499984741211,\"close\":74.12999725341797,\"volume\":2703600,\"adjclose\":71.72520446777344},{\"date\":1555507800,\"open\":74.43000030517578,\"high\":74.44999694824219,\"low\":73.9800033569336,\"close\":74.11000061035156,\"volume\":2266500,\"adjclose\":71.70586395263672},{\"date\":1555421400,\"open\":74.25,\"high\":74.2699966430664,\"low\":73.98999786376953,\"close\":74.08000183105469,\"volume\":1637000,\"adjclose\":71.67683410644531},{\"date\":1555335000,\"open\":74.08999633789062,\"high\":74.08999633789062,\"low\":73.77999877929688,\"close\":74,\"volume\":1522800,\"adjclose\":71.59942626953125},{\"date\":1555075800,\"open\":74.01000213623047,\"high\":74.13999938964844,\"low\":73.9000015258789,\"close\":74.02999877929688,\"volume\":1460400,\"adjclose\":71.62845611572266},{\"date\":1554989400,\"open\":73.68000030517578,\"high\":73.69999694824219,\"low\":73.41000366210938,\"close\":73.51000213623047,\"volume\":1257600,\"adjclose\":71.12532806396484},{\"date\":1554903000,\"open\":73.55000305175781,\"high\":73.73999786376953,\"low\":73.45999908447266,\"close\":73.73999786376953,\"volume\":1573000,\"adjclose\":71.34786224365234},{\"date\":1554816600,\"open\":73.61000061035156,\"high\":73.61000061035156,\"low\":73.33000183105469,\"close\":73.43000030517578,\"volume\":1170200,\"adjclose\":71.04791259765625},{\"date\":1554730200,\"open\":73.66000366210938,\"high\":73.81999969482422,\"low\":73.4800033569336,\"close\":73.81999969482422,\"volume\":1006600,\"adjclose\":71.4252700805664},{\"date\":1554471000,\"open\":73.56999969482422,\"high\":73.75,\"low\":73.48999786376953,\"close\":73.7300033569336,\"volume\":1064000,\"adjclose\":71.33818817138672},{\"date\":1554384600,\"open\":73.30000305175781,\"high\":73.47000122070312,\"low\":73.19999694824219,\"close\":73.44999694824219,\"volume\":1991000,\"adjclose\":71.06726837158203},{\"date\":1554298200,\"open\":73.41000366210938,\"high\":73.63999938964844,\"low\":73.18000030517578,\"close\":73.33999633789062,\"volume\":3175500,\"adjclose\":70.96083068847656},{\"date\":1554211800,\"open\":73.02999877929688,\"high\":73.05999755859375,\"low\":72.7699966430664,\"close\":73,\"volume\":1889700,\"adjclose\":70.63187408447266},{\"date\":1554125400,\"open\":72.76000213623047,\"high\":73.06999969482422,\"low\":72.68000030517578,\"close\":73.02999877929688,\"volume\":2565200,\"adjclose\":70.66089630126953},{\"date\":1553866200,\"open\":72.11000061035156,\"high\":72.16000366210938,\"low\":71.7699966430664,\"close\":72.1500015258789,\"volume\":3205800,\"adjclose\":69.8094482421875},{\"date\":1553779800,\"open\":71.55000305175781,\"high\":71.76000213623047,\"low\":71.30000305175781,\"close\":71.69999694824219,\"volume\":1878100,\"adjclose\":69.37403106689453},{\"date\":1553693400,\"open\":71.81999969482422,\"high\":71.94000244140625,\"low\":71.08999633789062,\"close\":71.48999786376953,\"volume\":2407800,\"adjclose\":69.17085266113281},{\"date\":1553607000,\"open\":71.79000091552734,\"high\":72.06999969482422,\"low\":71.51000213623047,\"close\":71.81999969482422,\"volume\":2033200,\"adjclose\":69.49015045166016},{\"date\":1553520600,\"open\":71.27999877929688,\"high\":71.55999755859375,\"low\":71.0199966430664,\"close\":71.33000183105469,\"volume\":4008400,\"adjclose\":69.01604461669922},{\"date\":1553261400,\"open\":72.23999786376953,\"high\":72.3499984741211,\"low\":71.33000183105469,\"close\":71.33999633789062,\"volume\":4214500,\"adjclose\":69.02571868896484},{\"date\":1553175000,\"open\":72.08000183105469,\"high\":72.88999938964844,\"low\":72.04000091552734,\"close\":72.8499984741211,\"volume\":2173200,\"adjclose\":70.48673248291016},{\"date\":1553088600,\"open\":72.36000061035156,\"high\":72.83000183105469,\"low\":71.94999694824219,\"close\":72.33999633789062,\"volume\":4063800,\"adjclose\":69.99327850341797},{\"date\":1553002200,\"open\":72.72000122070312,\"high\":72.87999725341797,\"low\":72.29000091552734,\"close\":72.5199966430664,\"volume\":4977800,\"adjclose\":70.16743469238281},{\"date\":1552915800,\"open\":72.16000366210938,\"high\":72.45999908447266,\"low\":72.12000274658203,\"close\":72.45999908447266,\"volume\":1392000,\"adjclose\":70.10938262939453},{\"date\":1552656600,\"open\":71.80999755859375,\"high\":72.19000244140625,\"low\":71.77999877929688,\"close\":72.05999755859375,\"volume\":3079900,\"adjclose\":69.72235870361328},{\"date\":1552570200,\"open\":71.5199966430664,\"high\":71.61000061035156,\"low\":71.37000274658203,\"close\":71.4800033569336,\"volume\":1564200,\"adjclose\":69.16118621826172},{\"date\":1552483800,\"open\":71.3499984741211,\"high\":71.72000122070312,\"low\":71.30999755859375,\"close\":71.55000305175781,\"volume\":3341200,\"adjclose\":69.2289047241211},{\"date\":1552397400,\"open\":71,\"high\":71.22000122070312,\"low\":70.97000122070312,\"close\":71.13999938964844,\"volume\":6770500,\"adjclose\":68.83220672607422},{\"date\":1552311000,\"open\":70.16000366210938,\"high\":70.91000366210938,\"low\":70.16000366210938,\"close\":70.87000274658203,\"volume\":1635700,\"adjclose\":68.57096862792969},{\"date\":1552055400,\"open\":69.56999969482422,\"high\":69.9800033569336,\"low\":69.5,\"close\":69.94000244140625,\"volume\":3024800,\"adjclose\":67.671142578125},{\"date\":1551969000,\"open\":70.70999908447266,\"high\":70.70999908447266,\"low\":69.95999908447266,\"close\":70.12000274658203,\"volume\":3671300,\"adjclose\":67.84530639648438},{\"date\":1551882600,\"open\":71.29000091552734,\"high\":71.29000091552734,\"low\":70.83000183105469,\"close\":70.86000061035156,\"volume\":2935400,\"adjclose\":68.56129455566406},{\"date\":1551796200,\"open\":71.26000213623047,\"high\":71.38999938964844,\"low\":71.05000305175781,\"close\":71.20999908447266,\"volume\":2561500,\"adjclose\":68.89993286132812},{\"date\":1551709800,\"open\":71.69000244140625,\"high\":71.70999908447266,\"low\":70.66999816894531,\"close\":71.19999694824219,\"volume\":3677900,\"adjclose\":68.89025115966797},{\"date\":1551450600,\"open\":71.48999786376953,\"high\":71.58000183105469,\"low\":71.12000274658203,\"close\":71.41000366210938,\"volume\":4186600,\"adjclose\":69.09345245361328},{\"date\":1551364200,\"open\":71.16999816894531,\"high\":71.26000213623047,\"low\":70.95999908447266,\"close\":71.02999877929688,\"volume\":7012700,\"adjclose\":68.72577667236328},{\"date\":1551277800,\"open\":71.29000091552734,\"high\":71.41999816894531,\"low\":70.98999786376953,\"close\":71.27999877929688,\"volume\":1956700,\"adjclose\":68.96765899658203},{\"date\":1551191400,\"open\":71.29000091552734,\"high\":71.63999938964844,\"low\":71.27999877929688,\"close\":71.43000030517578,\"volume\":1988300,\"adjclose\":69.11280059814453},{\"date\":1551105000,\"open\":71.62999725341797,\"high\":71.75,\"low\":71.37000274658203,\"close\":71.37999725341797,\"volume\":1959700,\"adjclose\":69.06441497802734},{\"date\":1550845800,\"open\":71,\"high\":71.2699966430664,\"low\":70.93000030517578,\"close\":71.19999694824219,\"volume\":1467400,\"adjclose\":68.89025115966797},{\"date\":1550759400,\"open\":70.87999725341797,\"high\":70.87999725341797,\"low\":70.5199966430664,\"close\":70.7699966430664,\"volume\":2037700,\"adjclose\":68.47420501708984},{\"date\":1550673000,\"open\":70.79000091552734,\"high\":71.13999938964844,\"low\":70.76000213623047,\"close\":70.94000244140625,\"volume\":1790300,\"adjclose\":68.63870239257812},{\"date\":1550586600,\"open\":70.33000183105469,\"high\":70.88999938964844,\"low\":70.30000305175781,\"close\":70.75,\"volume\":939000,\"adjclose\":68.45486450195312},{\"date\":1550241000,\"open\":70.2699966430664,\"high\":70.51000213623047,\"low\":70.19000244140625,\"close\":70.51000213623047,\"volume\":2482800,\"adjclose\":68.22264862060547},{\"date\":1550154600,\"open\":69.63999938964844,\"high\":70.06999969482422,\"low\":69.45999908447266,\"close\":69.79000091552734,\"volume\":5637300,\"adjclose\":67.52600860595703},{\"date\":1550068200,\"open\":69.95999908447266,\"high\":70.16000366210938,\"low\":69.81999969482422,\"close\":69.83000183105469,\"volume\":2355700,\"adjclose\":67.56470489501953},{\"date\":1549981800,\"open\":69.44999694824219,\"high\":69.87000274658203,\"low\":69.44999694824219,\"close\":69.79000091552734,\"volume\":2141700,\"adjclose\":67.52600860595703},{\"date\":1549895400,\"open\":69.12000274658203,\"high\":69.18000030517578,\"low\":68.81999969482422,\"close\":68.94000244140625,\"volume\":2323100,\"adjclose\":66.70358276367188},{\"date\":1549636200,\"open\":68.73999786376953,\"high\":69.02999877929688,\"low\":68.43000030517578,\"close\":69.02999877929688,\"volume\":3991200,\"adjclose\":66.79065704345703},{\"date\":1549549800,\"open\":69.4000015258789,\"high\":69.44999694824219,\"low\":68.69000244140625,\"close\":69.05000305175781,\"volume\":3067000,\"adjclose\":66.81001281738281},{\"date\":1549463400,\"open\":69.97000122070312,\"high\":70.0199966430664,\"low\":69.69000244140625,\"close\":69.77999877929688,\"volume\":4517600,\"adjclose\":67.51632690429688},{\"date\":1549377000,\"open\":69.86000061035156,\"high\":70.11000061035156,\"low\":69.80999755859375,\"close\":70.05000305175781,\"volume\":4445100,\"adjclose\":67.7775650024414},{\"date\":1549290600,\"open\":69.22000122070312,\"high\":69.63999938964844,\"low\":69.04000091552734,\"close\":69.63999938964844,\"volume\":2342900,\"adjclose\":67.38086700439453},{\"date\":1549031400,\"open\":69.30999755859375,\"high\":69.45999908447266,\"low\":69.08000183105469,\"close\":69.23999786376953,\"volume\":4794400,\"adjclose\":66.99384307861328},{\"date\":1548945000,\"open\":68.91000366210938,\"high\":69.41999816894531,\"low\":68.80000305175781,\"close\":69.31999969482422,\"volume\":5528500,\"adjclose\":67.07124328613281},{\"date\":1548858600,\"open\":68.26000213623047,\"high\":69.11000061035156,\"low\":68.06999969482422,\"close\":68.87000274658203,\"volume\":4186000,\"adjclose\":66.63584899902344},{\"date\":1548772200,\"open\":68.08000183105469,\"high\":68.18000030517578,\"low\":67.7699966430664,\"close\":67.91000366210938,\"volume\":3944000,\"adjclose\":65.70699310302734},{\"date\":1548685800,\"open\":67.83000183105469,\"high\":67.9000015258789,\"low\":67.44000244140625,\"close\":67.9000015258789,\"volume\":9778000,\"adjclose\":65.69731903076172},{\"date\":1548426600,\"open\":68.22000122070312,\"high\":68.5,\"low\":68.1500015258789,\"close\":68.37000274658203,\"volume\":5303400,\"adjclose\":66.15206909179688},{\"date\":1548340200,\"open\":67.5,\"high\":67.73999786376953,\"low\":67.30999755859375,\"close\":67.62000274658203,\"volume\":4520900,\"adjclose\":65.42639923095703},{\"date\":1548253800,\"open\":67.69999694824219,\"high\":67.80000305175781,\"low\":66.95999908447266,\"close\":67.5,\"volume\":4049500,\"adjclose\":65.31028747558594},{\"date\":1548167400,\"open\":67.66999816894531,\"high\":67.76000213623047,\"low\":66.94000244140625,\"close\":67.33000183105469,\"volume\":7538200,\"adjclose\":65.14580535888672},{\"date\":1547821800,\"open\":68.0199966430664,\"high\":68.36000061035156,\"low\":67.81999969482422,\"close\":68.2300033569336,\"volume\":5224300,\"adjclose\":66.01660919189453},{\"date\":1547735400,\"open\":66.80000305175781,\"high\":67.69999694824219,\"low\":66.73999786376953,\"close\":67.5199966430664,\"volume\":3570900,\"adjclose\":65.32963562011719},{\"date\":1547649000,\"open\":67,\"high\":67.26000213623047,\"low\":66.94000244140625,\"close\":67.02999877929688,\"volume\":4148500,\"adjclose\":64.85553741455078},{\"date\":1547562600,\"open\":66.43000030517578,\"high\":66.91999816894531,\"low\":66.43000030517578,\"close\":66.83999633789062,\"volume\":4393300,\"adjclose\":64.67169189453125},{\"date\":1547476200,\"open\":66.1500015258789,\"high\":66.47000122070312,\"low\":66.0199966430664,\"close\":66.23999786376953,\"volume\":4467500,\"adjclose\":64.09117126464844},{\"date\":1547217000,\"open\":66.41000366210938,\"high\":66.66000366210938,\"low\":66.27999877929688,\"close\":66.62000274658203,\"volume\":15803900,\"adjclose\":64.4588394165039},{\"date\":1547130600,\"open\":66.22000122070312,\"high\":66.86000061035156,\"low\":66.08000183105469,\"close\":66.86000061035156,\"volume\":3110900,\"adjclose\":64.69104766845703},{\"date\":1547044200,\"open\":66.33000183105469,\"high\":66.7699966430664,\"low\":66.12999725341797,\"close\":66.55000305175781,\"volume\":3461600,\"adjclose\":64.39111328125},{\"date\":1546957800,\"open\":65.94999694824219,\"high\":66.0999984741211,\"low\":65.45999908447266,\"close\":65.94000244140625,\"volume\":4535800,\"adjclose\":63.800899505615234},{\"date\":1546871400,\"open\":65.11000061035156,\"high\":65.77999877929688,\"low\":64.93000030517578,\"close\":65.45999908447266,\"volume\":3630900,\"adjclose\":63.33646774291992},{\"date\":1546612200,\"open\":63.91999816894531,\"high\":65.2300033569336,\"low\":63.849998474121094,\"close\":65.05999755859375,\"volume\":6289000,\"adjclose\":62.94944381713867},{\"date\":1546525800,\"open\":63.75,\"high\":63.79999923706055,\"low\":62.90999984741211,\"close\":63.04999923706055,\"volume\":5111900,\"adjclose\":61.00464630126953},{\"date\":1546439400,\"open\":63.279998779296875,\"high\":64.30000305175781,\"low\":63.16999816894531,\"close\":64.13999938964844,\"volume\":6642200,\"adjclose\":62.05928421020508}],\"isPending\":false,\"firstTradeDate\":1206711000,\"id\":\"1d15464484001562086800\",\"timeZone\":{\"gmtOffset\":-14400},\"eventsData\":[{\"amount\":0.906,\"date\":1560778200,\"type\":\"DIVIDEND\",\"data\":0.906}]}\n"
     ]
    }
   ],
   "source": [
    "import requests\n",
    "\n",
    "url = \"https://apidojo-yahoo-finance-v1.p.rapidapi.com/stock/v2/get-historical-data\"\n",
    "\n",
    "querystring = {\"frequency\":\"1d\",\"filter\":\"history\",\"period1\":\"1546448400\",\"period2\":\"1562086800\",\"symbol\":\"ACWI\"}\n",
    "\n",
    "headers = {\n",
    "    'x-rapidapi-host': \"apidojo-yahoo-finance-v1.p.rapidapi.com\",\n",
    "    'x-rapidapi-key': \"0d85196943mshb6828091ff3fedap147d34jsnee33a93be78a\"\n",
    "    }\n",
    "\n",
    "response = requests.request(\"GET\", url, headers=headers, params=querystring)"
   ]
  },
  {
   "cell_type": "code",
   "execution_count": 35,
   "metadata": {},
   "outputs": [],
   "source": [
    "response_json_2 = json.loads(response.text)\n",
    "response_json_2['prices'][0]\n",
    "adj_close_list = []\n",
    "for index in range(len(response_json_2['prices'])):\n",
    "    if len(response_json_2['prices'][index]) == 7:\n",
    "        adj_close = response_json_2['prices'][index]['adjclose']\n",
    "        adj_close_list.append(adj_close)"
   ]
  },
  {
   "cell_type": "code",
   "execution_count": 34,
   "metadata": {},
   "outputs": [
    {
     "data": {
      "text/plain": [
       "True"
      ]
     },
     "execution_count": 34,
     "metadata": {},
     "output_type": "execute_result"
    }
   ],
   "source": [
    "len(response_json_2['prices'][1]) == 7"
   ]
  },
  {
   "cell_type": "code",
   "execution_count": 37,
   "metadata": {
    "scrolled": true
   },
   "outputs": [
    {
     "data": {
      "text/plain": [
       "[72.96245574951172,\n",
       " 72.78610229492188,\n",
       " 72.21783447265625,\n",
       " 71.91411590576172,\n",
       " 71.63978576660156,\n",
       " 71.59078979492188,\n",
       " 72.16885375976562,\n",
       " 72.24722290039062,\n",
       " 72.44318389892578,\n",
       " 71.62998962402344,\n",
       " 71.39485168457031,\n",
       " 70.48367309570312,\n",
       " 70.41900634765625,\n",
       " 70.7286148071289,\n",
       " 70.48673248291016,\n",
       " 70.89310455322266,\n",
       " 70.6899185180664,\n",
       " 70.38998413085938,\n",
       " 69.65463256835938,\n",
       " 69.28695678710938,\n",
       " 69.04507446289062,\n",
       " 67.94204711914062,\n",
       " 67.81626892089844,\n",
       " 68.48389434814453,\n",
       " 68.1839370727539,\n",
       " 68.58063507080078,\n",
       " 69.17085266113281,\n",
       " 68.79350280761719,\n",
       " 69.57723236083984,\n",
       " 69.85781860351562,\n",
       " 69.2289047241211,\n",
       " 69.65463256835938,\n",
       " 70.1867904663086,\n",
       " 69.66431427001953,\n",
       " 69.38371276855469,\n",
       " 68.74513244628906,\n",
       " 70.51575469970703,\n",
       " 70.08036041259766,\n",
       " 70.4383544921875,\n",
       " 70.47705841064453,\n",
       " 71.69617462158203,\n",
       " 72.29607391357422,\n",
       " 71.54137420654297,\n",
       " 71.70586395263672,\n",
       " 72.19932556152344,\n",
       " 72.131591796875,\n",
       " 71.95742797851562,\n",
       " 71.6865005493164,\n",
       " 71.70586395263672,\n",
       " 72.10255432128906,\n",
       " 71.71553802490234,\n",
       " 71.72520446777344,\n",
       " 71.70586395263672,\n",
       " 71.67683410644531,\n",
       " 71.59942626953125,\n",
       " 71.62845611572266,\n",
       " 71.12532806396484,\n",
       " 71.34786224365234,\n",
       " 71.04791259765625,\n",
       " 71.4252700805664,\n",
       " 71.33818817138672,\n",
       " 71.06726837158203,\n",
       " 70.96083068847656,\n",
       " 70.63187408447266,\n",
       " 70.66089630126953,\n",
       " 69.8094482421875,\n",
       " 69.37403106689453,\n",
       " 69.17085266113281,\n",
       " 69.49015045166016,\n",
       " 69.01604461669922,\n",
       " 69.02571868896484,\n",
       " 70.48673248291016,\n",
       " 69.99327850341797,\n",
       " 70.16743469238281,\n",
       " 70.10938262939453,\n",
       " 69.72235870361328,\n",
       " 69.16118621826172,\n",
       " 69.2289047241211,\n",
       " 68.83220672607422,\n",
       " 68.57096862792969,\n",
       " 67.671142578125,\n",
       " 67.84530639648438,\n",
       " 68.56129455566406,\n",
       " 68.89993286132812,\n",
       " 68.89025115966797,\n",
       " 69.09345245361328,\n",
       " 68.72577667236328,\n",
       " 68.96765899658203,\n",
       " 69.11280059814453,\n",
       " 69.06441497802734,\n",
       " 68.89025115966797,\n",
       " 68.47420501708984,\n",
       " 68.63870239257812,\n",
       " 68.45486450195312,\n",
       " 68.22264862060547,\n",
       " 67.52600860595703,\n",
       " 67.56470489501953,\n",
       " 67.52600860595703,\n",
       " 66.70358276367188,\n",
       " 66.79065704345703,\n",
       " 66.81001281738281,\n",
       " 67.51632690429688,\n",
       " 67.7775650024414,\n",
       " 67.38086700439453,\n",
       " 66.99384307861328,\n",
       " 67.07124328613281,\n",
       " 66.63584899902344,\n",
       " 65.70699310302734,\n",
       " 65.69731903076172,\n",
       " 66.15206909179688,\n",
       " 65.42639923095703,\n",
       " 65.31028747558594,\n",
       " 65.14580535888672,\n",
       " 66.01660919189453,\n",
       " 65.32963562011719,\n",
       " 64.85553741455078,\n",
       " 64.67169189453125,\n",
       " 64.09117126464844,\n",
       " 64.4588394165039,\n",
       " 64.69104766845703,\n",
       " 64.39111328125,\n",
       " 63.800899505615234,\n",
       " 63.33646774291992,\n",
       " 62.94944381713867,\n",
       " 61.00464630126953,\n",
       " 62.05928421020508]"
      ]
     },
     "execution_count": 37,
     "metadata": {},
     "output_type": "execute_result"
    }
   ],
   "source": [
    "adj_close_list"
   ]
  }
 ],
 "metadata": {
  "kernelspec": {
   "display_name": "Python 3",
   "language": "python",
   "name": "python3"
  },
  "language_info": {
   "codemirror_mode": {
    "name": "ipython",
    "version": 3
   },
   "file_extension": ".py",
   "mimetype": "text/x-python",
   "name": "python",
   "nbconvert_exporter": "python",
   "pygments_lexer": "ipython3",
   "version": "3.8.3"
  }
 },
 "nbformat": 4,
 "nbformat_minor": 4
}
